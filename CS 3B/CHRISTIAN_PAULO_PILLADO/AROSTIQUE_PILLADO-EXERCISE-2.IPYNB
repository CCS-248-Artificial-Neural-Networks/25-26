{
 "cells": [
  {
   "cell_type": "markdown",
   "id": "96db70c8",
   "metadata": {},
   "source": [
    "b)\tGiven the following inputs from the Breast Cancer Dataset, using three features: Mean Radius, Mean Texture, and Mean Smoothness, determine whether the tumor is Benign (0) or Malignant (1) by calculating the network outputs step by step, given the following neural network configuration:"
   ]
  },
  {
   "cell_type": "code",
   "execution_count": 1,
   "id": "b0489dd1",
   "metadata": {},
   "outputs": [
    {
     "ename": "ModuleNotFoundError",
     "evalue": "No module named 'numpy'",
     "output_type": "error",
     "traceback": [
      "\u001b[1;31m---------------------------------------------------------------------------\u001b[0m",
      "\u001b[1;31mModuleNotFoundError\u001b[0m                       Traceback (most recent call last)",
      "Cell \u001b[1;32mIn[1], line 2\u001b[0m\n\u001b[0;32m      1\u001b[0m \u001b[38;5;66;03m# Library\u001b[39;00m\n\u001b[1;32m----> 2\u001b[0m \u001b[38;5;28;01mimport\u001b[39;00m\u001b[38;5;250m \u001b[39m\u001b[38;5;21;01mnumpy\u001b[39;00m\u001b[38;5;250m \u001b[39m\u001b[38;5;28;01mas\u001b[39;00m\u001b[38;5;250m \u001b[39m\u001b[38;5;21;01mnp\u001b[39;00m\n",
      "\u001b[1;31mModuleNotFoundError\u001b[0m: No module named 'numpy'"
     ]
    }
   ],
   "source": [
    "# Library\n",
    "import numpy as np"
   ]
  },
  {
   "cell_type": "code",
   "execution_count": 101,
   "id": "623b430a",
   "metadata": {},
   "outputs": [],
   "source": [
    "# Dense_Layer class with methods for setup, forward pass, and loss calculation\n",
    "class Dense_Layer:\n",
    "    def __init__(self):\n",
    "        self.inputs = None\n",
    "        self.weights = None\n",
    "        self.bias = None\n",
    "        self.activation = None\n",
    "        self.output = None\n",
    "\n",
    "    def setup(self, inputs, weights, bias, activation):\n",
    "        \"Accept and set up inputs, weights, bias, and activation function.\"\n",
    "        self.inputs = np.array(inputs)\n",
    "        self.weights = np.array(weights)\n",
    "        self.bias = np.array(bias)\n",
    "        self.activation = activation\n",
    "\n",
    "    def weighted_sum(self):\n",
    "        \"Perform weighted sum + bias.\"\n",
    "        return np.dot(self.inputs, self.weights) + self.bias\n",
    "\n",
    "    def activate(self, x):\n",
    "        \"Apply the selected activation function.\"\n",
    "        #ReLU Function\n",
    "        if self.activation == 'relu':\n",
    "            return np.maximum(0, x)\n",
    "        #Sigmoid Function\n",
    "        elif self.activation == 'sigmoid':\n",
    "            return 1 / (1 + np.exp(-x))\n",
    "        \n",
    "        else:\n",
    "            raise ValueError('Invalid Activation Function')\n",
    "\n",
    "    def forward(self):\n",
    "        \"Complete forward pass: weighted sum + activation.\"\n",
    "        z = self.weighted_sum()\n",
    "        self.output = self.activate(z)\n",
    "        return self.output\n",
    "\n",
    "    def loss(self, target):\n",
    "        \"Calculate categorical cross-entropy loss.\"\n",
    "        predicted = np.array(self.output)\n",
    "        target = np.array(target)\n",
    "        predicted = np.clip(predicted, 1e-9, 1 - 1e-9)\n",
    "        return -np.sum(target * np.log(predicted))"
   ]
  },
  {
   "cell_type": "code",
   "execution_count": 102,
   "id": "31d95716",
   "metadata": {},
   "outputs": [],
   "source": [
    "# Input values for Breast Cancer dataset\n",
    "breastC_input = [14.1, 20.3, 0.095]  # Features: Mean Radius, Mean Texture, and Mean Smoothness \n",
    "target_output = [1]    # Target output"
   ]
  },
  {
   "cell_type": "code",
   "execution_count": 103,
   "id": "46965d64",
   "metadata": {},
   "outputs": [
    {
     "name": "stdout",
     "output_type": "stream",
     "text": [
      "First layer weighted sum: [11.3435  3.4755 -0.2905]\n",
      "\n",
      "First layer output (ReLU): [11.3435  3.4755  0.    ]\n"
     ]
    }
   ],
   "source": [
    "# First hidden layer (ReLU activation)\n",
    "# Weights and bias for first layer\n",
    "W1 = [[0.5, -0.3, 0.8],\n",
    "      [0.2, 0.4, -0.6],\n",
    "      [-0.7, 0.9, 0.1]]\n",
    "\n",
    "B1 = [0.3, -0.5, 0.6]\n",
    "\n",
    "layer1 = Dense_Layer()\n",
    "layer1.setup(breastC_input, W1, B1, 'relu')\n",
    "\n",
    "#Weighted sum\n",
    "z1 = layer1.weighted_sum()\n",
    "print('First layer weighted sum:', z1)\n",
    "\n",
    "#Activation function\n",
    "output1 = layer1.activate(z1)\n",
    "print('\\nFirst layer output (ReLU):', output1)"
   ]
  },
  {
   "cell_type": "code",
   "execution_count": 104,
   "id": "c37d02a8",
   "metadata": {},
   "outputs": [
    {
     "name": "stdout",
     "output_type": "stream",
     "text": [
      "Second layer weighted sum: [ 5.86345 -1.33095]\n",
      "\n",
      "Second layer output (Sigmoid): [0.99716663 0.20900227]\n"
     ]
    }
   ],
   "source": [
    "# Second hidden layer (Sigmoid activation)\n",
    "# Weights and bias for second layer\n",
    "W2 = [[0.6, -0.2],\n",
    "      [-0.3, 0.5],\n",
    "      [0.4, 0.7]]\n",
    "\n",
    "B2 = [0.1, -0.8]\n",
    "\n",
    "layer2 = Dense_Layer()\n",
    "layer2.setup(output1, W2, B2, 'sigmoid')\n",
    "\n",
    "#Weighted sum\n",
    "z2 = layer2.weighted_sum()\n",
    "print('Second layer weighted sum:', z2)\n",
    "\n",
    "#Activation function\n",
    "output2 = layer2.activate(z2)\n",
    "print('\\nSecond layer output (Sigmoid):', output2)"
   ]
  },
  {
   "cell_type": "code",
   "execution_count": null,
   "id": "2e2c8d57",
   "metadata": {},
   "outputs": [
    {
     "name": "stdout",
     "output_type": "stream",
     "text": [
      "Output layer weighted sum: [0.79351551]\n",
      "\n",
      "Output layer (Sigmoid): [0.68858568]\n",
      "\n",
      "Probability distribution (%):  [68.85856788]\n"
     ]
    }
   ],
   "source": [
    "# Output layer (Sigmoid activation)\n",
    "# Weights and bias for output layer\n",
    "W3 = [[0.7],\n",
    "      [-0.5]]\n",
    "\n",
    "B3 = [0.2]\n",
    "\n",
    "layer3 = Dense_Layer()\n",
    "layer3.setup(output2, W3, B3, 'sigmoid')\n",
    "\n",
    "#Weighted sum\n",
    "z3 = layer3.weighted_sum()\n",
    "print('Output layer weighted sum:', z3)\n",
    "\n",
    "#Activation function\n",
    "output = layer3.forward()\n",
    "print('\\nOutput layer (Sigmoid):', output)\n",
    "\n",
    "#Neural network Output\n",
    "probability_distribution = output * 100 \n",
    "print('\\nProbability distribution (%): ', probability_distribution)"
   ]
  },
  {
   "cell_type": "code",
   "execution_count": 106,
   "id": "ae65a7dc",
   "metadata": {},
   "outputs": [
    {
     "name": "stdout",
     "output_type": "stream",
     "text": [
      "Categorical cross-entropy loss: 0.3731155258314181\n"
     ]
    }
   ],
   "source": [
    "# Loss function (Categorical cross-entropy)\n",
    "loss = layer3.loss(target_output)\n",
    "print('Categorical cross-entropy loss:', loss)"
   ]
  },
  {
   "cell_type": "code",
   "execution_count": 107,
   "id": "da97ee47",
   "metadata": {},
   "outputs": [
    {
     "name": "stdout",
     "output_type": "stream",
     "text": [
      "======================================================================\n",
      "BREAST CANCER CLASSIFICATION RESULTS\n",
      "======================================================================\n",
      "Input measurements (Mean Radius, Mean Texture, and Mean Smoothness):\n",
      "  breastC_input = [14.1, 20.3, 0.095]\n",
      "Target output (Benign(0) or Malignant(1)):\n",
      "  [1]\n",
      "\n",
      "Predicted probability:\n",
      "  Malignant: 0.6886 (68.86%)\n",
      "  Benign: 0.3114 (31.14%)\n",
      "\n",
      "Classification Result:\n",
      "  Predicted Class: Malignant (1)\n",
      "  Confidence: 0.6886 (68.86%)\n",
      "\n",
      "Loss Function (Categorical Cross-Entropy):\n",
      "  Loss: 0.3731\n"
     ]
    }
   ],
   "source": [
    "print(\"=\"*70)\n",
    "print(\"BREAST CANCER CLASSIFICATION RESULTS\")\n",
    "print(\"=\"*70)\n",
    "\n",
    "# Input measurements and target output\n",
    "print(f\"Input measurements (Mean Radius, Mean Texture, and Mean Smoothness):\")\n",
    "print(f\"  breastC_input = {breastC_input}\")\n",
    "print(f\"Target output (Benign(0) or Malignant(1)):\")\n",
    "print(f\"  {target_output}\")\n",
    "\n",
    "# Predicted probability for malignant tumor\n",
    "print(f\"\\nPredicted probability:\")\n",
    "print(f\"  Malignant: {output[0]:.4f} ({output[0]*100:.2f}%)\")\n",
    "print(f\"  Benign: {1-output[0]:.4f} ({(1-output[0])*100:.2f}%)\")\n",
    "\n",
    "# Classification result\n",
    "if output[0] > 0.5:\n",
    "    predicted_class = \"Malignant (1)\"\n",
    "    confidence = output[0]\n",
    "else:\n",
    "    predicted_class = \"Benign (0)\"\n",
    "    confidence = 1 - output[0]\n",
    "\n",
    "print(\"\\nClassification Result:\")\n",
    "print(f\"  Predicted Class: {predicted_class}\")\n",
    "print(f\"  Confidence: {confidence:.4f} ({confidence*100:.2f}%)\")\n",
    "\n",
    "# Present the loss function\n",
    "print(\"\\nLoss Function (Categorical Cross-Entropy):\")\n",
    "print(f\"  Loss: {loss:.4f}\")"
   ]
  }
 ],
 "metadata": {
  "kernelspec": {
   "display_name": "Python 3",
   "language": "python",
   "name": "python3"
  },
  "language_info": {
   "codemirror_mode": {
    "name": "ipython",
    "version": 3
   },
   "file_extension": ".py",
   "mimetype": "text/x-python",
   "name": "python",
   "nbconvert_exporter": "python",
   "pygments_lexer": "ipython3",
   "version": "3.13.1"
  }
 },
 "nbformat": 4,
 "nbformat_minor": 5
}
