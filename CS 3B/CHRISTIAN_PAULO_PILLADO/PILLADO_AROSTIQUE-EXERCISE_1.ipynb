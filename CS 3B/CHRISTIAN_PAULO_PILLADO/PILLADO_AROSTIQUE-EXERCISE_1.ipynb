{
 "cells": [
  {
   "cell_type": "markdown",
   "id": "300c7d0e",
   "metadata": {},
   "source": [
    "\n",
    "1.\t Determine whether the student passes (1) or fails (0) based on:\n",
    "\n",
    "a.\tHours studied\n",
    "\n",
    "b.\tHours of sleep\n",
    "\n",
    "c.\tHours of free time\n",
    "\n",
    "Given weights w1 = 0.6, w2, 0.4, bias = -3\n",
    "\n",
    "Step function with a threshold of 1 \n",
    "\n",
    "Predict the output of the following inputs:\n",
    "\n",
    "1.\t(x1, x2) = (8, 7)\n",
    "2.\t(x1, x2) = (3, 4)\n"
   ]
  },
  {
   "cell_type": "code",
   "execution_count": 3,
   "id": "94d1e3bf",
   "metadata": {},
   "outputs": [
    {
     "name": "stdout",
     "output_type": "stream",
     "text": [
      "\n",
      "=== Student Pass/Fail ===\n",
      "Raw output: 7.6\n",
      "With bias: 4.6\n",
      "Input (8, 7) -> Activation: 1 (Pass)\n",
      "\n",
      "Raw output: 3.4\n",
      "With bias: 0.3999999999999999\n",
      "Input (3, 4) -> Activation: 0 (Fail)\n",
      "\n"
     ]
    }
   ],
   "source": [
    "print(\"\\n=== Student Pass/Fail ===\")\n",
    "weights = [0.6, 0.4]\n",
    "bias = -3\n",
    "threshold = 1\n",
    "\n",
    "student_inputs = [(8, 7), (3, 4)]\n",
    "\n",
    "for x in student_inputs:\n",
    "    output = 0\n",
    "    for i in range(len(weights)):\n",
    "        output += x[i] * weights[i]\n",
    "\n",
    "    print(\"Raw output:\", output)\n",
    "    output += bias\n",
    "    print(\"With bias:\", output)\n",
    "\n",
    "    activate = 1 if output >= threshold else 0\n",
    "    status = \"Pass\" if activate == 1 else \"Fail\"\n",
    "    print(f\"Input {x} -> Activation: {activate} ({status})\\n\")"
   ]
  },
  {
   "cell_type": "markdown",
   "id": "8599c8be",
   "metadata": {},
   "source": [
    "2.\tLogic Gate Simulation. Given the following setup for a perceptron, compute its output and verify whether it acts as an AND gate.\n",
    "\n",
    "Given weights w1 = 1, w2 = 1, bias = -1.5\n",
    "\n",
    "Step function with a threshold of 0\n",
    "\n",
    "Inputs:\n",
    "\t(0,0) , (0,1), (1,0), (1,1)\n"
   ]
  },
  {
   "cell_type": "code",
   "execution_count": 4,
   "id": "7d467f11",
   "metadata": {},
   "outputs": [
    {
     "name": "stdout",
     "output_type": "stream",
     "text": [
      "=== AND Gate Simulation ===\n",
      "Raw output: 0\n",
      "With bias: -1.5\n",
      "Input (0, 0) -> Activation: 0\n",
      "\n",
      "Raw output: 1\n",
      "With bias: -0.5\n",
      "Input (0, 1) -> Activation: 0\n",
      "\n",
      "Raw output: 1\n",
      "With bias: -0.5\n",
      "Input (1, 0) -> Activation: 0\n",
      "\n",
      "Raw output: 2\n",
      "With bias: 0.5\n",
      "Input (1, 1) -> Activation: 1\n",
      "\n"
     ]
    }
   ],
   "source": [
    "print(\"=== AND Gate Simulation ===\")\n",
    "weights = [1, 1]\n",
    "bias = -1.5\n",
    "threshold = 0\n",
    "\n",
    "and_inputs = [(0,0), (0,1), (1,0), (1,1)]\n",
    "\n",
    "for x in and_inputs:\n",
    "    output = 0\n",
    "    for i in range(len(weights)):\n",
    "        output += x[i] * weights[i]\n",
    "\n",
    "    print(\"Raw output:\", output)\n",
    "    output += bias\n",
    "    print(\"With bias:\", output)\n",
    "\n",
    "    activate = 1 if output >= threshold else 0\n",
    "    print(f\"Input {x} -> Activation: {activate}\\n\")"
   ]
  },
  {
   "cell_type": "markdown",
   "id": "e048148f",
   "metadata": {},
   "source": [
    "3.\t Perceptron comparison (One vs All). Given the 3 perceptron, using the same input, compute the output and decided on the predicted class is the WINNER. If a tie is present, compare and get the highest weighted sum. \n",
    "\n",
    "\n",
    "Inputs = [0.5, -1, 2, 1, 0]\n",
    "\n",
    "Perceptron A Configuration:\n",
    "•\tWeights: WA = [1.0, -0.5, 0.2, 0.1, 0.0]\n",
    "•\tBiasA: 0.2\n",
    "\n",
    "Perceptron B\n",
    "•\tWeights: WB = [0.2, 0.2, 0.5, -0.4, 0.3]\n",
    "•\tBiasB: 0.0\n",
    "\n",
    "Perceptron C\n",
    "•\tWeights: WC = [-0.3, -0.1, 0.4, 0.0, 0.2]\n",
    "•\tBiasC: -0.6\n"
   ]
  },
  {
   "cell_type": "code",
   "execution_count": 5,
   "id": "61e41123",
   "metadata": {},
   "outputs": [
    {
     "name": "stdout",
     "output_type": "stream",
     "text": [
      "=== One-vs-All Perceptron Comparison ===\n",
      "Perceptron A raw output: 1.5\n",
      "Perceptron A with bias: 1.7\n",
      "Activation A: 1 \n",
      "\n",
      "Perceptron B raw output: 0.5\n",
      "Perceptron B with bias: 0.5\n",
      "Activation B: 1 \n",
      "\n",
      "Perceptron C raw output: 0.75\n",
      "Perceptron C with bias: 0.15000000000000002\n",
      "Activation C: 1 \n",
      "\n",
      "Winner: A\n"
     ]
    }
   ],
   "source": [
    "print(\"=== One-vs-All Perceptron Comparison ===\")\n",
    "x = [0.5, -1, 2, 1, 0]\n",
    "\n",
    "# Perceptron A\n",
    "weights_A = [1.0, -0.5, 0.2, 0.1, 0.0]\n",
    "bias_A = 0.2\n",
    "output_A = 0\n",
    "for i in range(len(weights_A)):\n",
    "    output_A += x[i] * weights_A[i]\n",
    "print(\"Perceptron A raw output:\", output_A)\n",
    "output_A += bias_A\n",
    "print(\"Perceptron A with bias:\", output_A)\n",
    "activate_A = 1 if output_A >= 0 else 0\n",
    "print(\"Activation A:\", activate_A, \"\\n\")\n",
    "\n",
    "# Perceptron B\n",
    "weights_B = [0.2, 0.2, 0.5, -0.4, 0.3]\n",
    "bias_B = 0.0\n",
    "output_B = 0\n",
    "for i in range(len(weights_B)):\n",
    "    output_B += x[i] * weights_B[i]\n",
    "print(\"Perceptron B raw output:\", output_B)\n",
    "output_B += bias_B\n",
    "print(\"Perceptron B with bias:\", output_B)\n",
    "activate_B = 1 if output_B >= 0 else 0\n",
    "print(\"Activation B:\", activate_B, \"\\n\")\n",
    "\n",
    "# Perceptron C\n",
    "weights_C = [-0.3, -0.1, 0.4, 0.0, 0.2]\n",
    "bias_C = -0.6\n",
    "output_C = 0\n",
    "for i in range(len(weights_C)):\n",
    "    output_C += x[i] * weights_C[i]\n",
    "print(\"Perceptron C raw output:\", output_C)\n",
    "output_C += bias_C\n",
    "print(\"Perceptron C with bias:\", output_C)\n",
    "activate_C = 1 if output_C >= 0 else 0\n",
    "print(\"Activation C:\", activate_C, \"\\n\")\n",
    "\n",
    "# Winner decision\n",
    "activations = {\"A\": (activate_A, output_A), \n",
    "               \"B\": (activate_B, output_B), \n",
    "               \"C\": (activate_C, output_C)}\n",
    "\n",
    "candidates = [k for k,v in activations.items() if v[0] == 1]\n",
    "\n",
    "if len(candidates) == 1:\n",
    "    winner = candidates[0]\n",
    "elif len(candidates) > 1:\n",
    "    # highest net value wins\n",
    "    winner = max(candidates, key=lambda c: activations[c][1])\n",
    "else:\n",
    "    winner = \"None\"\n",
    "\n",
    "print(f\"Winner: {winner}\")"
   ]
  }
 ],
 "metadata": {
  "kernelspec": {
   "display_name": ".venv",
   "language": "python",
   "name": "python3"
  },
  "language_info": {
   "codemirror_mode": {
    "name": "ipython",
    "version": 3
   },
   "file_extension": ".py",
   "mimetype": "text/x-python",
   "name": "python",
   "nbconvert_exporter": "python",
   "pygments_lexer": "ipython3",
   "version": "3.13.1"
  }
 },
 "nbformat": 4,
 "nbformat_minor": 5
}
