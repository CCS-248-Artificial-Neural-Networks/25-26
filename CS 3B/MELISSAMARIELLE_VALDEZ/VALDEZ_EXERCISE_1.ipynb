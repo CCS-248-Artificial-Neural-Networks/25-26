{
 "cells": [
  {
   "cell_type": "markdown",
   "id": "193ae789",
   "metadata": {},
   "source": [
    "## Problem 1: Student pass/fail"
   ]
  },
  {
   "cell_type": "code",
   "execution_count": 16,
   "id": "7f1c2969",
   "metadata": {},
   "outputs": [
    {
     "name": "stdout",
     "output_type": "stream",
     "text": [
      "\n",
      "Inputs: (8, 7)\n",
      "Weighted sum (with bias): 4.6\n",
      "Activation (Pass=1, Fail=0): 1\n",
      "\n",
      "Inputs: (3, 4)\n",
      "Weighted sum (with bias): 0.3999999999999999\n",
      "Activation (Pass=1, Fail=0): 0\n"
     ]
    }
   ],
   "source": [
    "inputs_list = [(8, 7), (3, 4)]   # (hours studied, hours sleep)\n",
    "weights = [0.6, 0.4]\n",
    "bias = -3\n",
    "threshold = 1\n",
    "\n",
    "for inputs in inputs_list:\n",
    "    output = 0\n",
    "    for i in range(len(inputs)):\n",
    "        output += inputs[i] * weights[i]\n",
    "\n",
    "    output += bias\n",
    "    print(\"\\nInputs:\", inputs)\n",
    "    print(\"Weighted sum (with bias):\", output)\n",
    "\n",
    "    activate = output >= threshold\n",
    "    print(\"Activation (Pass=1, Fail=0):\", int(activate))"
   ]
  },
  {
   "cell_type": "code",
   "execution_count": null,
   "id": "33655f96",
   "metadata": {},
   "outputs": [],
   "source": []
  },
  {
   "cell_type": "markdown",
   "id": "88f651f6",
   "metadata": {},
   "source": [
    "## Problem 2: Logic Gate (AND simulation)"
   ]
  },
  {
   "cell_type": "code",
   "execution_count": 17,
   "id": "5014a372",
   "metadata": {},
   "outputs": [
    {
     "name": "stdout",
     "output_type": "stream",
     "text": [
      "\n",
      "Inputs: (0, 0)\n",
      "Weighted sum (with bias): -1.5\n",
      "Activation: 0\n",
      "\n",
      "Inputs: (0, 1)\n",
      "Weighted sum (with bias): -0.5\n",
      "Activation: 0\n",
      "\n",
      "Inputs: (1, 0)\n",
      "Weighted sum (with bias): -0.5\n",
      "Activation: 0\n",
      "\n",
      "Inputs: (1, 1)\n",
      "Weighted sum (with bias): 0.5\n",
      "Activation: 1\n"
     ]
    }
   ],
   "source": [
    "inputs_list = [(0,0), (0,1), (1,0), (1,1)]\n",
    "weights = [1, 1]\n",
    "bias = -1.5\n",
    "threshold = 0\n",
    "\n",
    "for inputs in inputs_list:\n",
    "    output = 0\n",
    "    for i in range(len(inputs)):\n",
    "        output += inputs[i] * weights[i]\n",
    "\n",
    "    output += bias\n",
    "    print(\"\\nInputs:\", inputs)\n",
    "    print(\"Weighted sum (with bias):\", output)\n",
    "\n",
    "    activate = output >= threshold\n",
    "    print(\"Activation:\", int(activate))"
   ]
  },
  {
   "cell_type": "markdown",
   "id": "88ffa12b",
   "metadata": {},
   "source": [
    "## Problem 3: Perceptron Comparison (One vs All)"
   ]
  },
  {
   "cell_type": "code",
   "execution_count": 18,
   "id": "996b11ed",
   "metadata": {},
   "outputs": [
    {
     "name": "stdout",
     "output_type": "stream",
     "text": [
      "\n",
      "Perceptron A with bias: 1.7 Activation: 1\n",
      "\n",
      "Perceptron B with bias: 0.5 Activation: 1\n",
      "\n",
      "Perceptron C with bias: 0.15000000000000002 Activation: 1\n",
      "\n",
      "Winner: A\n"
     ]
    }
   ],
   "source": [
    "inputs = [0.5, -1, 2, 1, 0]\n",
    "threshold = 0  # activation threshold\n",
    "\n",
    "WA, BiasA = [1.0, -0.5, 0.2, 0.1, 0.0], 0.2\n",
    "WB, BiasB = [0.2, 0.2, 0.5, -0.4, 0.3], 0.0\n",
    "WC, BiasC = [-0.3, -0.1, 0.4, 0.0, 0.2], -0.6\n",
    "\n",
    "results = {}\n",
    "\n",
    "# Perceptron A\n",
    "outputA = 0\n",
    "for i in range(len(inputs)):\n",
    "    outputA += inputs[i] * WA[i]\n",
    "outputA += BiasA\n",
    "activateA = int(outputA >= threshold)\n",
    "print(\"\\nPerceptron A with bias:\", outputA, \"Activation:\", activateA)\n",
    "results[\"A\"] = (outputA, activateA)\n",
    "\n",
    "# Perceptron B\n",
    "outputB = 0\n",
    "for i in range(len(inputs)):\n",
    "    outputB += inputs[i] * WB[i]\n",
    "outputB += BiasB\n",
    "activateB = int(outputB >= threshold)\n",
    "print(\"\\nPerceptron B with bias:\", outputB, \"Activation:\", activateB)\n",
    "results[\"B\"] = (outputB, activateB)\n",
    "\n",
    "# Perceptron C\n",
    "outputC = 0\n",
    "for i in range(len(inputs)):\n",
    "    outputC += inputs[i] * WC[i]\n",
    "outputC += BiasC\n",
    "activateC = int(outputC >= threshold)\n",
    "print(\"\\nPerceptron C with bias:\", outputC, \"Activation:\", activateC)\n",
    "results[\"C\"] = (outputC, activateC)\n",
    "\n",
    "# Decide winner (highest activated perceptron)\n",
    "activated = {k: v for k, v in results.items() if v[1] == 1}\n",
    "if not activated:\n",
    "    print(\"\\nNo perceptron activated.\")\n",
    "else:\n",
    "    # Compare weighted sum if tie\n",
    "    winner = max(activated, key=lambda x: activated[x][0])\n",
    "    print(\"\\nWinner:\", winner)"
   ]
  }
 ],
 "metadata": {
  "kernelspec": {
   "display_name": "Python 3",
   "language": "python",
   "name": "python3"
  },
  "language_info": {
   "codemirror_mode": {
    "name": "ipython",
    "version": 3
   },
   "file_extension": ".py",
   "mimetype": "text/x-python",
   "name": "python",
   "nbconvert_exporter": "python",
   "pygments_lexer": "ipython3",
   "version": "3.13.7"
  }
 },
 "nbformat": 4,
 "nbformat_minor": 5
}
