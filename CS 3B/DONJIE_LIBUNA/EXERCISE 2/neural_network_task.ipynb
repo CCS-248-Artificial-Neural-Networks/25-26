{
 "cells": [
  {
   "cell_type": "code",
   "execution_count": 1,
   "id": "af78a60d",
   "metadata": {},
   "outputs": [],
   "source": [
    "import numpy as np\n",
    "from neural_network_helper import forward_layer, activation, weighted_sum, loss, setup_arrays\n",
    "from neural_network_helper import relu, sigmoid, softmax\n",
    "\n",
    "np.set_printoptions(precision=9, suppress=True)\n",
    "\n"
   ]
  },
  {
   "cell_type": "code",
   "execution_count": 7,
   "id": "c23cd24d",
   "metadata": {},
   "outputs": [
    {
     "name": "stdout",
     "output_type": "stream",
     "text": [
      "Iris - Layer 1 z1: [3.93 0.15 0.85]\n",
      "Iris - Layer 1 a1: [3.93 0.15 0.85]\n",
      "Iris - Layer 2 z2: [5.074 4.805]\n",
      "Iris - Layer 2 a2: [0.99378157  0.991877809]\n",
      "Iris - Output z3: [-1.201484777  2.396992214 -2.901725868]\n",
      "Iris - Output softmax: [0.026507497 0.968651188 0.004841316]\n",
      "Iris - MSE loss: 0.3511573252826841\n",
      "Iris - CrossEntropy loss: 3.080656405230887\n",
      "Iris - Predicted class: Versicolor\n"
     ]
    }
   ],
   "source": [
    "# ----------------Part A: Iris Example ----------------\n",
    "X = np.array([5.1, 3.5, 1.4, 0.2])\n",
    "target_output = np.array([0.7, 0.2, 0.1])\n",
    "\n",
    "W1 = np.array([\n",
    "    [0.2, 0.5, -0.3],\n",
    "    [0.1, -0.2, 0.4],\n",
    "    [-0.4, 0.3, 0.2],\n",
    "    [0.6, -0.1, 0.5]\n",
    "])\n",
    "B1 = np.array([3.0, -2.1, 0.6])\n",
    "z1, a1 = forward_layer(X, W1, B1, activation_kind='relu')\n",
    "print(\"Iris - Layer 1 z1:\", z1)\n",
    "print(\"Iris - Layer 1 a1:\", a1)\n",
    "\n",
    "W2 = np.array([\n",
    "    [0.3, -0.5],\n",
    "    [0.7, 0.2],\n",
    "    [-0.6, 0.4]\n",
    "])\n",
    "B2 = np.array([4.3, 6.4])\n",
    "z2, a2 = forward_layer(a1, W2, B2, activation_kind='sigmoid')\n",
    "print(\"Iris - Layer 2 z2:\", z2)\n",
    "print(\"Iris - Layer 2 a2:\", a2)\n",
    "\n",
    "W3 = np.array([\n",
    "    [0.5, -0.3, 0.8],\n",
    "    [-0.2, 0.6, -0.4]\n",
    "])\n",
    "B3 = np.array([-1.5, 2.1, -3.3])\n",
    "z3 = np.dot(a2, W3) + B3\n",
    "out = softmax(z3)\n",
    "print(\"Iris - Output z3:\", z3)\n",
    "print(\"Iris - Output softmax:\", out)\n",
    "print(\"Iris - MSE loss:\", loss(out, target_output, kind='mse'))\n",
    "print(\"Iris - CrossEntropy loss:\", loss(out, target_output, kind='categorical_crossentropy'))\n",
    "\n",
    "# Classification step (argmax)\n",
    "classes = [\"Setosa\", \"Versicolor\", \"Virginica\"]\n",
    "predicted_class = classes[np.argmax(out)]\n",
    "print(\"Iris - Predicted class:\", predicted_class)"
   ]
  },
  {
   "cell_type": "code",
   "execution_count": 8,
   "id": "a0d2c21a",
   "metadata": {},
   "outputs": [
    {
     "name": "stdout",
     "output_type": "stream",
     "text": [
      "Breast - Layer 1 z1b: [11.3435  3.4755 -0.2905]\n",
      "Breast - Layer 1 a1b: [11.3435  3.4755  0.    ]\n",
      "Breast - Layer 2 z2b: [ 6.211  -2.4653]\n",
      "Breast - Layer 2 a2b: [0.997996792 0.078326865]\n",
      "Breast - Output z3b: [0.859434322]\n",
      "Breast - Output sigmoid: [0.702542454]\n",
      "Breast - MSE loss: 0.0884809914261521\n",
      "Breast - Binary CrossEntropy loss: 0.35304944627096974\n",
      "Breast Cancer - Predicted tumor type: Malignant\n"
     ]
    }
   ],
   "source": [
    "# ----------------Part B: Breast Cancer Example ----------------\n",
    "X2 = np.array([14.1, 20.3, 0.095])\n",
    "target2 = np.array([1.0])\n",
    "\n",
    "W1b = np.array([\n",
    "    [0.5, -0.3, 0.8],\n",
    "    [0.2, 0.4, -0.6],\n",
    "    [-0.7, 0.9, 0.1]\n",
    "])\n",
    "B1b = np.array([0.3, -0.5, 0.6])\n",
    "z1b, a1b = forward_layer(X2, W1b, B1b, activation_kind='relu')\n",
    "print(\"Breast - Layer 1 z1b:\", z1b)\n",
    "print(\"Breast - Layer 1 a1b:\", a1b)\n",
    "\n",
    "W2b = np.array([\n",
    "    [0.6, -0.3],\n",
    "    [-0.2, 0.5],\n",
    "    [0.4, 0.7]\n",
    "])\n",
    "B2b = np.array([0.1, -0.8])\n",
    "z2b, a2b = forward_layer(a1b, W2b, B2b, activation_kind='sigmoid')\n",
    "print(\"Breast - Layer 2 z2b:\", z2b)\n",
    "print(\"Breast - Layer 2 a2b:\", a2b)\n",
    "\n",
    "W3b = np.array([0.7, -0.5])\n",
    "B3b = np.array([0.2])\n",
    "z3b = np.dot(a2b, W3b) + B3b\n",
    "out2 = sigmoid(z3b)\n",
    "print(\"Breast - Output z3b:\", z3b)\n",
    "print(\"Breast - Output sigmoid:\", out2)\n",
    "print(\"Breast - MSE loss:\", loss(out2, target2, kind='mse'))\n",
    "print(\"Breast - Binary CrossEntropy loss:\", loss(out2, target2, kind='binary_crossentropy'))\n",
    "\n",
    "# Classification step (threshold 0.5)\n",
    "tumor_type = \"Malignant\" if out2 >= 0.5 else \"Benign\"\n",
    "print(\"Breast Cancer - Predicted tumor type:\", tumor_type)\n"
   ]
  }
 ],
 "metadata": {
  "kernelspec": {
   "display_name": "Python 3",
   "language": "python",
   "name": "python3"
  },
  "language_info": {
   "codemirror_mode": {
    "name": "ipython",
    "version": 3
   },
   "file_extension": ".py",
   "mimetype": "text/x-python",
   "name": "python",
   "nbconvert_exporter": "python",
   "pygments_lexer": "ipython3",
   "version": "3.12.2"
  }
 },
 "nbformat": 4,
 "nbformat_minor": 5
}
