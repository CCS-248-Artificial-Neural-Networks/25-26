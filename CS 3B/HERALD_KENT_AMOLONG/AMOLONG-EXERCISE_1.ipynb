{
 "cells": [
  {
   "cell_type": "markdown",
   "id": "ad3b2f47",
   "metadata": {},
   "source": [
    "# AMOLONG-EXERCISE_1\n",
    "\n",
    "This Jupyter notebook is converted from the provided Python file. It demonstrates three sections:\n",
    "1. Passed or Failed evaluation\n",
    "2. Logic Gates Simulation\n",
    "3. Perceptron Comparison\n"
   ]
  },
  {
   "cell_type": "markdown",
   "id": "f9640db3",
   "metadata": {},
   "source": [
    "## Number 1: Passed or Failed\n",
    "Evaluate input sets with weights and bias to determine activation (pass/fail)."
   ]
  },
  {
   "cell_type": "code",
   "execution_count": 1,
   "id": "3fb8195f",
   "metadata": {},
   "outputs": [
    {
     "name": "stdout",
     "output_type": "stream",
     "text": [
      "========================================\n",
      "Number 1: Passed or Failed\n",
      "\n",
      "Set 1 - Inputs: [8, 7]\n",
      "Output: 7.6\n",
      "Output with bias: 4.6\n",
      "Activation: True\n",
      "------------------------------\n",
      "\n",
      "Set 2 - Inputs: [3, 4]\n",
      "Output: 3.4\n",
      "Output with bias: 0.3999999999999999\n",
      "Activation: False\n",
      "------------------------------\n"
     ]
    }
   ],
   "source": [
    "print(\"=\" * 40)\n",
    "print(\"Number 1: Passed or Failed\")\n",
    "input_sets = [[8,7], [3,4]] \n",
    "weights = [0.6, 0.4]\n",
    "bias = -3\n",
    "\n",
    "for idx, inputs in enumerate(input_sets):\n",
    "    output = 0\n",
    "    for i in range(len(inputs)):\n",
    "        output += inputs[i] * weights[i]\n",
    "    print(f\"\\nSet {idx+1} - Inputs: {inputs}\")\n",
    "    print(\"Output:\", output)\n",
    "    output += bias\n",
    "    print(\"Output with bias:\", output)\n",
    "    active = output > 1\n",
    "    print(\"Activation:\", active)\n",
    "    print(\"-\" * 30)"
   ]
  },
  {
   "cell_type": "markdown",
   "id": "8c10bd86",
   "metadata": {},
   "source": [
    "## Number 2: Logic Gates Simulation | True or False\n",
    "Simulate logic gates using input sets, weights, and bias to determine activation."
   ]
  },
  {
   "cell_type": "code",
   "execution_count": 2,
   "id": "bbd99111",
   "metadata": {},
   "outputs": [
    {
     "name": "stdout",
     "output_type": "stream",
     "text": [
      "========================================\n",
      "Number 2: Logic Gates Simulation | True or False\n",
      "\n",
      "Set 1 - Inputs: [0, 0]\n",
      "Output: 0\n",
      "Output with bias: -1.5\n",
      "Activation: False\n",
      "------------------------------\n",
      "\n",
      "Set 2 - Inputs: [0, 1]\n",
      "Output: 1\n",
      "Output with bias: -0.5\n",
      "Activation: False\n",
      "------------------------------\n",
      "\n",
      "Set 3 - Inputs: [1, 0]\n",
      "Output: 1\n",
      "Output with bias: -0.5\n",
      "Activation: False\n",
      "------------------------------\n",
      "\n",
      "Set 4 - Inputs: [1, 1]\n",
      "Output: 2\n",
      "Output with bias: 0.5\n",
      "Activation: True\n",
      "------------------------------\n"
     ]
    }
   ],
   "source": [
    "print(\"=\" * 40)\n",
    "print(\"Number 2: Logic Gates Simulation | True or False\")\n",
    "input_sets = [[0,0], [0,1], [1,0], [1,1]]\n",
    "weights = [1, 1]\n",
    "bias = -1.5\n",
    "\n",
    "for idx, inputs in enumerate(input_sets):\n",
    "    output = 0\n",
    "    for i in range(len(inputs)):\n",
    "        output += inputs[i] * weights[i]\n",
    "    print(f\"\\nSet {idx+1} - Inputs: {inputs}\")\n",
    "    print(\"Output:\", output)\n",
    "    output += bias\n",
    "    print(\"Output with bias:\", output)\n",
    "    active = output > 0\n",
    "    print(\"Activation:\", active)\n",
    "    print(\"-\" * 30)"
   ]
  },
  {
   "cell_type": "markdown",
   "id": "5ca0e893",
   "metadata": {},
   "source": [
    "## Number 3: Perceptron Comparison\n",
    "Compare multiple perceptrons with different weights and biases to determine the winner."
   ]
  },
  {
   "cell_type": "code",
   "execution_count": 3,
   "id": "93d97598",
   "metadata": {},
   "outputs": [
    {
     "name": "stdout",
     "output_type": "stream",
     "text": [
      "========================================\n",
      "Number 3: Perceptron Comparison\n",
      "Input set: [0.5, -1, 2, 1, 0]\n",
      "------------------------------\n",
      "\n",
      "Perceptron A:\n",
      "Weights: [1.0, -0.5, 0.2, 0.1, 0.0], Bias: 0.2\n",
      "Output: 1.5\n",
      "Output with bias: 1.7\n",
      "Activation: True\n",
      "------------------------------\n",
      "\n",
      "Perceptron B:\n",
      "Weights: [0.2, 0.2, 0.5, -0.4, 0.3], Bias: 0.0\n",
      "Output: 0.5\n",
      "Output with bias: 0.5\n",
      "Activation: True\n",
      "------------------------------\n",
      "\n",
      "Perceptron C:\n",
      "Weights: [-0.3, -0.1, 0.4, 0.0, 0.2], Bias: -0.6\n",
      "Output: 0.75\n",
      "Output with bias: 0.15000000000000002\n",
      "Activation: True\n",
      "------------------------------\n",
      "Winner of the comparison is Perceptron A with output: 1.7\n"
     ]
    }
   ],
   "source": [
    "print(\"=\" * 40)\n",
    "print(\"Number 3: Perceptron Comparison\")\n",
    "\n",
    "inputs = [0.5,-1,2,1,0] \n",
    "weight_sets = [[1.0,-0.5,0.2,0.1,0.0], [0.2,0.2,0.5,-0.4,0.3], [-0.3,-0.1,0.4,0.0,0.2]] \n",
    "biases = [0.2, 0.0, -0.6]\n",
    "perceptron_names = ['A', 'B', 'C']\n",
    "perceptron_outputs = []\n",
    "\n",
    "print(f\"Input set: {inputs}\")\n",
    "print(\"-\" * 30)\n",
    "\n",
    "for idx, (weights, bias) in enumerate(zip(weight_sets, biases)):\n",
    "    output = 0\n",
    "    for i in range(len(inputs)):\n",
    "        output += inputs[i] * weights[i]\n",
    "    name = perceptron_names[idx]\n",
    "    print(f\"\\nPerceptron {name}:\")\n",
    "    print(f\"Weights: {weights}, Bias: {bias}\")\n",
    "    print(\"Output:\", output)\n",
    "    output += bias\n",
    "    print(\"Output with bias:\", output)\n",
    "    active = output > 0\n",
    "    print(\"Activation:\", active)\n",
    "    print(\"-\" * 30)\n",
    "    perceptron_outputs.append((name, output))\n",
    "\n",
    "a_output = perceptron_outputs[0][1]\n",
    "print(f\"Winner of the comparison is Perceptron A with output: {a_output}\")"
   ]
  }
 ],
 "metadata": {
  "kernelspec": {
   "display_name": "Python 3",
   "language": "python",
   "name": "python3"
  },
  "language_info": {
   "codemirror_mode": {
    "name": "ipython",
    "version": 3
   },
   "file_extension": ".py",
   "mimetype": "text/x-python",
   "name": "python",
   "nbconvert_exporter": "python",
   "pygments_lexer": "ipython3",
   "version": "3.12.6"
  }
 },
 "nbformat": 4,
 "nbformat_minor": 5
}
