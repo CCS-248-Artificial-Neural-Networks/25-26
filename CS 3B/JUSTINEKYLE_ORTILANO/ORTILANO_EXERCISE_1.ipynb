{
 "cells": [
  {
   "cell_type": "code",
   "execution_count": null,
   "id": "6d653f51",
   "metadata": {},
   "outputs": [
    {
     "name": "stdout",
     "output_type": "stream",
     "text": [
      "Output for student 1 (8 hours studied, 7 hours sleep): 1\n",
      "Output for student 2 (3 hours studied, 4 hours sleep): 0\n"
     ]
    }
   ],
   "source": [
    "#1.\t(20 points) Determine whether the student passes (1) or fails (0) based on:\n",
    "#a.\tHours studied\n",
    "#b.\tHours of sleep\n",
    "\n",
    "#Given weights w1 = 0.6, w2, 0.4, bias = -3\n",
    "#Step function with a threshold of 1 \n",
    "\n",
    "#Predict the output of the following inputs:\n",
    "#1.\t(x1, x2) = (8, 7)\n",
    "#2.\t(x1, x2) = (3, 4)\n",
    "bias = -3\n",
    "studentweights = [0.6, 0.4]\n",
    "student1input = [8, 7]\n",
    "student2input = [3, 4]\n",
    "\n",
    "def predict(input_data):\n",
    "    weighted_sum = sum(w * x for w, x in zip(studentweights, input_data)) + bias\n",
    "    return 1 if weighted_sum > 1 else 0\n",
    "\n",
    "output1 = predict(student1input)\n",
    "output2 = predict(student2input)\n",
    "\n",
    "print(f\"Output for student 1 (8 hours studied, 7 hours sleep): {output1}\")\n",
    "print(f\"Output for student 2 (3 hours studied, 4 hours sleep): {output2}\")"
   ]
  },
  {
   "cell_type": "code",
   "execution_count": 9,
   "id": "bfee259c",
   "metadata": {},
   "outputs": [
    {
     "name": "stdout",
     "output_type": "stream",
     "text": [
      "Input: (0, 0), Output: 0\n",
      "Input: (0, 1), Output: 0\n",
      "Input: (1, 0), Output: 0\n",
      "Input: (1, 1), Output: 1\n"
     ]
    }
   ],
   "source": [
    "#2.\t(20 points) Logic Gate Simulation. Given the following setup for a perceptron, compute its output and verify whether it acts as an AND gate.\n",
    "#Given weights w1 = 1, w2 = 1, bias = -1.5\n",
    "#Step function with a threshold of 0\n",
    "#Inputs\t\n",
    "#(0,0) , (0,1), (1,0), (1,1)\n",
    "weightsForGateInput = [1,1]\n",
    "bias = -1.5\n",
    "inputs = [(0,0), (0,1), (1,0), (1,1)]\n",
    "\n",
    "for input_data in inputs:\n",
    "    weighted_sum = sum(w * x for w, x in zip(weightsForGateInput, input_data)) + bias\n",
    "    output = 1 if weighted_sum > 0 else 0\n",
    "    print(f\"Input: {input_data}, Output: {output}\")\n",
    "    \n"
   ]
  },
  {
   "cell_type": "code",
   "execution_count": null,
   "id": "599f0ccf",
   "metadata": {},
   "outputs": [],
   "source": []
  },
  {
   "cell_type": "code",
   "execution_count": 12,
   "id": "cc4bc281",
   "metadata": {},
   "outputs": [
    {
     "name": "stdout",
     "output_type": "stream",
     "text": [
      "Perceptron A - Weighted Sum: 1.7, Output: 1\n",
      "Perceptron B - Weighted Sum: 0.5, Output: 1\n",
      "Perceptron C - Weighted Sum: 0.15000000000000002, Output: 1\n",
      "\n",
      "Winner Perceptron:\n",
      "Perceptron A\n"
     ]
    }
   ],
   "source": [
    "#3.\t(60 points) Perceptron comparison (One vs All). Given the 3 perceptron, using the same input, compute the output and decided on the predicted class is the WINNER. If a tie is present, compare and get the highest weighted sum. \n",
    "\n",
    "\n",
    "#Inputs = [0.5, -1, 2, 1, 0]\n",
    "#Perceptron A Configuration:\n",
    "#•\tWeights: WA = [1.0, -0.5, 0.2, 0.1, 0.0]\n",
    "#•\tBiasA: 0.2\n",
    "#Perceptron B\n",
    "#•\tWeights: WB = [0.2, 0.2, 0.5, -0.4, 0.3]\n",
    "#•\tBiasB: 0.0\n",
    "#Perceptron C\n",
    "#•\tWeights: WC = [-0.3, -0.1, 0.4, 0.0, 0.2]\n",
    "#•\tBiasC: -0.6\n",
    "\n",
    "Inputs = [0.5, -1, 2, 1, 0]\n",
    "weightsA = [1.0, -0.5, 0.2, 0.1, 0.0]\n",
    "biasA = 0.2\n",
    "for perceptronA in zip(weightsA, Inputs):\n",
    "    weighted_sumA = sum(w * x for w, x in zip(weightsA, Inputs)) + biasA\n",
    "    outputA = 1 if weighted_sumA > 0 else 0\n",
    "print(f\"Perceptron A - Weighted Sum: {weighted_sumA}, Output: {outputA}\")\n",
    "\n",
    "#Perceptron B\n",
    "weightsB = [0.2, 0.2, 0.5, -0.4, 0.3]\n",
    "biasB = 0.0\n",
    "for perceptronB in zip(weightsB, Inputs):\n",
    "    weighted_sumB = sum(w * x for w, x in zip(weightsB, Inputs)) + biasB\n",
    "    outputB = 1 if weighted_sumB > 0 else 0\n",
    "print(f\"Perceptron B - Weighted Sum: {weighted_sumB}, Output: {outputB}\")\n",
    "\n",
    "#Perceptron C\n",
    "weightsC = [-0.3, -0.1, 0.4, 0.0, 0.2]\n",
    "biasC = -0.6\n",
    "for perceptronC in zip(weightsC, Inputs):\n",
    "    weighted_sumC = sum(w * x for w, x in zip(weightsC, Inputs)) + biasC\n",
    "    outputC = 1 if weighted_sumC > 0 else 0\n",
    "print(f\"Perceptron C - Weighted Sum: {weighted_sumC}, Output: {outputC}\")\n",
    "print(\"\\nWinner Perceptron:\")\n",
    "\n",
    "if weighted_sumA > weighted_sumB and weighted_sumA > weighted_sumC:\n",
    "    print(\"Perceptron A\")\n",
    "elif weighted_sumB > weighted_sumA and weighted_sumB > weighted_sumC:\n",
    "    print(\"Perceptron B\")\n",
    "elif weighted_sumC > weighted_sumA and weighted_sumC > weighted_sumB:\n",
    "    print(\"Perceptron C\")\n",
    "else:\n",
    "    print(\"It's a tie!\")"
   ]
  },
  {
   "cell_type": "code",
   "execution_count": null,
   "id": "6c36a551",
   "metadata": {},
   "outputs": [],
   "source": []
  }
 ],
 "metadata": {
  "kernelspec": {
   "display_name": "Python 3",
   "language": "python",
   "name": "python3"
  },
  "language_info": {
   "codemirror_mode": {
    "name": "ipython",
    "version": 3
   },
   "file_extension": ".py",
   "mimetype": "text/x-python",
   "name": "python",
   "nbconvert_exporter": "python",
   "pygments_lexer": "ipython3",
   "version": "3.13.2"
  }
 },
 "nbformat": 4,
 "nbformat_minor": 5
}
