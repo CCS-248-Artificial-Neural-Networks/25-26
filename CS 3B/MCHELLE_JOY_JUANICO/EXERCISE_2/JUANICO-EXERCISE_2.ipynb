{
 "cells": [
  {
   "cell_type": "code",
   "execution_count": null,
   "id": "4ead7766",
   "metadata": {},
   "outputs": [],
   "source": [
    "import numpy as np\n",
    "from neural_network_helper import Dense_Layer"
   ]
  },
  {
   "cell_type": "code",
   "execution_count": null,
   "id": "9a995e65",
   "metadata": {},
   "outputs": [],
   "source": [
    "# Input and Target \n",
    "X = np.array([5.1, 3.5, 1.4, 0.2])\n",
    "Target_output = np.array([0.7, 0.2, 0.1])  "
   ]
  },
  {
   "cell_type": "code",
   "execution_count": null,
   "id": "60e50204",
   "metadata": {},
   "outputs": [],
   "source": [
    "# First Hidden Layer\n",
    "W1 = [\n",
    "    [0.2, 0.5, -0.3],\n",
    "    [0.1, -0.2, 0.4],\n",
    "    [-0.4, 0.3, 0.2],\n",
    "    [0.6, -0.1, 0.5]\n",
    "]\n",
    "B1 = [3.0, -2.1, 0.6]\n",
    "Layer1 = Dense_Layer(W1, B1, activation=\"relu\", name=\"Hidden1-ReLU\")"
   ]
  },
  {
   "cell_type": "code",
   "execution_count": null,
   "id": "d472e777",
   "metadata": {},
   "outputs": [],
   "source": [
    "# Second Hidden Layer \n",
    "W2 = [\n",
    "    [0.3, -0.5],\n",
    "    [0.7, 0.2],\n",
    "    [-0.6, 0.4]\n",
    "]\n",
    "B2 = [4.3, 6.4]\n",
    "Layer2 = Dense_Layer(W2, B2, activation=\"sigmoid\", name=\"Hidden2-Sigmoid\")"
   ]
  },
  {
   "cell_type": "code",
   "execution_count": null,
   "id": "66a04f8d",
   "metadata": {},
   "outputs": [],
   "source": [
    "# Last Hidden Layer\n",
    "W3 = [\n",
    "    [0.5, -0.3, 0.8],\n",
    "    [-0.2, 0.6, -0.4]\n",
    "]\n",
    "B3 = [-1.5, 2.1, -3.3]\n",
    "Layer3 = Dense_Layer(W3, B3, activation=\"softmax\", name=\"Output-Softmax\")"
   ]
  },
  {
   "cell_type": "code",
   "execution_count": null,
   "id": "c8fa87bc",
   "metadata": {},
   "outputs": [],
   "source": [
    "Z1, A1 = Layer1.forward(X)\n",
    "Z2, A2 = Layer2.forward(A1)\n",
    "Z3, A3 = Layer3.forward(A2)"
   ]
  },
  {
   "cell_type": "code",
   "execution_count": null,
   "id": "c65c3062",
   "metadata": {},
   "outputs": [],
   "source": [
    "# Loss\n",
    "loss = Dense_Layer.crossentropy(A3, Target_output)"
   ]
  },
  {
   "cell_type": "code",
   "execution_count": null,
   "id": "128dbd31",
   "metadata": {},
   "outputs": [],
   "source": [
    "# Summary \n",
    "print(\"\\n Summary\")\n",
    "print(\"Input X:\", X)\n",
    "print(\"Hidden Layer 1 - z1:\", np.round(Z1, 6))\n",
    "print(\"Hidden Layer 1 - a1 (ReLU):\", np.round(A1, 6))\n",
    "print(\"Hidden Layer 2 - z2:\", np.round(Z2, 6))\n",
    "print(\"Hidden Layer 2 - a2 (Sigmoid):\", np.round(A2, 6))\n",
    "print(\"Last Layer - z3:\", np.round(Z3, 6))\n",
    "print(\"Last Layer - a3 (Softmax):\", np.round(A3, 6))\n",
    "print(\"Target Output:\", Target_output)\n",
    "print(\"Loss:\", float(np.round(loss, 6)))"
   ]
  },
  {
   "cell_type": "code",
   "execution_count": null,
   "id": "5afa582a",
   "metadata": {},
   "outputs": [],
   "source": [
    "predicted_class = int(np.argmax(A3))\n",
    "class_labels = [\"Iris-setosa\", \"Iris-versicolor\", \"Iris-virginica\"]\n",
    "print(\"\\n Conclusion \")\n",
    "print(f\"The network prediction: {class_labels[predicted_class]}\")\n",
    "print(f\"Predicted probability distribution: {A3}\")"
   ]
  }
 ],
 "metadata": {
  "jupytext": {
   "cell_metadata_filter": "-all",
   "main_language": "python",
   "notebook_metadata_filter": "-all"
  }
 },
 "nbformat": 4,
 "nbformat_minor": 5
}
