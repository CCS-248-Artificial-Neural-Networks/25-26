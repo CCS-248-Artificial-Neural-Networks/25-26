{
 "cells": [
  {
   "cell_type": "markdown",
   "id": "3a5f0560",
   "metadata": {},
   "source": [
    "# Library Imports"
   ]
  },
  {
   "cell_type": "code",
   "execution_count": 3,
   "id": "c3edaf94",
   "metadata": {},
   "outputs": [],
   "source": [
    "import numpy as np\n",
    "import nnfs\n",
    "from nnfs.datasets import spiral_data"
   ]
  },
  {
   "cell_type": "markdown",
   "id": "ce7db938",
   "metadata": {},
   "source": [
    "# ANN Components Definition (Forward and Backward Pass)"
   ]
  },
  {
   "cell_type": "code",
   "execution_count": 4,
   "id": "f24af06f",
   "metadata": {},
   "outputs": [],
   "source": [
    "# Dense Layer\n",
    "class Layer_Dense:\n",
    "    def __init__(self, n_inputs, n_neurons):\n",
    "        self.weights = 0.01 * np.random.randn(n_inputs, n_neurons)\n",
    "        self.biases = np.zeros((1, n_neurons))\n",
    "\n",
    "    def forward(self, inputs):\n",
    "        self.inputs = inputs\n",
    "        self.output = np.dot(inputs, self.weights) + self.biases\n",
    "\n",
    "    def backward(self, dvalues):\n",
    "        self.dweights = np.dot(self.inputs.T, dvalues)\n",
    "        self.dbiases = np.sum(dvalues, axis=0, keepdims=True)\n",
    "        self.dinputs = np.dot(dvalues, self.weights.T)"
   ]
  },
  {
   "cell_type": "markdown",
   "id": "9b50c508",
   "metadata": {},
   "source": [
    "# Activation Functions"
   ]
  },
  {
   "cell_type": "code",
   "execution_count": 5,
   "id": "a50bd380",
   "metadata": {},
   "outputs": [],
   "source": [
    "class Activation_ReLU:\n",
    "    def forward(self, inputs):\n",
    "        self.inputs = inputs\n",
    "        self.output = np.maximum(0, inputs)\n",
    "\n",
    "    def backward(self, dvalues):\n",
    "        self.dinputs = dvalues.copy()\n",
    "        self.dinputs[self.inputs <= 0] = 0\n",
    "\n",
    "\n",
    "class Activation_Softmax:\n",
    "    def forward(self, inputs):\n",
    "        self.inputs = inputs\n",
    "        exp_values = np.exp(inputs - np.max(inputs, axis=1, keepdims=True))\n",
    "        probabilities = exp_values / np.sum(exp_values, axis=1, keepdims=True)\n",
    "        self.output = probabilities\n",
    "\n",
    "    def backward(self, dvalues):\n",
    "        self.dinputs = np.empty_like(dvalues)\n",
    "        for index, (single_output, single_dvalues) in enumerate(zip(self.output, dvalues)):\n",
    "            single_output = single_output.reshape(-1, 1)\n",
    "            jacobian_matrix = np.diagflat(single_output) - np.dot(single_output, single_output.T)\n",
    "            self.dinputs[index] = np.dot(jacobian_matrix, single_dvalues)"
   ]
  },
  {
   "cell_type": "markdown",
   "id": "ccf568f1",
   "metadata": {},
   "source": [
    "# Loss Functions"
   ]
  },
  {
   "cell_type": "code",
   "execution_count": 6,
   "id": "f887f9f5",
   "metadata": {},
   "outputs": [],
   "source": [
    "class Loss:\n",
    "    def calculate(self, output, y):\n",
    "        sample_losses = self.forward(output, y)\n",
    "        data_loss = np.mean(sample_losses)\n",
    "        return data_loss\n",
    "\n",
    "\n",
    "class Loss_CategoricalCrossEntropy(Loss):\n",
    "    def forward(self, y_pred, y_true):\n",
    "        samples = y_pred.shape[0]\n",
    "        y_pred_clipped = np.clip(y_pred, 1e-7, 1 - 1e-7)\n",
    "        \n",
    "        if len(y_true.shape) == 1:\n",
    "            correct_confidences = y_pred_clipped[range(samples), y_true]\n",
    "        elif len(y_true.shape) == 2:\n",
    "            correct_confidences = np.sum(y_pred_clipped * y_true, axis=1)\n",
    "        \n",
    "        negative_log_likelihoods = -np.log(correct_confidences)\n",
    "        return negative_log_likelihoods\n",
    "\n",
    "    def backward(self, dvalues, y_true):\n",
    "        samples = len(dvalues)\n",
    "        labels = len(dvalues[0])\n",
    "        \n",
    "        if len(y_true.shape) == 1:\n",
    "            y_true = np.eye(labels)[y_true]\n",
    "        \n",
    "        # Prevent divide by zero\n",
    "        dvalues = np.clip(dvalues, 1e-7, 1 - 1e-7)\n",
    "        self.dinputs = -y_true / dvalues\n",
    "        self.dinputs = self.dinputs / len(dvalues)\n",
    "\n",
    "        self.dinputs = self.dinputs / samples"
   ]
  },
  {
   "cell_type": "markdown",
   "id": "c4be1a1c",
   "metadata": {},
   "source": [
    "# Modified Optimizer Class that accepts 3 Optimizers Discussed"
   ]
  },
  {
   "cell_type": "code",
   "execution_count": null,
   "id": "5a0678c5",
   "metadata": {},
   "outputs": [],
   "source": [
    "class Optimizer_SGD:\n",
    "    \"\"\"\n",
    "    Stochastic Gradient Descent with enhancements\n",
    "    \n",
    "    Parameters:\n",
    "    - learning_rate: Initial learning rate\n",
    "    - decay: Learning rate decay factor (0 = no decay)\n",
    "    - momentum: Momentum factor, typically 0.9 (0 = no momentum)\n",
    "    - adagrad: Enable AdaGrad adaptation (default: False)\n",
    "    \"\"\"\n",
    "    \n",
    "    def __init__(self, learning_rate=1.0, decay=0., momentum=0., adagrad=False):\n",
    "        self.learning_rate = learning_rate\n",
    "        self.current_learning_rate = learning_rate\n",
    "        self.decay = decay\n",
    "        self.iterations = 0\n",
    "        self.momentum = momentum\n",
    "        self.adagrad = adagrad\n",
    "    \n",
    "    def pre_update_params(self):\n",
    "        if self.decay:\n",
    "            self.current_learning_rate = self.learning_rate / (1. + self.decay * self.iterations)\n",
    "    \n",
    "    def update_params(self, layer):\n",
    "        # === ADAGRAD IMPLEMENTATION ===\n",
    "        if self.adagrad:\n",
    "            # Initialize cache on first use\n",
    "            if not hasattr(layer, 'weight_cache'):\n",
    "                layer.weight_cache = np.zeros_like(layer.weights)\n",
    "                layer.bias_cache = np.zeros_like(layer.biases)\n",
    "            \n",
    "            # Accumulate squared gradients\n",
    "            layer.weight_cache += layer.dweights ** 2\n",
    "            layer.bias_cache += layer.dbiases ** 2\n",
    "            \n",
    "            # Update with adapted learning rate\n",
    "            layer.weights += -self.current_learning_rate * layer.dweights / \\\n",
    "                           (np.sqrt(layer.weight_cache) + 1e-7)\n",
    "            layer.biases += -self.current_learning_rate * layer.dbiases / \\\n",
    "                          (np.sqrt(layer.bias_cache) + 1e-7)\n",
    "        \n",
    "        # === MOMENTUM IMPLEMENTATION ===\n",
    "        elif self.momentum:\n",
    "            # Initialize momentum arrays on first use\n",
    "            if not hasattr(layer, 'weight_momentums'):\n",
    "                layer.weight_momentums = np.zeros_like(layer.weights)\n",
    "                layer.bias_momentums = np.zeros_like(layer.biases)\n",
    "            \n",
    "            # Calculate momentum-based updates\n",
    "            weight_updates = self.momentum * layer.weight_momentums - \\\n",
    "                           self.current_learning_rate * layer.dweights\n",
    "            layer.weight_momentums = weight_updates\n",
    "            \n",
    "            bias_updates = self.momentum * layer.bias_momentums - \\\n",
    "                         self.current_learning_rate * layer.dbiases\n",
    "            layer.bias_momentums = bias_updates\n",
    "            \n",
    "            # Apply updates\n",
    "            layer.weights += weight_updates\n",
    "            layer.biases += bias_updates\n",
    "        \n",
    "        # === VANILLA SGD ===\n",
    "        else:\n",
    "            layer.weights += -self.current_learning_rate * layer.dweights\n",
    "            layer.biases += -self.current_learning_rate * layer.dbiases\n",
    "    \n",
    "    def post_update_params(self):\n",
    "        self.iterations += 1"
   ]
  },
  {
   "cell_type": "markdown",
   "id": "3c6f4672",
   "metadata": {},
   "source": [
    "# Training Function\n",
    "\n",
    "## - trains neural network for the specified number of epochs with performance tracking"
   ]
  },
  {
   "cell_type": "code",
   "execution_count": 8,
   "id": "2bb5ac8f",
   "metadata": {},
   "outputs": [],
   "source": [
    "def train_model(optimizer_name, learning_rate=1.0, decay=0., momentum=0., \n",
    "                adagrad=False, epochs=1000):\n",
    "    \n",
    "    print(f\"\\n{'='*70}\")\n",
    "    print(f\"TRAINING WITH: {optimizer_name}\")\n",
    "    print(f\"{'='*70}\")\n",
    "    \n",
    "    # Create dataset\n",
    "    nnfs.init()\n",
    "    X, y = spiral_data(samples=100, classes=3)\n",
    "    \n",
    "    # Initialize network layers\n",
    "    dense1 = Layer_Dense(2, 64)\n",
    "    activation1 = Activation_ReLU()\n",
    "    dense2 = Layer_Dense(64, 3)\n",
    "    activation2 = Activation_Softmax()\n",
    "    loss_function = Loss_CategoricalCrossEntropy()\n",
    "    \n",
    "    # Initialize optimizer\n",
    "    optimizer = Optimizer_SGD(\n",
    "        learning_rate=learning_rate,\n",
    "        decay=decay,\n",
    "        momentum=momentum,\n",
    "        adagrad=adagrad\n",
    "    )\n",
    "    \n",
    "    # Track metrics\n",
    "    losses = []\n",
    "    accuracies = []\n",
    "    \n",
    "    # === TRAINING LOOP ===\n",
    "    for epoch in range(epochs):\n",
    "        # FORWARD PASS\n",
    "        dense1.forward(X)\n",
    "        activation1.forward(dense1.output)\n",
    "        dense2.forward(activation1.output)\n",
    "        activation2.forward(dense2.output)\n",
    "        \n",
    "        # Calculate loss\n",
    "        loss = loss_function.calculate(activation2.output, y)\n",
    "        \n",
    "        # Calculate accuracy\n",
    "        predictions = np.argmax(activation2.output, axis=1)\n",
    "        if len(y.shape) == 2:\n",
    "            y_labels = np.argmax(y, axis=1)\n",
    "        else:\n",
    "            y_labels = y\n",
    "        accuracy = np.mean(predictions == y_labels)\n",
    "        \n",
    "        # Store metrics\n",
    "        losses.append(loss)\n",
    "        accuracies.append(accuracy)\n",
    "        \n",
    "        # BACKWARD PASS\n",
    "        loss_function.backward(activation2.output, y)\n",
    "        activation2.backward(loss_function.dinputs)\n",
    "        dense2.backward(activation2.dinputs)\n",
    "        activation1.backward(dense2.dinputs)\n",
    "        dense1.backward(activation1.dinputs)\n",
    "        \n",
    "        # PARAMETER UPDATE\n",
    "        optimizer.pre_update_params() # for application of learning rate decay\n",
    "        optimizer.update_params(dense1)\n",
    "        optimizer.update_params(dense2)\n",
    "        optimizer.post_update_params()\n",
    "        \n",
    "        # Display progress every 100 epochs\n",
    "        if epoch % 100 == 0:\n",
    "            print(f\"Epoch {epoch:4d} | Loss: {loss:.4f} | Accuracy: {accuracy:.4f} | LR: {optimizer.current_learning_rate:.6f}\")\n",
    "    \n",
    "    # Final results\n",
    "    print(f\"\\n{'─'*70}\")\n",
    "    print(f\"FINAL RESULTS:\")\n",
    "    print(f\"Final Loss: {losses[-1]:.4f}\")\n",
    "    print(f\"Final Accuracy: {accuracies[-1]:.4f}\")\n",
    "    print(f\"{'='*70}\\n\")\n",
    "    \n",
    "    return losses, accuracies"
   ]
  },
  {
   "cell_type": "markdown",
   "id": "d5b21e1f",
   "metadata": {},
   "source": [
    "# VANILLA SGD WITH LEARNING RATE DECAY"
   ]
  },
  {
   "cell_type": "code",
   "execution_count": 9,
   "id": "edf3ca2f",
   "metadata": {},
   "outputs": [
    {
     "name": "stdout",
     "output_type": "stream",
     "text": [
      "\n",
      "======================================================================\n",
      "TRAINING WITH: Vanilla SGD with Learning Rate Decay\n",
      "======================================================================\n",
      "Epoch    0 | Loss: 1.0986 | Accuracy: 0.3600 | LR: 0.500000\n",
      "Epoch  100 | Loss: 1.0986 | Accuracy: 0.3633 | LR: 0.454545\n",
      "Epoch  200 | Loss: 1.0986 | Accuracy: 0.3700 | LR: 0.416667\n",
      "Epoch  300 | Loss: 1.0986 | Accuracy: 0.4067 | LR: 0.384615\n",
      "Epoch  400 | Loss: 1.0986 | Accuracy: 0.4067 | LR: 0.357143\n",
      "Epoch  500 | Loss: 1.0986 | Accuracy: 0.4067 | LR: 0.333333\n",
      "Epoch  600 | Loss: 1.0986 | Accuracy: 0.3967 | LR: 0.312500\n",
      "Epoch  700 | Loss: 1.0986 | Accuracy: 0.4033 | LR: 0.294118\n",
      "Epoch  800 | Loss: 1.0986 | Accuracy: 0.4067 | LR: 0.277778\n",
      "Epoch  900 | Loss: 1.0986 | Accuracy: 0.4033 | LR: 0.263158\n",
      "\n",
      "──────────────────────────────────────────────────────────────────────\n",
      "FINAL RESULTS:\n",
      "Final Loss: 1.0986\n",
      "Final Accuracy: 0.4033\n",
      "======================================================================\n",
      "\n"
     ]
    }
   ],
   "source": [
    "losses_decay, acc_decay = train_model(\n",
    "    optimizer_name=\"Vanilla SGD with Learning Rate Decay\",\n",
    "    learning_rate=0.5,\n",
    "    decay=0.001,\n",
    "    epochs=1000\n",
    ")"
   ]
  },
  {
   "cell_type": "markdown",
   "id": "bf4ab852",
   "metadata": {},
   "source": [
    "# SGD WITH MOMENTUM"
   ]
  },
  {
   "cell_type": "code",
   "execution_count": 10,
   "id": "da3fc22a",
   "metadata": {},
   "outputs": [
    {
     "name": "stdout",
     "output_type": "stream",
     "text": [
      "\n",
      "======================================================================\n",
      "TRAINING WITH: SGD with Momentum\n",
      "======================================================================\n",
      "Epoch    0 | Loss: 1.0986 | Accuracy: 0.3600 | LR: 0.500000\n",
      "Epoch  100 | Loss: 1.0986 | Accuracy: 0.3967 | LR: 0.454545\n",
      "Epoch  200 | Loss: 1.0985 | Accuracy: 0.4000 | LR: 0.416667\n",
      "Epoch  300 | Loss: 1.0985 | Accuracy: 0.4167 | LR: 0.384615\n",
      "Epoch  400 | Loss: 1.0985 | Accuracy: 0.4167 | LR: 0.357143\n",
      "Epoch  500 | Loss: 1.0985 | Accuracy: 0.4100 | LR: 0.333333\n",
      "Epoch  600 | Loss: 1.0985 | Accuracy: 0.4100 | LR: 0.312500\n",
      "Epoch  700 | Loss: 1.0985 | Accuracy: 0.4133 | LR: 0.294118\n",
      "Epoch  800 | Loss: 1.0985 | Accuracy: 0.4133 | LR: 0.277778\n",
      "Epoch  900 | Loss: 1.0984 | Accuracy: 0.4233 | LR: 0.263158\n",
      "\n",
      "──────────────────────────────────────────────────────────────────────\n",
      "FINAL RESULTS:\n",
      "Final Loss: 1.0984\n",
      "Final Accuracy: 0.4200\n",
      "======================================================================\n",
      "\n"
     ]
    }
   ],
   "source": [
    "losses_momentum, acc_momentum = train_model(\n",
    "    optimizer_name=\"SGD with Momentum\",\n",
    "    learning_rate=0.5,\n",
    "    decay=0.001,\n",
    "    momentum=0.9,\n",
    "    epochs=1000\n",
    ")"
   ]
  },
  {
   "cell_type": "markdown",
   "id": "3e3ca739",
   "metadata": {},
   "source": [
    "# ADAPTIVE GRADIENT (AdaGrad)"
   ]
  },
  {
   "cell_type": "code",
   "execution_count": 11,
   "id": "99d38ae9",
   "metadata": {},
   "outputs": [
    {
     "name": "stdout",
     "output_type": "stream",
     "text": [
      "\n",
      "======================================================================\n",
      "TRAINING WITH: AdaGrad (Adaptive Gradient)\n",
      "======================================================================\n",
      "Epoch    0 | Loss: 1.0986 | Accuracy: 0.3600 | LR: 1.000000\n",
      "Epoch  100 | Loss: 10.7454 | Accuracy: 0.3333 | LR: 1.000000\n",
      "Epoch  200 | Loss: 10.7454 | Accuracy: 0.3333 | LR: 1.000000\n",
      "Epoch  300 | Loss: 10.7454 | Accuracy: 0.3333 | LR: 1.000000\n",
      "Epoch  400 | Loss: 10.7454 | Accuracy: 0.3333 | LR: 1.000000\n",
      "Epoch  500 | Loss: 10.7454 | Accuracy: 0.3333 | LR: 1.000000\n",
      "Epoch  600 | Loss: 10.7454 | Accuracy: 0.3333 | LR: 1.000000\n",
      "Epoch  700 | Loss: 10.7454 | Accuracy: 0.3333 | LR: 1.000000\n",
      "Epoch  800 | Loss: 10.7454 | Accuracy: 0.3333 | LR: 1.000000\n",
      "Epoch  900 | Loss: 10.7454 | Accuracy: 0.3333 | LR: 1.000000\n",
      "\n",
      "──────────────────────────────────────────────────────────────────────\n",
      "FINAL RESULTS:\n",
      "Final Loss: 10.7454\n",
      "Final Accuracy: 0.3333\n",
      "======================================================================\n",
      "\n"
     ]
    }
   ],
   "source": [
    "losses_adagrad, acc_adagrad = train_model(\n",
    "    optimizer_name=\"AdaGrad (Adaptive Gradient)\",\n",
    "    learning_rate=1.0,\n",
    "    decay=0.0,\n",
    "    adagrad=True,\n",
    "    epochs=1000\n",
    ")"
   ]
  },
  {
   "cell_type": "markdown",
   "id": "b1e7a060",
   "metadata": {},
   "source": [
    "# COMPARISON ANALYSIS"
   ]
  },
  {
   "cell_type": "code",
   "execution_count": 12,
   "id": "72fc6ca5",
   "metadata": {},
   "outputs": [
    {
     "name": "stdout",
     "output_type": "stream",
     "text": [
      "\n",
      "======================================================================\n",
      "OPTIMIZER COMPARISON SUMMARY\n",
      "======================================================================\n",
      "\n",
      "1. Learning Rate Decay:\n",
      "   - Stabilization Epoch: ~10\n",
      "   - Final Accuracy: 0.4033\n",
      "\n",
      "2. Momentum:\n",
      "   - Stabilization Epoch: ~10\n",
      "   - Final Accuracy: 0.4200\n",
      "\n",
      "3. AdaGrad:\n",
      "   - Stabilization Epoch: ~13\n",
      "   - Final Accuracy: 0.3333\n",
      "\n",
      "======================================================================\n",
      "KEY OBSERVATIONS:\n",
      "======================================================================\n",
      "• Momentum typically converges faster due to smoother updates\n",
      "• AdaGrad adapts learning rates per parameter\n",
      "• Learning rate decay prevents overshooting in later epochs\n",
      "======================================================================\n",
      "\n"
     ]
    }
   ],
   "source": [
    "def find_stabilization_epoch(losses, threshold=0.01):\n",
    "    for i in range(10, len(losses)):\n",
    "        if abs(losses[i] - losses[i-10]) < threshold:\n",
    "            return i\n",
    "    return len(losses)\n",
    "\n",
    "stabilize_decay = find_stabilization_epoch(losses_decay)\n",
    "stabilize_momentum = find_stabilization_epoch(losses_momentum)\n",
    "stabilize_adagrad = find_stabilization_epoch(losses_adagrad)\n",
    "\n",
    "print(\"\\n\" + \"=\"*70)\n",
    "print(\"OPTIMIZER COMPARISON SUMMARY\")\n",
    "print(\"=\"*70)\n",
    "\n",
    "print(f\"\\n1. Learning Rate Decay:\")\n",
    "print(f\"   - Stabilization Epoch: ~{stabilize_decay}\")\n",
    "print(f\"   - Final Accuracy: {acc_decay[-1]:.4f}\")\n",
    "\n",
    "print(f\"\\n2. Momentum:\")\n",
    "print(f\"   - Stabilization Epoch: ~{stabilize_momentum}\")\n",
    "print(f\"   - Final Accuracy: {acc_momentum[-1]:.4f}\")\n",
    "\n",
    "print(f\"\\n3. AdaGrad:\")\n",
    "print(f\"   - Stabilization Epoch: ~{stabilize_adagrad}\")\n",
    "print(f\"   - Final Accuracy: {acc_adagrad[-1]:.4f}\")\n",
    "\n",
    "print(\"\\n\" + \"=\"*70)\n",
    "print(\"KEY OBSERVATIONS:\")\n",
    "print(\"=\"*70)\n",
    "print(\"• Momentum typically converges faster due to smoother updates\")\n",
    "print(\"• AdaGrad adapts learning rates per parameter\")\n",
    "print(\"• Learning rate decay prevents overshooting in later epochs\")\n",
    "print(\"=\"*70 + \"\\n\")"
   ]
  }
 ],
 "metadata": {
  "kernelspec": {
   "display_name": "Python 3",
   "language": "python",
   "name": "python3"
  },
  "language_info": {
   "codemirror_mode": {
    "name": "ipython",
    "version": 3
   },
   "file_extension": ".py",
   "mimetype": "text/x-python",
   "name": "python",
   "nbconvert_exporter": "python",
   "pygments_lexer": "ipython3",
   "version": "3.13.7"
  }
 },
 "nbformat": 4,
 "nbformat_minor": 5
}
