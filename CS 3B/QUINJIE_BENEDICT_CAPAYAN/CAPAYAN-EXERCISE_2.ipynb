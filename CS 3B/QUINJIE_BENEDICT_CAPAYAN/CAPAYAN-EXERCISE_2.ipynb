{
 "cells": [
  {
   "cell_type": "markdown",
   "id": "c5445d94",
   "metadata": {},
   "source": [
    "# Unit 2 Exercise - Dense Layer Implementation\n",
    "This notebook implements a custom Dense Layer class with activation functions and loss calculation.\n",
    "It also demonstrates applications on the **Iris Dataset** as required."
   ]
  },
  {
   "cell_type": "code",
   "execution_count": 10,
   "id": "d94e5244",
   "metadata": {},
   "outputs": [],
   "source": [
    "import numpy as np\n",
    "from math import exp, log\n",
    "np.set_printoptions(suppress=True)"
   ]
  },
  {
   "cell_type": "markdown",
   "id": "2b555803",
   "metadata": {},
   "source": [
    "## Dense Layer Class"
   ]
  },
  {
   "cell_type": "code",
   "execution_count": 11,
   "id": "0706aa57",
   "metadata": {},
   "outputs": [],
   "source": [
    "class Dense_Layer:\n",
    "    def __init__(self, inputs, weights, bias, activation):\n",
    "        self.inputs = np.array(inputs)\n",
    "        self.weights = np.array(weights)\n",
    "        self.bias = np.array(bias)\n",
    "        self.activation = activation\n",
    "\n",
    "    def weighted_sum(self):\n",
    "        return np.dot(self.inputs, self.weights) + self.bias\n",
    "\n",
    "    def activate(self, z):\n",
    "        if self.activation == 'relu':\n",
    "            return np.maximum(0, z)\n",
    "        elif self.activation == 'sigmoid':\n",
    "            return 1 / (1 + np.exp(-z))\n",
    "        elif self.activation == 'softmax':\n",
    "            exp_vals = np.exp(z - np.max(z))\n",
    "            return exp_vals / np.sum(exp_vals)\n",
    "        else:\n",
    "            return z\n",
    "\n",
    "    def forward(self):\n",
    "        z = self.weighted_sum()\n",
    "        return self.activate(z)\n",
    "\n",
    "    @staticmethod\n",
    "    def loss(predicted, target):\n",
    "        predicted = np.clip(predicted, 1e-9, 1-1e-9)\n",
    "        return -np.sum(target * np.log(predicted))"
   ]
  },
  {
   "cell_type": "markdown",
   "id": "9c621f2c",
   "metadata": {},
   "source": [
    "## Iris Dataset\n",
    "Using Sepal Length, Sepal Width, Petal Length, Petal Width to classify into 3 classes.\n",
    "Network: ReLU → Sigmoid → Softmax"
   ]
  },
  {
   "cell_type": "code",
   "execution_count": 12,
   "id": "9c4ef03b",
   "metadata": {},
   "outputs": [
    {
     "name": "stdout",
     "output_type": "stream",
     "text": [
      "Hidden Layer 1 Output: [0.         0.14442821 7.86504768 0.         8.05332642]\n",
      "Hidden Layer 2 Output: [0.83131191 0.99996959 0.00000005 0.99674269]\n",
      "Final Output (Probabilities): [0.25348027 0.66952786 0.07699187]\n",
      "Loss: 1.3724692782380372\n"
     ]
    }
   ],
   "source": [
    "# Example inputs (dummy example for illustration)\n",
    "X = [5.1, 3.5, 1.4, 0.2]  # Iris Setosa features\n",
    "target_output = [1, 0, 0]  # One-hot target\n",
    "\n",
    "# First hidden layer\n",
    "W1 = np.random.randn(4, 5)\n",
    "B1 = np.random.randn(5)\n",
    "layer1 = Dense_Layer(X, W1, B1, 'relu')\n",
    "out1 = layer1.forward()\n",
    "print('Hidden Layer 1 Output:', out1)\n",
    "\n",
    "# Second hidden layer\n",
    "W2 = np.random.randn(5, 4)\n",
    "B2 = np.random.randn(4)\n",
    "layer2 = Dense_Layer(out1, W2, B2, 'sigmoid')\n",
    "out2 = layer2.forward()\n",
    "print('Hidden Layer 2 Output:', out2)\n",
    "\n",
    "# Output layer\n",
    "W3 = np.random.randn(4, 3)\n",
    "B3 = np.random.randn(3)\n",
    "layer3 = Dense_Layer(out2, W3, B3, 'softmax')\n",
    "out3 = layer3.forward()\n",
    "print('Final Output (Probabilities):', out3)\n",
    "\n",
    "# Loss\n",
    "loss_val = Dense_Layer.loss(out3, target_output)\n",
    "print('Loss:', loss_val)"
   ]
  }
 ],
 "metadata": {
  "kernelspec": {
   "display_name": "Python 3",
   "language": "python",
   "name": "python3"
  },
  "language_info": {
   "codemirror_mode": {
    "name": "ipython",
    "version": 3
   },
   "file_extension": ".py",
   "mimetype": "text/x-python",
   "name": "python",
   "nbconvert_exporter": "python",
   "pygments_lexer": "ipython3",
   "version": "3.13.1"
  }
 },
 "nbformat": 4,
 "nbformat_minor": 5
}
