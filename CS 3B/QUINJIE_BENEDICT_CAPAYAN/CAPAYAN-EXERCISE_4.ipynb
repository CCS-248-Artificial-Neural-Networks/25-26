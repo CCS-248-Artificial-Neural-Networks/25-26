{
 "cells": [
  {
   "cell_type": "markdown",
   "id": "5c27b88b",
   "metadata": {},
   "source": [
    "# Imports"
   ]
  },
  {
   "cell_type": "code",
   "execution_count": 1,
   "id": "08a90e5a",
   "metadata": {},
   "outputs": [],
   "source": [
    "import numpy as np"
   ]
  },
  {
   "cell_type": "markdown",
   "id": "1933aa5e",
   "metadata": {},
   "source": [
    "# Layer Classes"
   ]
  },
  {
   "cell_type": "code",
   "execution_count": 2,
   "id": "33f23244",
   "metadata": {},
   "outputs": [],
   "source": [
    "class Layer_Dense:\n",
    "    def __init__(self, n_inputs, n_neurons):\n",
    "        self.weights = 0.01 * np.random.randn(n_inputs, n_neurons)\n",
    "        self.biases = np.zeros((1, n_neurons))\n",
    "    def forward(self, inputs):\n",
    "        self.inputs = inputs\n",
    "        self.output = np.dot(inputs, self.weights) + self.biases\n",
    "    def backward(self, dvalues):\n",
    "        self.dweights = np.dot(self.inputs.T, dvalues)\n",
    "        self.dbiases = np.sum(dvalues, axis=0, keepdims=True)\n",
    "        self.dinputs = np.dot(dvalues, self.weights.T)"
   ]
  },
  {
   "cell_type": "markdown",
   "id": "951f478c",
   "metadata": {},
   "source": [
    "# Activation Functions"
   ]
  },
  {
   "cell_type": "code",
   "execution_count": 3,
   "id": "24c9cd27",
   "metadata": {},
   "outputs": [],
   "source": [
    "class Activation_ReLU:\n",
    "    def forward(self, inputs):\n",
    "        self.inputs = inputs\n",
    "        self.output = np.maximum(0, inputs)\n",
    "    def backward(self, dvalues):\n",
    "        self.dinputs = dvalues.copy()\n",
    "        self.dinputs[self.inputs <= 0] = 0\n",
    "\n",
    "class Activation_Softmax:\n",
    "    def forward(self, inputs):\n",
    "        exp_values = np.exp(inputs - np.max(inputs, axis=1, keepdims=True))\n",
    "        probabilities = exp_values / np.sum(exp_values, axis=1, keepdims=True)\n",
    "        self.output = probabilities\n",
    "    def backward(self, dvalues):\n",
    "        self.dinputs = np.empty_like(dvalues)\n",
    "        for index, (single_output, single_dvalues) in enumerate(zip(self.output, dvalues)):\n",
    "            single_output = single_output.reshape(-1, 1)\n",
    "            jacobian_matrix = np.diagflat(single_output) - np.dot(single_output, single_output.T)\n",
    "            self.dinputs[index] = np.dot(jacobian_matrix, single_dvalues)"
   ]
  },
  {
   "cell_type": "markdown",
   "id": "9f8b1eef",
   "metadata": {},
   "source": [
    "# Loss Function"
   ]
  },
  {
   "cell_type": "code",
   "execution_count": 4,
   "id": "38701b85",
   "metadata": {},
   "outputs": [],
   "source": [
    "class Loss:\n",
    "    def calculate(self, output, y):\n",
    "        sample_losses = self.forward(output, y)\n",
    "        return np.mean(sample_losses)\n",
    "\n",
    "class Loss_CategoricalCrossEntropy(Loss):\n",
    "    def forward(self, y_pred, y_true):\n",
    "        samples = len(y_pred)\n",
    "        y_pred_clipped = np.clip(y_pred, 1e-7, 1 - 1e-7)\n",
    "        if len(y_true.shape) == 1:\n",
    "            correct_confidences = y_pred_clipped[range(samples), y_true]\n",
    "        else:\n",
    "            correct_confidences = np.sum(y_pred_clipped * y_true, axis=1)\n",
    "        return -np.log(correct_confidences)\n",
    "    def backward(self, dvalues, y_true):\n",
    "        samples = len(dvalues)\n",
    "        labels = len(dvalues[0])\n",
    "        if len(y_true.shape) == 1:\n",
    "            y_true = np.eye(labels)[y_true]\n",
    "        self.dinputs = -y_true / dvalues\n",
    "        self.dinputs = self.dinputs / samples"
   ]
  },
  {
   "cell_type": "markdown",
   "id": "514212f7",
   "metadata": {},
   "source": [
    "# Optimizer (Learning Rate Decay, Momentum, Adagrad)"
   ]
  },
  {
   "cell_type": "code",
   "execution_count": 5,
   "id": "e1992673",
   "metadata": {},
   "outputs": [],
   "source": [
    "class Optimizer:\n",
    "    def __init__(self, learning_rate=1.0, decay=0.0, momentum=0.0, use_adagrad=False):\n",
    "        self.learning_rate = learning_rate\n",
    "        self.current_learning_rate = learning_rate\n",
    "        self.decay = decay\n",
    "        self.iterations = 0\n",
    "        self.momentum = momentum\n",
    "        self.use_adagrad = use_adagrad\n",
    "        self.epsilon = 1e-7\n",
    "    def pre_update_params(self):\n",
    "        if self.decay:\n",
    "            self.current_learning_rate = self.learning_rate * (1.0 / (1.0 + self.decay * self.iterations))\n",
    "    def update_params(self, layer):\n",
    "        if self.use_adagrad:\n",
    "            if not hasattr(layer, \"weight_cache\"):\n",
    "                layer.weight_cache = np.zeros_like(layer.weights)\n",
    "                layer.bias_cache = np.zeros_like(layer.biases)\n",
    "            layer.weight_cache += layer.dweights ** 2\n",
    "            layer.bias_cache += layer.dbiases ** 2\n",
    "            layer.weights += -self.current_learning_rate * layer.dweights / (np.sqrt(layer.weight_cache) + self.epsilon)\n",
    "            layer.biases += -self.current_learning_rate * layer.dbiases / (np.sqrt(layer.bias_cache) + self.epsilon)\n",
    "        elif self.momentum:\n",
    "            if not hasattr(layer, \"weight_momentums\"):\n",
    "                layer.weight_momentums = np.zeros_like(layer.weights)\n",
    "                layer.bias_momentums = np.zeros_like(layer.biases)\n",
    "            weight_updates = self.momentum * layer.weight_momentums - self.current_learning_rate * layer.dweights\n",
    "            bias_updates = self.momentum * layer.bias_momentums - self.current_learning_rate * layer.dbiases\n",
    "            layer.weight_momentums = weight_updates\n",
    "            layer.bias_momentums = bias_updates\n",
    "            layer.weights += weight_updates\n",
    "            layer.biases += bias_updates\n",
    "        else:\n",
    "            layer.weights += -self.current_learning_rate * layer.dweights\n",
    "            layer.biases += -self.current_learning_rate * layer.dbiases\n",
    "    def post_update_params(self):\n",
    "        self.iterations += 1"
   ]
  },
  {
   "cell_type": "markdown",
   "id": "8a7ee105",
   "metadata": {},
   "source": [
    "#  Data Generation"
   ]
  },
  {
   "cell_type": "code",
   "execution_count": 6,
   "id": "6eb49455",
   "metadata": {},
   "outputs": [],
   "source": [
    "def generate_data(samples=100):\n",
    "    X = np.random.randn(samples, 2)\n",
    "    y = np.random.randint(0, 3, samples)\n",
    "    return X, y\n",
    "\n",
    "X, y = generate_data(300)"
   ]
  },
  {
   "cell_type": "markdown",
   "id": "ee33fbc3",
   "metadata": {},
   "source": [
    "#  Model Initialization"
   ]
  },
  {
   "cell_type": "code",
   "execution_count": 7,
   "id": "8a7cb8e0",
   "metadata": {},
   "outputs": [],
   "source": [
    "dense1 = Layer_Dense(2, 3)\n",
    "activation1 = Activation_ReLU()\n",
    "dense2 = Layer_Dense(3, 3)\n",
    "activation2 = Activation_Softmax()\n",
    "loss_function = Loss_CategoricalCrossEntropy()"
   ]
  },
  {
   "cell_type": "markdown",
   "id": "38e9f3d2",
   "metadata": {},
   "source": [
    "# Training Loop & Accuracy Display"
   ]
  },
  {
   "cell_type": "code",
   "execution_count": 8,
   "id": "ee107841",
   "metadata": {},
   "outputs": [],
   "source": [
    "def train_with_optimizer(opt, epochs=1000, print_every=100):\n",
    "    for epoch in range(epochs):\n",
    "        dense1.forward(X)\n",
    "        activation1.forward(dense1.output)\n",
    "        dense2.forward(activation1.output)\n",
    "        activation2.forward(dense2.output)\n",
    "        loss = loss_function.calculate(activation2.output, y)\n",
    "        predictions = np.argmax(activation2.output, axis=1)\n",
    "        accuracy = np.mean(predictions == y)\n",
    "        loss_function.backward(activation2.output, y)\n",
    "        activation2.backward(loss_function.dinputs)\n",
    "        dense2.backward(activation2.dinputs)\n",
    "        activation1.backward(dense2.dinputs)\n",
    "        dense1.backward(activation1.dinputs)\n",
    "        opt.pre_update_params()\n",
    "        opt.update_params(dense1)\n",
    "        opt.update_params(dense2)\n",
    "        opt.post_update_params()\n",
    "        if epoch % print_every == 0:\n",
    "            print(f\"Epoch {epoch}, Loss {loss:.3f}, Accuracy {accuracy:.3f}, LR {opt.current_learning_rate:.5f}\")\n",
    "    return accuracy"
   ]
  },
  {
   "cell_type": "markdown",
   "id": "0940b2b9",
   "metadata": {},
   "source": [
    "# Optimizer Comparison"
   ]
  },
  {
   "cell_type": "code",
   "execution_count": 9,
   "id": "dde8a722",
   "metadata": {},
   "outputs": [
    {
     "name": "stdout",
     "output_type": "stream",
     "text": [
      "Epoch 0, Loss 1.099, Accuracy 0.347, LR 1.00000\n",
      "Epoch 100, Loss 1.091, Accuracy 0.377, LR 0.90909\n",
      "Epoch 200, Loss 1.083, Accuracy 0.407, LR 0.83333\n",
      "Epoch 300, Loss 1.081, Accuracy 0.427, LR 0.76923\n",
      "Epoch 400, Loss 1.081, Accuracy 0.433, LR 0.71429\n",
      "Epoch 500, Loss 1.080, Accuracy 0.430, LR 0.66667\n",
      "Epoch 600, Loss 1.080, Accuracy 0.437, LR 0.62500\n",
      "Epoch 700, Loss 1.080, Accuracy 0.430, LR 0.58824\n",
      "Epoch 800, Loss 1.080, Accuracy 0.420, LR 0.55556\n",
      "Epoch 900, Loss 1.079, Accuracy 0.413, LR 0.52632\n",
      "Epoch 0, Loss 1.079, Accuracy 0.410, LR 1.00000\n",
      "Epoch 100, Loss 1.072, Accuracy 0.430, LR 1.00000\n",
      "Epoch 200, Loss 1.072, Accuracy 0.420, LR 1.00000\n",
      "Epoch 300, Loss 1.072, Accuracy 0.420, LR 1.00000\n",
      "Epoch 400, Loss 1.072, Accuracy 0.420, LR 1.00000\n",
      "Epoch 500, Loss 1.072, Accuracy 0.420, LR 1.00000\n",
      "Epoch 600, Loss 1.072, Accuracy 0.420, LR 1.00000\n",
      "Epoch 700, Loss 1.072, Accuracy 0.417, LR 1.00000\n",
      "Epoch 800, Loss 1.072, Accuracy 0.427, LR 1.00000\n",
      "Epoch 900, Loss 1.072, Accuracy 0.427, LR 1.00000\n",
      "Epoch 0, Loss 1.072, Accuracy 0.427, LR 1.00000\n",
      "Epoch 100, Loss 1.075, Accuracy 0.400, LR 1.00000\n",
      "Epoch 200, Loss 1.075, Accuracy 0.397, LR 1.00000\n",
      "Epoch 300, Loss 1.075, Accuracy 0.397, LR 1.00000\n",
      "Epoch 400, Loss 1.075, Accuracy 0.397, LR 1.00000\n",
      "Epoch 500, Loss 1.075, Accuracy 0.397, LR 1.00000\n",
      "Epoch 600, Loss 1.075, Accuracy 0.397, LR 1.00000\n",
      "Epoch 700, Loss 1.075, Accuracy 0.397, LR 1.00000\n",
      "Epoch 800, Loss 1.075, Accuracy 0.397, LR 1.00000\n",
      "Epoch 900, Loss 1.075, Accuracy 0.397, LR 1.00000\n",
      "Decay Accuracy 0.41\n",
      "Momentum Accuracy 0.4266666666666667\n",
      "Adagrad Accuracy 0.39666666666666667\n"
     ]
    }
   ],
   "source": [
    "opt_decay = Optimizer(learning_rate=1.0, decay=1e-3)\n",
    "acc_decay = train_with_optimizer(opt_decay)\n",
    "opt_momentum = Optimizer(learning_rate=1.0, momentum=0.9)\n",
    "acc_momentum = train_with_optimizer(opt_momentum)\n",
    "opt_adagrad = Optimizer(learning_rate=1.0, use_adagrad=True)\n",
    "acc_adagrad = train_with_optimizer(opt_adagrad)\n",
    "\n",
    "print(\"Decay Accuracy\", acc_decay)\n",
    "print(\"Momentum Accuracy\", acc_momentum)\n",
    "print(\"Adagrad Accuracy\", acc_adagrad)"
   ]
  }
 ],
 "metadata": {
  "kernelspec": {
   "display_name": "Python 3",
   "language": "python",
   "name": "python3"
  },
  "language_info": {
   "codemirror_mode": {
    "name": "ipython",
    "version": 3
   },
   "file_extension": ".py",
   "mimetype": "text/x-python",
   "name": "python",
   "nbconvert_exporter": "python",
   "pygments_lexer": "ipython3",
   "version": "3.13.1"
  }
 },
 "nbformat": 4,
 "nbformat_minor": 5
}
