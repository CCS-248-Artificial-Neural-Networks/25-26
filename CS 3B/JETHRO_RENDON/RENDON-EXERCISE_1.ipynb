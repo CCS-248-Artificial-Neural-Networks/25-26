{
 "cells": [
  {
   "cell_type": "code",
   "execution_count": 7,
   "id": "37b12296",
   "metadata": {},
   "outputs": [
    {
     "name": "stdout",
     "output_type": "stream",
     "text": [
      "Input (8, 7) => sf(4.60), Output: 1 (PASSED)\n",
      "Input (3, 4) => sf(0.40), Output: 0 (FAILED)\n"
     ]
    }
   ],
   "source": [
    "# 1. (10 points) Determine whether the student passes (1) or fails (0)based on:\n",
    "# a. Hours studied\n",
    "# b. Hours of sleep\n",
    "\n",
    "def perceptron(x1, x2, w1=0.6, w2=0.4, bias=-3, threshold=1):\n",
    "    # Compute weighted sum (step function input)\n",
    "    sf = (x1 * w1) + (x2 * w2) + bias\n",
    "    \n",
    "    # Apply step function\n",
    "    output = 1 if sf >= threshold else 0\n",
    "    \n",
    "    # Add interpretation\n",
    "    status = \"PASSED\" if output == 1 else \"FAILED\"\n",
    "    \n",
    "    return sf, output, status\n",
    "\n",
    "\n",
    "# Test cases\n",
    "inputs = [(8, 7), (3, 4)]\n",
    "\n",
    "for x1, x2 in inputs:\n",
    "    sf, result, status = perceptron(x1, x2)\n",
    "    print(f\"Input ({x1}, {x2}) => sf({sf:.2f}), Output: {result} ({status})\")\n"
   ]
  },
  {
   "cell_type": "code",
   "execution_count": 1,
   "id": "fd1a9d71",
   "metadata": {},
   "outputs": [
    {
     "name": "stdout",
     "output_type": "stream",
     "text": [
      "x1 x2  =>  Sf(value)  Output\n",
      "0  0   =>  Sf(-1.50)     0 (FALSE)\n",
      "0  1   =>  Sf(-0.50)     0 (FALSE)\n",
      "1  0   =>  Sf(-0.50)     0 (FALSE)\n",
      "1  1   =>  Sf(0.50)     1 (TRUE)\n",
      "\n",
      "Acts like AND gate: YES\n"
     ]
    }
   ],
   "source": [
    "\n",
    "# 2. (20 points) Logic Gate Simulation. Given the following setup for a perceptron, compute its output and verify whether it acts as an AND gate.\n",
    "\n",
    "def perceptron_and(x1, x2, w1=1.0, w2=1.0, bias=-1.5, threshold=0.0):\n",
    "    # Step-function input (weighted sum + bias)\n",
    "    sf = (x1 * w1) + (x2 * w2) + bias\n",
    "    # Step function\n",
    "    y = 1 if sf >= threshold else 0\n",
    "    return sf, y\n",
    "\n",
    "# Truth-table inputs\n",
    "inputs = [(0,0), (0,1), (1,0), (1,1)]\n",
    "\n",
    "print(\"x1 x2  =>  Sf(value)  Output\")\n",
    "for x1, x2 in inputs:\n",
    "    sf, y = perceptron_and(x1, x2)\n",
    "    print(f\"{x1}  {x2}   =>  Sf({sf:.2f})     {y} ({'TRUE' if y==1 else 'FALSE'})\")\n",
    "\n",
    "# Quick verification vs AND\n",
    "acts_like_and = all(perceptron_and(x1, x2)[1] == (x1 & x2) for x1, x2 in inputs)\n",
    "print(\"\\nActs like AND gate:\", \"YES\" if acts_like_and else \"NO\")\n"
   ]
  },
  {
   "cell_type": "code",
   "execution_count": 6,
   "id": "6abcbbee",
   "metadata": {},
   "outputs": [
    {
     "name": "stdout",
     "output_type": "stream",
     "text": [
      "Perceptron A: Sf(1.70), Output: 1\n",
      "Perceptron B: Sf(0.50), Output: 1\n",
      "Perceptron C: Sf(0.15), Output: 1\n",
      "\n",
      "WINNER: Perceptron A with the highest Sf(1.70)\n"
     ]
    }
   ],
   "source": [
    "# 3. (60 points) Perceptron comparison (One vs All). Given the 3 perceptron, using the same input, compute the output and decided on the predicted class is the WINNER. If a tie is present, compare and get the highest weighted sum.\n",
    "\n",
    "def perceptron_score(x, w, b, threshold=0.0):\n",
    "    sf = sum(xi * wi for xi, wi in zip(x, w)) + b\n",
    "    y = 1 if sf >= threshold else 0\n",
    "    return sf, y\n",
    "\n",
    "# Inputs and configs\n",
    "x = [0.5, -1, 2, 1, 0]\n",
    "\n",
    "WA, BA = [1.0, -0.5, 0.2, 0.1, 0.0], 0.2\n",
    "WB, BB = [0.2, 0.2, 0.5, -0.4, 0.3], 0.0\n",
    "WC, BC = [-0.3, -0.1, 0.4, 0.0, 0.2], -0.6\n",
    "\n",
    "labels = [\"A\", \"B\", \"C\"]\n",
    "weights = [WA, WB, WC]\n",
    "biases  = [BA, BB, BC]\n",
    "\n",
    "results = {}\n",
    "for label, w, b in zip(labels, weights, biases):\n",
    "    sf, y = perceptron_score(x, w, b, threshold=0.0)\n",
    "    results[label] = {\"sf\": sf, \"y\": y}\n",
    "    print(f\"Perceptron {label}: Sf({sf:.2f}), Output: {y}\")\n",
    "\n",
    "# Decide winner: prefer any with y=1; if tie, highest sf; if none, highest sf\n",
    "candidates = [k for k, v in results.items() if v[\"y\"] == 1]\n",
    "winner = max(candidates or results.keys(), key=lambda k: results[k][\"sf\"])\n",
    "winner_sf = results[winner][\"sf\"]\n",
    "\n",
    "print(f\"\\nWINNER: Perceptron {winner} with the highest Sf({winner_sf:.2f})\")\n"
   ]
  }
 ],
 "metadata": {
  "kernelspec": {
   "display_name": "Python 3",
   "language": "python",
   "name": "python3"
  },
  "language_info": {
   "codemirror_mode": {
    "name": "ipython",
    "version": 3
   },
   "file_extension": ".py",
   "mimetype": "text/x-python",
   "name": "python",
   "nbconvert_exporter": "python",
   "pygments_lexer": "ipython3",
   "version": "3.13.2"
  }
 },
 "nbformat": 4,
 "nbformat_minor": 5
}
