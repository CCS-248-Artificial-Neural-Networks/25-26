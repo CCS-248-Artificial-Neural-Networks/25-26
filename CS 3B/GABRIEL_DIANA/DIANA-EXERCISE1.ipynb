{
 "cells": [
  {
   "cell_type": "markdown",
   "id": "606ee812",
   "metadata": {},
   "source": [
    "# **Exercise for Unit 1**\n",
    "\n",
    "**BSCS 3B-AI**\n",
    "\n",
    "Submitted by:\n",
    "- Gabriel M. Diana\n",
    "- Ken Meiro C. Villareal"
   ]
  },
  {
   "cell_type": "markdown",
   "id": "6b89ef95",
   "metadata": {},
   "source": [
    "---\n",
    "### **Perceptron Helper Class:**"
   ]
  },
  {
   "cell_type": "code",
   "execution_count": 44,
   "id": "4de48aa5",
   "metadata": {},
   "outputs": [],
   "source": [
    "from collections import namedtuple\n",
    "from typing import Tuple, Callable"
   ]
  },
  {
   "cell_type": "code",
   "execution_count": 45,
   "id": "c085ac3c",
   "metadata": {},
   "outputs": [],
   "source": [
    "class Perceptron:\n",
    "    def __init__(self, *, weights: Tuple[float], threshold: float = 0.0):\n",
    "        self.weights = weights\n",
    "        self.activation_function: Callable[[float], int] = lambda x: 1 if x >= threshold else 0\n",
    "\n",
    "    def predict(self, inputs: Tuple[float], bias: float = 0.0) -> int:\n",
    "        if len(inputs) != len(self.weights):\n",
    "            raise ValueError('Number of inputs must match number of weights.')\n",
    "\n",
    "        weighted_sum = sum(weight * input for weight, input in zip(self.weights, inputs)) + bias\n",
    "        return self.activation_function(weighted_sum)"
   ]
  },
  {
   "cell_type": "markdown",
   "id": "4352dbe2",
   "metadata": {},
   "source": [
    "---\n",
    "### **Item 1:**\n",
    "(*20 points*) Determine whether the student passes (1) or fails (0) based on:\n",
    "- Hours studied\n",
    "- Hours of sleep\n",
    "    \n",
    "Given weights `w1 = 0.6`, `w2 = 0.4`, `bias = -3`<br>\n",
    "Step function with a threshold of 1 \n",
    "\n",
    "Predict the output of the following inputs:\n",
    "1.\t`(x1, x2) = (8, 7)`\n",
    "2.\t`(x1, x2) = (3, 4)`\n"
   ]
  },
  {
   "cell_type": "code",
   "execution_count": 53,
   "id": "540b42bb",
   "metadata": {},
   "outputs": [],
   "source": [
    "def item_1():\n",
    "    # Perceptron Variables\n",
    "    WEIGHTS = (\n",
    "        0.6, # w1\n",
    "        0.4, # w2\n",
    "    )\n",
    "    BIAS = -3.0\n",
    "    THRESHOLD = 1.0\n",
    "\n",
    "    # Define student inputs in code\n",
    "    Student = namedtuple('Student', ['hours_studied', 'hours_sleep'])\n",
    "    students = (\n",
    "        Student(hours_studied=8, hours_sleep=7), # Student 1: (x1, x2) = (8, 7)\n",
    "        Student(hours_studied=3, hours_sleep=4)  # Student 2: (x1, x2) = (3, 4)\n",
    "    )\n",
    "\n",
    "    # Initialize perceptron with weights and threshold\n",
    "    perceptron = Perceptron(weights=WEIGHTS, threshold=THRESHOLD)\n",
    "\n",
    "    # Predict and print results for each student\n",
    "    for student in students:\n",
    "        inputs = (student.hours_studied, student.hours_sleep)\n",
    "        result = perceptron.predict(inputs, BIAS)\n",
    "\n",
    "        print(f'Student with {student.hours_studied} hours studied and {student.hours_sleep} '\n",
    "              f'hours sleep: {\"Passed\" if result == 1 else \"Failed\"} [{result}]')"
   ]
  },
  {
   "cell_type": "markdown",
   "id": "4c0d78ba",
   "metadata": {},
   "source": [
    "**Output:**"
   ]
  },
  {
   "cell_type": "code",
   "execution_count": 54,
   "id": "65e8f167",
   "metadata": {},
   "outputs": [
    {
     "name": "stdout",
     "output_type": "stream",
     "text": [
      "Student with 8 hours studied and 7 hours sleep: Passed [1]\n",
      "Student with 3 hours studied and 4 hours sleep: Failed [0]\n"
     ]
    }
   ],
   "source": [
    "item_1()"
   ]
  },
  {
   "cell_type": "markdown",
   "id": "d511d198",
   "metadata": {},
   "source": [
    "---\n",
    "### **Item 2:**\n",
    "(*20 points*) Logic Gate Simulation. Given the following setup for a perceptron, compute its output and verify whether it acts as an AND gate.\n",
    "\n",
    "Given weights `w1 = 1`, `w2 = 1`, `bias = -1.5`<br>\n",
    "Step function with a threshold of 0\n",
    "\n",
    "Inputs:\n",
    "- `(0,0)`\n",
    "- `(0,1)`\n",
    "- `(1,0)`\n",
    "- `(1,1)`\n"
   ]
  },
  {
   "cell_type": "code",
   "execution_count": 56,
   "id": "62301fd5",
   "metadata": {},
   "outputs": [],
   "source": [
    "def item_2():\n",
    "    # Perceptron Variables\n",
    "    WEIGHTS = (\n",
    "        1.0, # w1\n",
    "        1.0, # w2\n",
    "    )\n",
    "    BIAS = -1.5\n",
    "    THRESHOLD = 0.0\n",
    "\n",
    "    # Define input combinations\n",
    "    inputs = (\n",
    "        (0, 0),\n",
    "        (0, 1),\n",
    "        (1, 0),\n",
    "        (1, 1)\n",
    "    )\n",
    "\n",
    "    # Logical AND gate for comparison\n",
    "    logical_AND = lambda x1, x2: 1 if (x1 == 1 and x2 == 1) else 0\n",
    "\n",
    "    # Initialize perceptron with weights and threshold\n",
    "    perceptron = Perceptron(weights=WEIGHTS, threshold=THRESHOLD)\n",
    "\n",
    "    # Check if perceptron matches logical AND gate\n",
    "    same_results = True\n",
    "    \n",
    "    # Print table for comparison\n",
    "    print(\"Inputs | Perceptron Output | Logic AND Output\")\n",
    "    print(\"------ | ----------------- | ----------------\")\n",
    "    for input in inputs:\n",
    "        perceptron_result = perceptron.predict(input, BIAS)\n",
    "        logical_AND_result = logical_AND(*input)\n",
    "\n",
    "        if perceptron_result != logical_AND_result:\n",
    "            same_results = False\n",
    "        print(f'{input} |         {perceptron_result}         |         {logical_AND_result}')\n",
    "\n",
    "    # Print conclusion\n",
    "    print(\"Conclusion: \", end='')\n",
    "    if same_results:\n",
    "        print(\"The perceptron behaves like an AND gate.\")\n",
    "    else:\n",
    "        print(\"The perceptron does not behave like an AND gate.\")"
   ]
  },
  {
   "cell_type": "markdown",
   "id": "8694eec7",
   "metadata": {},
   "source": [
    "**Output:**"
   ]
  },
  {
   "cell_type": "code",
   "execution_count": 57,
   "id": "017d030d",
   "metadata": {},
   "outputs": [
    {
     "name": "stdout",
     "output_type": "stream",
     "text": [
      "Inputs | Perceptron Output | Logic AND Output\n",
      "------ | ----------------- | ----------------\n",
      "(0, 0) |         0         |         0\n",
      "(0, 1) |         0         |         0\n",
      "(1, 0) |         0         |         0\n",
      "(1, 1) |         1         |         1\n",
      "Conclusion: The perceptron behaves like an AND gate.\n"
     ]
    }
   ],
   "source": [
    "item_2()"
   ]
  },
  {
   "cell_type": "markdown",
   "id": "b5fd61c5",
   "metadata": {},
   "source": [
    "---\n",
    "### **Item 3:**\n",
    "(*60 points*) Perceptron comparison (One vs All). Given the 3 perceptron, using the same input, compute the output and decided on the predicted class is the WINNER. If a tie is present, compare and get the highest weighted sum. \n",
    "\n",
    "Inputs = `[0.5, -1, 2, 1, 0]`\n",
    "\n",
    "Perceptron A:\n",
    "- Weights: `WA = [1.0, -0.5, 0.2, 0.1, 0.0]`\n",
    "- BiasA: `0.2`\n",
    "\n",
    "Perceptron B\n",
    "- Weights: `WB = [0.2, 0.2, 0.5, -0.4, 0.3]`\n",
    "- BiasB: `0.0`\n",
    "\n",
    "Perceptron C\n",
    "- Weights: `WC = [-0.3, -0.1, 0.4, 0.0, 0.2]`\n",
    "- BiasC: `-0.6`\n"
   ]
  },
  {
   "cell_type": "code",
   "execution_count": 60,
   "id": "212cac49",
   "metadata": {},
   "outputs": [],
   "source": [
    "def item_3():\n",
    "    # Define input data\n",
    "    inputs = (0.5, -1, 2, 1, 0)\n",
    "\n",
    "    # Perceptron A configuration\n",
    "    perceptron_A = Perceptron(\n",
    "        weights=(1.0, -0.5, 0.2, 0.1, 0.0),\n",
    "        threshold=0.0\n",
    "    )\n",
    "\n",
    "    # Perceptron B configuration\n",
    "    perceptron_B = Perceptron(\n",
    "        weights=(0.2, 0.2, 0.5, -0.4, 0.3),\n",
    "        threshold=0.0\n",
    "    )\n",
    "\n",
    "    # Perceptron C configuration\n",
    "    perceptron_C = Perceptron(\n",
    "        weights=(-0.3, -0.1, 0.4, 0.0, 0.2),\n",
    "        threshold=0.0\n",
    "    )\n",
    "\n",
    "    # Define perceptron configurations with their respective biases\n",
    "    PerceptronConfig = namedtuple('PerceptronConfig', ['name', 'perceptron', 'bias'])\n",
    "    perceptron_configs = (\n",
    "        PerceptronConfig(name='Perceptron A', perceptron=perceptron_A, bias=0.2),\n",
    "        PerceptronConfig(name='Perceptron B', perceptron=perceptron_B, bias=0.0),\n",
    "        PerceptronConfig(name='Perceptron C', perceptron=perceptron_C, bias=-0.6),\n",
    "    )\n",
    "\n",
    "    print(f\"Inputs: {inputs}\")\n",
    "    print()\n",
    "\n",
    "    # Calculate outputs and weighted sums for each perceptron\n",
    "    results = []\n",
    "    for config in perceptron_configs:\n",
    "        # Calculate weighted sum manually for tie-breaking\n",
    "        weighted_sum = sum(w * x for w, x in zip(config.perceptron.weights, inputs)) + config.bias\n",
    "        output = config.perceptron.predict(inputs, config.bias)\n",
    "        \n",
    "        results.append({\n",
    "            'name': config.name,\n",
    "            'weighted_sum': weighted_sum,\n",
    "            'output': output\n",
    "        })\n",
    "        \n",
    "        print(f\"{config.name}:\")\n",
    "        print(f\"  Weighted Sum: {weighted_sum:.3f}\")\n",
    "        print(f\"  Output: {output}\")\n",
    "        print()\n",
    "\n",
    "    # Determine the winner based on \"One vs All\" strategy\n",
    "    active_perceptrons = [result for result in results if result['output'] == 1]\n",
    "    \n",
    "    if len(active_perceptrons) == 0:\n",
    "        print(\"Result: No perceptron activated (all outputs are 0)\")\n",
    "        print(\"Winner: None\")\n",
    "    elif len(active_perceptrons) == 1:\n",
    "        winner = active_perceptrons[0]\n",
    "        print(f\"Result: Only one perceptron activated\")\n",
    "        print(f\"Winner: {winner['name']}\")\n",
    "    else:\n",
    "        # Tie case - choose the one with highest weighted sum\n",
    "        winner = max(active_perceptrons, key=lambda x: x['weighted_sum'])\n",
    "        print(f\"Result: Tie detected among {len(active_perceptrons)} perceptrons with output = 1\")\n",
    "        print(f\"Winner (highest weighted sum): {winner['name']} (weighted sum: {winner['weighted_sum']:.3f})\")"
   ]
  },
  {
   "cell_type": "markdown",
   "id": "30989886",
   "metadata": {},
   "source": [
    "**Output:**"
   ]
  },
  {
   "cell_type": "code",
   "execution_count": 61,
   "id": "c7c13e99",
   "metadata": {},
   "outputs": [
    {
     "name": "stdout",
     "output_type": "stream",
     "text": [
      "Inputs: (0.5, -1, 2, 1, 0)\n",
      "\n",
      "Perceptron A:\n",
      "  Weighted Sum: 1.700\n",
      "  Output: 1\n",
      "\n",
      "Perceptron B:\n",
      "  Weighted Sum: 0.500\n",
      "  Output: 1\n",
      "\n",
      "Perceptron C:\n",
      "  Weighted Sum: 0.150\n",
      "  Output: 1\n",
      "\n",
      "Result: Tie detected among 3 perceptrons with output = 1\n",
      "Winner (highest weighted sum): Perceptron A (weighted sum: 1.700)\n"
     ]
    }
   ],
   "source": [
    "item_3()"
   ]
  }
 ],
 "metadata": {
  "kernelspec": {
   "display_name": "Python 3",
   "language": "python",
   "name": "python3"
  },
  "language_info": {
   "codemirror_mode": {
    "name": "ipython",
    "version": 3
   },
   "file_extension": ".py",
   "mimetype": "text/x-python",
   "name": "python",
   "nbconvert_exporter": "python",
   "pygments_lexer": "ipython3",
   "version": "3.12.0"
  }
 },
 "nbformat": 4,
 "nbformat_minor": 5
}
