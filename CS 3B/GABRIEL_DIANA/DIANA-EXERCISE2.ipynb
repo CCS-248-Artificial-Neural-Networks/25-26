{
 "cells": [
  {
   "cell_type": "markdown",
   "id": "40a24fb9",
   "metadata": {},
   "source": [
    "# **Exercise for Unit 2**\n",
    "\n",
    "**BSCS 3B-AI**\n",
    "\n",
    "Submitted by:\n",
    "- Gabriel M. Diana\n",
    "- Ken Meiro C. Villareal"
   ]
  },
  {
   "cell_type": "markdown",
   "id": "59d2270f",
   "metadata": {},
   "source": [
    "___\n",
    "*Note: Save your Python source codes into a single .ipynb file with the proper naming convention (see Readme on the repository), upload it to your assigned folder in the GitHub organization **CCS-248-Artificial-Neural-Networks**, repository “**25-26**”.*\n",
    "\n",
    "1. Choose either one of the following tasks (the output of this task will be used on the next number):\n",
    "    - **Develop a Class in Python called Dense_Layer (included in the submitted notebook).**\n",
    "    - Create a Helper file called neural_network_helper (separate file from the notebook). \n",
    "\n"
   ]
  },
  {
   "cell_type": "markdown",
   "id": "f4a0ca22",
   "metadata": {},
   "source": [
    "___\n",
    "### 1.) **Dense Layer Class**"
   ]
  },
  {
   "cell_type": "code",
   "execution_count": 1,
   "id": "3722b67d",
   "metadata": {},
   "outputs": [],
   "source": [
    "import numpy as np\n",
    "from typing import List"
   ]
  },
  {
   "cell_type": "code",
   "execution_count": 2,
   "id": "0f3f807c",
   "metadata": {},
   "outputs": [],
   "source": [
    "class Dense_Layer:\n",
    "    def __init__(self, input: np.ndarray, weights: List[np.ndarray]):\n",
    "        \"\"\"\n",
    "        A.) A function to setup/accept the inputs and weights\n",
    "        \"\"\"\n",
    "        self.X = input\n",
    "        self.W = weights\n",
    " \n",
    "    def affine(self, bias: List[np.ndarray]) -> np.ndarray:\n",
    "        \"\"\"\n",
    "        B.) A function to perform the weighted sum + bias\n",
    "        \"\"\"\n",
    "        self.Z = np.dot(self.X, self.W) + bias\n",
    "        return self.Z\n",
    "    \n",
    "    def perform_activation(self, activation: str) -> np.ndarray:\n",
    "        \"\"\"\n",
    "        C.) A function to perform the selected activation function\n",
    "        \"\"\"\n",
    "        if activation == \"relu\":\n",
    "            self.A = np.maximum(0, self.Z)\n",
    "        elif activation == \"sigmoid\":\n",
    "            self.A = 1 / (1 + np.exp(-self.Z))\n",
    "        elif activation == \"softmax\":\n",
    "            exp_vals = np.exp(self.Z - np.max(self.Z))\n",
    "            self.A = exp_vals / np.sum(exp_vals)\n",
    "        else:\n",
    "            raise ValueError(\"Unsupported activation function\")\n",
    "        return self.A\n",
    "    \n",
    "    def calculate_loss(self, predicted: np.ndarray, target: np.ndarray, loss_type: str) -> float:\n",
    "        \"\"\"\n",
    "        D.) A function to calculate the loss (predicted output vs target output)\n",
    "        \"\"\"\n",
    "        if loss_type == \"mean_squared_error\":\n",
    "            return float(np.mean((predicted - target) ** 2))\n",
    "        elif loss_type == \"cross_entropy\":\n",
    "            return float(-np.sum(target * np.log(predicted + 1e-12)))\n",
    "        else:\n",
    "            raise ValueError(\"Unsupported loss type\")"
   ]
  },
  {
   "cell_type": "markdown",
   "id": "5264eba9",
   "metadata": {},
   "source": [
    "### 2.) **Iris Classification Code**"
   ]
  },
  {
   "cell_type": "markdown",
   "id": "c9f6b101",
   "metadata": {},
   "source": [
    "**First Hidden Layer**"
   ]
  },
  {
   "cell_type": "code",
   "execution_count": 15,
   "id": "11023495",
   "metadata": {},
   "outputs": [],
   "source": [
    "X = np.array([\n",
    "    5.1,\n",
    "    3.5,\n",
    "    1.4,\n",
    "    0.2\n",
    "])\n",
    "\n",
    "target_output = np.array([\n",
    "    0.7,\n",
    "    0.2,\n",
    "    0.1\n",
    "])\n",
    "\n",
    "W_1 = np.array([\n",
    "    [ 0.2,  0.5, -0.3],\n",
    "    [ 0.1, -0.2,  0.4],\n",
    "    [-0.4,  0.3,  0.2],\n",
    "    [ 0.6, -0.1,  0.5]\n",
    "])\n",
    "\n",
    "B_1 = np.array([\n",
    "     0.3,\n",
    "    -2.1,\n",
    "     0.8\n",
    "])\n",
    "\n",
    "activation_function = 'relu'"
   ]
  },
  {
   "cell_type": "code",
   "execution_count": null,
   "id": "4c38a982",
   "metadata": {},
   "outputs": [
    {
     "name": "stdout",
     "output_type": "stream",
     "text": [
      "First Hidden Layer Output:\n",
      "A_1 =  [1.23 0.15 1.05]\n"
     ]
    }
   ],
   "source": [
    "layer_1 = Dense_Layer(X, W_1)\n",
    "Z_1 = layer_1.affine(B_1)\n",
    "A_1 = layer_1.perform_activation(activation_function)\n",
    "\n",
    "# print(\"First Hidden Layer Output:\")\n",
    "# print(\"A_1 = \", A_1)"
   ]
  },
  {
   "cell_type": "markdown",
   "id": "84f0991e",
   "metadata": {},
   "source": [
    "**Second Hidden Layer**"
   ]
  },
  {
   "cell_type": "code",
   "execution_count": 5,
   "id": "a332c849",
   "metadata": {},
   "outputs": [],
   "source": [
    "W_2 = np.array([\n",
    "    [ 0.3, -0.5],\n",
    "    [ 0.7,  0.2],\n",
    "    [-0.6,  0.4]\n",
    "])\n",
    "\n",
    "B_2 = np.array([\n",
    "    4.3,\n",
    "    6.4\n",
    "])\n",
    "\n",
    "activation_function = \"sigmoid\""
   ]
  },
  {
   "cell_type": "code",
   "execution_count": null,
   "id": "a359d3e3",
   "metadata": {},
   "outputs": [
    {
     "name": "stdout",
     "output_type": "stream",
     "text": [
      "Second Hidden Layer Output:\n",
      "A_2 =  [0.9843883 0.9980442]\n"
     ]
    }
   ],
   "source": [
    "layer_2 = Dense_Layer(A_1, W_2)\n",
    "Z_2 = layer_2.affine(B_2)\n",
    "A_2 = layer_2.perform_activation(activation_function)\n",
    "\n",
    "# print(\"Second Hidden Layer Output:\")\n",
    "# print(\"A_2 = \", A_2)"
   ]
  },
  {
   "cell_type": "markdown",
   "id": "42670111",
   "metadata": {},
   "source": [
    "**Last Layer**"
   ]
  },
  {
   "cell_type": "code",
   "execution_count": null,
   "id": "de70b8bc",
   "metadata": {},
   "outputs": [],
   "source": [
    "W_3 = np.array([\n",
    "    [ 0.5, -0.3,  0.8],\n",
    "    [-0.2,  0.6, -0.4]\n",
    "])\n",
    "\n",
    "B_3 = np.array([\n",
    "    -1.5,\n",
    "     2.1,\n",
    "    -3.3\n",
    "])\n",
    "\n",
    "activation_function = \"softmax\""
   ]
  },
  {
   "cell_type": "code",
   "execution_count": null,
   "id": "14adad6b",
   "metadata": {},
   "outputs": [
    {
     "name": "stdout",
     "output_type": "stream",
     "text": [
      "Last Hidden Layer:\n",
      "A_3 =  [0.02619025 0.96904572 0.00476403]\n",
      "\n",
      "Predicted Class: Iris-versicolor\n"
     ]
    }
   ],
   "source": [
    "layer_3 = Dense_Layer(A_2, W_3)\n",
    "Z_3 = layer_3.affine(B_3)\n",
    "A_3 = layer_3.perform_activation(activation_function)\n",
    "\n",
    "# print(\"Last Hidden Layer:\")\n",
    "# print(\"A_3 = \", A_3)"
   ]
  },
  {
   "cell_type": "markdown",
   "id": "e18b4450",
   "metadata": {},
   "source": [
    "### **Answers:**"
   ]
  },
  {
   "cell_type": "code",
   "execution_count": 19,
   "id": "ef19acbe",
   "metadata": {},
   "outputs": [
    {
     "name": "stdout",
     "output_type": "stream",
     "text": [
      "Hidden Layer 2 Output: [0.9843883 0.9980442]\n",
      "Loss: 3.090612496953252\n",
      "Predicted Class: Iris-versicolor\n"
     ]
    }
   ],
   "source": [
    "print(\"Hidden Layer 2 Output:\", A_2)\n",
    "print(\"Loss:\", layer_3.calculate_loss(A_3, target_output, \"cross_entropy\"))\n",
    "\n",
    "iris_classes = [\"Iris-setosa\", \"Iris-versicolor\", \"Iris-virginica\"]\n",
    "print(\"Predicted Class:\", iris_classes[np.argmax(A_3)])"
   ]
  }
 ],
 "metadata": {
  "kernelspec": {
   "display_name": "venv",
   "language": "python",
   "name": "python3"
  },
  "language_info": {
   "codemirror_mode": {
    "name": "ipython",
    "version": 3
   },
   "file_extension": ".py",
   "mimetype": "text/x-python",
   "name": "python",
   "nbconvert_exporter": "python",
   "pygments_lexer": "ipython3",
   "version": "3.12.0"
  }
 },
 "nbformat": 4,
 "nbformat_minor": 5
}
