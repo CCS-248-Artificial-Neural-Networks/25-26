{
 "cells": [
  {
   "cell_type": "code",
   "execution_count": null,
   "id": "bef551f2",
   "metadata": {},
   "outputs": [],
   "source": [
    "import numpy as np\n",
    "\n",
    "#We chose to create a Python Class Dense Layer for Number 1, indicating some necessary functions (setup and accepting inputs and weights,\n",
    "#perform the weighted sum + bias, perform selected activation function, and function to calculate loss (we used Mean Squared Error))\n",
    "class Dense_Layer:\n",
    "    def __init__(self, weights, bias, activation=\"relu\"):\n",
    "        self.weights = np.array(weights)\n",
    "        self.bias = np.array(bias)\n",
    "        self.activation_name = activation\n",
    "        self.output = None\n",
    "        self.z = None\n",
    "\n",
    "    # Weighted sum + bias\n",
    "    def forward_pass(self, inputs):\n",
    "        self.inputs = np.array(inputs)\n",
    "        self.z = np.dot(self.inputs, self.weights.T) + self.bias #I used the transposition so input dimension matches weight dimension for dot product\n",
    "        return self.z\n",
    "\n",
    "    # Activation functions\n",
    "    def activation(self):\n",
    "        if self.activation_name == \"relu\":\n",
    "            self.output = np.maximum(0, self.z)\n",
    "        elif self.activation_name == \"sigmoid\":\n",
    "            self.output = 1 / (1 + np.exp(-self.z))\n",
    "        elif self.activation_name == \"softmax\":\n",
    "            exp_vals = np.exp(self.z - np.max(self.z))  # stability trick\n",
    "            self.output = exp_vals / np.sum(exp_vals)\n",
    "        else:\n",
    "            raise ValueError(\"Unsupported activation function.\")\n",
    "        return self.output\n",
    "\n",
    "    # Loss function (MSE for hidden layers / demonstration)\n",
    "    def calculate_loss(self, target):\n",
    "        target = np.array(target)\n",
    "        self.loss = np.mean((self.output - target) ** 2)\n",
    "        return self.loss"
   ]
  },
  {
   "cell_type": "code",
   "execution_count": null,
   "id": "1d999a6a",
   "metadata": {},
   "outputs": [
    {
     "name": "stdout",
     "output_type": "stream",
     "text": [
      "Layer 1 output (ReLU): [ 1.336  10.383   9.0095]\n",
      "Layer 2 output (Sigmoid): [0.91899725 0.99996628]\n",
      "Final Output (Sigmoid): [0.58499553]\n",
      "Loss (MSE): 0.17222870621762063\n",
      "Predicted Class: Malignant\n"
     ]
    }
   ],
   "source": [
    "#For this Exercise, I handled Number 2 Letter B. My partner, Christine Joy D. Maravilla, separately handled Letter A.\n",
    "\n",
    "# Input features (Mean Radius, Mean Texture, and Mean Smoothness)\n",
    "X = [14.1, 20.3, 0.095]\n",
    "target_output = [1]   # one-hot-ish vector\n",
    "\n",
    "# First hidden layer\n",
    "W1 = [[0.5, -0.3, 0.8],\n",
    "      [0.2, 0.4, -0.6],\n",
    "      [-0.7, 0.9, 0.1]]\n",
    "B1 = [0.3, -0.5, 0.6]\n",
    "\n",
    "# Second hidden layer\n",
    "W2 = [[0.6, -0.2, 0.4],\n",
    "      [-0.3, 0.5, 0.7]]\n",
    "B2 = [0.1, -0.8]\n",
    "\n",
    "# Output layer (Determine whether Benign(0) and Malignant(1))\n",
    "W3 = [[0.7, -0.5]]\n",
    "B3 = [0.2]\n",
    "\n",
    "\n",
    "# First Hidden Layer (ReLU)\n",
    "layer1 = Dense_Layer(W1, B1, activation=\"relu\")\n",
    "z1 = layer1.forward_pass(X)\n",
    "a1 = layer1.activation()\n",
    "print(\"Layer 1 output (ReLU):\", a1)\n",
    "\n",
    "# Second Hidden Layer (Sigmoid)\n",
    "layer2 = Dense_Layer(W2, B2, activation=\"sigmoid\")\n",
    "z2 = layer2.forward_pass(a1)\n",
    "a2 = layer2.activation()\n",
    "print(\"Layer 2 output (Sigmoid):\", a2)\n",
    "\n",
    "# Output Layer (Sigmoid)\n",
    "layer3 = Dense_Layer(W3, B3, activation=\"sigmoid\")\n",
    "z3 = layer3.forward_pass(a2)\n",
    "output = layer3.activation()\n",
    "print(\"Final Output (Sigmoid):\", output)\n",
    "\n",
    "# Loss Calculation (MSE vs target_output)\n",
    "loss = layer3.calculate_loss(target_output)\n",
    "print(\"Loss (MSE):\", loss)\n",
    "\n",
    "# Predicted class (threshold is 0.5, predicting whether benign or malignant)\n",
    "classes = [\"Benign\", \"Malignant\"]\n",
    "predicted_class = classes[1] if output >= 0.5 else classes[0]\n",
    "print(\"Predicted Class:\", predicted_class)\n"
   ]
  }
 ],
 "metadata": {
  "kernelspec": {
   "display_name": "Python 3",
   "language": "python",
   "name": "python3"
  },
  "language_info": {
   "codemirror_mode": {
    "name": "ipython",
    "version": 3
   },
   "file_extension": ".py",
   "mimetype": "text/x-python",
   "name": "python",
   "nbconvert_exporter": "python",
   "pygments_lexer": "ipython3",
   "version": "3.12.2"
  }
 },
 "nbformat": 4,
 "nbformat_minor": 5
}
