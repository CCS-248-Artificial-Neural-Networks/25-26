{
 "cells": [
  {
   "cell_type": "code",
   "execution_count": 15,
   "id": "7ce2b353",
   "metadata": {},
   "outputs": [],
   "source": [
    "import numpy as np\n",
    "import nnfs\n",
    "from nnfs.datasets import spiral_data"
   ]
  },
  {
   "cell_type": "code",
   "execution_count": 16,
   "id": "a30ca3c6",
   "metadata": {},
   "outputs": [],
   "source": [
    "class Layer_Dense:\n",
    "    def __init__(self, n_inputs, n_neurons):\n",
    "        self.weights = 0.01 * np.random.randn(n_inputs, n_neurons)\n",
    "        self.biases = np.zeros((1, n_neurons))\n",
    "        # For momentum and Adagrad\n",
    "        self.weight_momentums = np.zeros_like(self.weights)\n",
    "        self.bias_momentums = np.zeros_like(self.biases)\n",
    "        self.weight_cache = np.zeros_like(self.weights)\n",
    "        self.bias_cache = np.zeros_like(self.biases)\n",
    "\n",
    "    def forward(self, inputs):\n",
    "        self.inputs = inputs\n",
    "        self.output = np.dot(inputs, self.weights) + self.biases\n",
    "\n",
    "    def backward(self, dvalues):\n",
    "        self.dweights = np.dot(self.inputs.T, dvalues)\n",
    "        self.dbiases = np.sum(dvalues, axis=0, keepdims=True)\n",
    "        self.dinputs = np.dot(dvalues, self.weights.T)\n"
   ]
  },
  {
   "cell_type": "code",
   "execution_count": 17,
   "id": "d259ba0b",
   "metadata": {},
   "outputs": [],
   "source": [
    "class Activation_ReLU:\n",
    "    def forward(self, inputs):\n",
    "        self.inputs = inputs\n",
    "        self.output = np.maximum(0, inputs)\n",
    "    def backward(self, dvalues):\n",
    "        self.dinputs = dvalues.copy()\n",
    "        self.dinputs[self.inputs <= 0] = 0\n",
    "\n",
    "class Activation_Softmax:\n",
    "    def forward(self, inputs):\n",
    "        exp_values = np.exp(inputs - np.max(inputs, axis=1, keepdims=True))\n",
    "        self.output = exp_values / np.sum(exp_values, axis=1, keepdims=True)\n"
   ]
  },
  {
   "cell_type": "code",
   "execution_count": 18,
   "id": "e248fe43",
   "metadata": {},
   "outputs": [],
   "source": [
    "class Loss:\n",
    "    def calculate(self, output, y):\n",
    "        sample_losses = self.forward(output, y)\n",
    "        return np.mean(sample_losses)\n",
    "\n",
    "class Loss_CategoricalCrossEntropy(Loss):\n",
    "    def forward(self, y_pred, y_true):\n",
    "        samples = y_pred.shape[0]\n",
    "        y_pred_clipped = np.clip(y_pred, 1e-7, 1 - 1e-7)\n",
    "        if len(y_true.shape) == 1:\n",
    "            correct_confidences = y_pred_clipped[range(samples), y_true]\n",
    "        else:\n",
    "            correct_confidences = np.sum(y_pred_clipped * y_true, axis=1)\n",
    "        return -np.log(correct_confidences)\n",
    "\n",
    "# Faster Softmax + CCE backward\n",
    "class Activation_Softmax_Loss_CCE:\n",
    "    def backward(self, y_pred, y_true):\n",
    "        samples = y_pred.shape[0]\n",
    "        if len(y_true.shape) == 2:\n",
    "            y_true = np.argmax(y_true, axis=1)\n",
    "        dinputs = y_pred.copy()\n",
    "        dinputs[range(samples), y_true] -= 1\n",
    "        self.dinputs = dinputs / samples\n"
   ]
  },
  {
   "cell_type": "code",
   "execution_count": 19,
   "id": "e229f946",
   "metadata": {},
   "outputs": [],
   "source": [
    "class Optimizer_SGD:\n",
    "    def __init__(self, learning_rate=1.0, decay=0.0, momentum=0.0, adagrad=False, epsilon=1e-7):\n",
    "        self.learning_rate = learning_rate\n",
    "        self.current_learning_rate = learning_rate\n",
    "        self.decay = decay\n",
    "        self.iterations = 0\n",
    "        self.momentum = momentum\n",
    "        self.use_adagrad = adagrad\n",
    "        self.epsilon = epsilon\n",
    "\n",
    "    def pre_update_params(self):\n",
    "        if self.decay:\n",
    "            self.current_learning_rate = self.learning_rate / (1 + self.decay * self.iterations)\n",
    "\n",
    "    def update_params(self, layer):\n",
    "        if self.use_adagrad:\n",
    "            # Adagrad\n",
    "            layer.weight_cache += layer.dweights ** 2\n",
    "            layer.bias_cache += layer.dbiases ** 2\n",
    "            layer.weights -= self.current_learning_rate * layer.dweights / (np.sqrt(layer.weight_cache) + self.epsilon)\n",
    "            layer.biases  -= self.current_learning_rate * layer.dbiases / (np.sqrt(layer.bias_cache) + self.epsilon)\n",
    "        elif self.momentum:\n",
    "            # Momentum\n",
    "            layer.weight_momentums = self.momentum * layer.weight_momentums + self.current_learning_rate * layer.dweights\n",
    "            layer.bias_momentums   = self.momentum * layer.bias_momentums + self.current_learning_rate * layer.dbiases\n",
    "            layer.weights -= layer.weight_momentums\n",
    "            layer.biases  -= layer.bias_momentums\n",
    "        else:\n",
    "            # Vanilla SGD\n",
    "            layer.weights -= self.current_learning_rate * layer.dweights\n",
    "            layer.biases  -= self.current_learning_rate * layer.dbiases\n",
    "\n",
    "    def post_update_params(self):\n",
    "        self.iterations += 1\n"
   ]
  },
  {
   "cell_type": "code",
   "execution_count": 24,
   "id": "01bd1e85",
   "metadata": {},
   "outputs": [],
   "source": [
    "nnfs.init()\n",
    "X, y = spiral_data(samples=100, classes=3)\n",
    "\n",
    "dense1 = Layer_Dense(2, 64)\n",
    "activation1 = Activation_ReLU()\n",
    "dense2 = Layer_Dense(64, 3)\n",
    "activation2 = Activation_Softmax()\n",
    "\n",
    "loss_function = Loss_CategoricalCrossEntropy()\n",
    "combo = Activation_Softmax_Loss_CCE()\n",
    "\n",
    "# Choose optimizer: remove # to enable optimizer\n",
    "# optimizer = Optimizer_SGD(learning_rate=1.0, decay=1e-3)          # Decay\n",
    "# optimizer = Optimizer_SGD(learning_rate=0.1, momentum=0.9)        # Momentum\n",
    "optimizer = Optimizer_SGD(learning_rate=1.0, adagrad=True, decay=1e-3)  # Adagrad\n"
   ]
  },
  {
   "cell_type": "code",
   "execution_count": 25,
   "id": "16e886d6",
   "metadata": {},
   "outputs": [
    {
     "name": "stdout",
     "output_type": "stream",
     "text": [
      "epoch  100 | lr=0.9099 | loss=1.0215 | acc=0.4633\n",
      "epoch  200 | lr=0.8340 | loss=0.9497 | acc=0.5233\n",
      "epoch  300 | lr=0.7698 | loss=0.8843 | acc=0.5767\n",
      "epoch  400 | lr=0.7148 | loss=0.8335 | acc=0.6033\n",
      "epoch  500 | lr=0.6671 | loss=0.8037 | acc=0.6233\n",
      "epoch  600 | lr=0.6254 | loss=0.7789 | acc=0.6333\n",
      "epoch  700 | lr=0.5886 | loss=0.7624 | acc=0.6300\n",
      "epoch  800 | lr=0.5559 | loss=0.7466 | acc=0.6233\n",
      "epoch  900 | lr=0.5266 | loss=0.7228 | acc=0.6400\n",
      "epoch 1000 | lr=0.5003 | loss=0.7046 | acc=0.6633\n"
     ]
    }
   ],
   "source": [
    "epochs = 1000\n",
    "for epoch in range(1, epochs+1):\n",
    "    optimizer.pre_update_params()\n",
    "\n",
    "    # Forward\n",
    "    dense1.forward(X)\n",
    "    activation1.forward(dense1.output)\n",
    "    dense2.forward(activation1.output)\n",
    "    activation2.forward(dense2.output)\n",
    "\n",
    "    # Loss + accuracy\n",
    "    loss = loss_function.calculate(activation2.output, y)\n",
    "    predictions = np.argmax(activation2.output, axis=1)\n",
    "    acc = np.mean(predictions == y)\n",
    "\n",
    "    # Backward\n",
    "    combo.backward(activation2.output, y)\n",
    "    dense2.backward(combo.dinputs)\n",
    "    activation1.backward(dense2.dinputs)\n",
    "    dense1.backward(activation1.dinputs)\n",
    "\n",
    "    # Update\n",
    "    optimizer.update_params(dense1)\n",
    "    optimizer.update_params(dense2)\n",
    "    optimizer.post_update_params()\n",
    "\n",
    "    # Log every 100 epochs\n",
    "    if epoch % 100 == 0:\n",
    "        print(f\"epoch {epoch:4d} | lr={optimizer.current_learning_rate:.4f} | loss={loss:.4f} | acc={acc:.4f}\")\n"
   ]
  },
  {
   "cell_type": "code",
   "execution_count": null,
   "id": "a14c625c",
   "metadata": {},
   "outputs": [],
   "source": []
  }
 ],
 "metadata": {
  "kernelspec": {
   "display_name": "Python 3",
   "language": "python",
   "name": "python3"
  },
  "language_info": {
   "codemirror_mode": {
    "name": "ipython",
    "version": 3
   },
   "file_extension": ".py",
   "mimetype": "text/x-python",
   "name": "python",
   "nbconvert_exporter": "python",
   "pygments_lexer": "ipython3",
   "version": "3.11.9"
  }
 },
 "nbformat": 4,
 "nbformat_minor": 5
}
