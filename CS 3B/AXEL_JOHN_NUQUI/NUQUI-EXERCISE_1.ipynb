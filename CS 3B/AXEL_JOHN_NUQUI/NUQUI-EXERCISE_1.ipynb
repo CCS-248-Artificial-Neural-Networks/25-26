{
 "cells": [
  {
   "cell_type": "markdown",
   "id": "134d38a0",
   "metadata": {},
   "source": [
    "1. (10 points) Determine whether the student passes (1) or fails (0)based on:\n",
    "a. Hours studied\n",
    "b. Hours of sleep"
   ]
  },
  {
   "cell_type": "code",
   "execution_count": null,
   "id": "d8d7fbb8",
   "metadata": {
    "lines_to_next_cell": 1
   },
   "outputs": [],
   "source": [
    "def evaluate_students(name, hours_studied, hours_slept, bias):\n",
    "    inputs = [hours_studied, hours_slept]\n",
    "    weights = [0.6, 0.4]\n",
    "    output = 0\n",
    "    \n",
    "    for i in range(len(inputs)):\n",
    "        output += inputs[i] * weights[i]   \n",
    "    \n",
    "    output += bias \n",
    "        \n",
    "    activate = output > 1\n",
    "    activation_value = 0\n",
    "    \n",
    "    if activate:\n",
    "        activation_value = 1\n",
    "    else:\n",
    "        activation_value = 0\n",
    "    \n",
    "    print(f\"Name: {name}\")\n",
    "    print(f\"Inputs: {inputs[0]}, {inputs[1]}\")\n",
    "    print(f\"Output: {output}\")\n",
    "    print(f\"Activation -> {activation_value}\")\n",
    "    \n",
    "    if activate:\n",
    "        print(\"Evaluation: Passed!\\n\")\n",
    "    else:\n",
    "        print(\"Evaluation: Failed :((\\n\")"
   ]
  },
  {
   "cell_type": "markdown",
   "id": "09dbbc4b",
   "metadata": {},
   "source": [
    "2. (20 points) Logic Gate Simulation. Given the following setup for a perceptron, compute its output and verify whether it acts as an AND gate."
   ]
  },
  {
   "cell_type": "code",
   "execution_count": null,
   "id": "e477a647",
   "metadata": {},
   "outputs": [],
   "source": [
    "def logic_gate_simulation(input_num, x1, x2, bias):\n",
    "    inputs = [x1, x2]\n",
    "    weights = [1, 1]\n",
    "    output = 0\n",
    "    \n",
    "    for i in range(len(inputs)):\n",
    "        output += inputs[i] * weights[i]\n",
    "        \n",
    "    output += bias\n",
    "    activate = output > 0\n",
    "    \n",
    "    activation_value = 0\n",
    "    \n",
    "    if activate:\n",
    "        activation_value = 1\n",
    "    else:\n",
    "        activation_value = 0\n",
    "        \n",
    "    if x1 == 1 and x2 == 1:\n",
    "        is_and_gate = True\n",
    "    else:\n",
    "        is_and_gate = False\n",
    "    \n",
    "    print(f\"\\n{input_num}. Inputs: {x1}, {x2}\")\n",
    "    print(f\"Output: {output}\")\n",
    "    print(f\"Activation -> {activation_value}\")\n",
    "    print(f\"Acts as an AND gate: {is_and_gate}\")"
   ]
  },
  {
   "cell_type": "markdown",
   "id": "0bb04339",
   "metadata": {},
   "source": [
    "3. (60 points) Perceptron comparison (One vs All). Given the 3 perceptron, using the same input, compute the output and decided on the predicted class is the WINNER. If a tie is present, compare and get the highest weighted sum."
   ]
  },
  {
   "cell_type": "code",
   "execution_count": null,
   "id": "e505bf41",
   "metadata": {
    "lines_to_next_cell": 1
   },
   "outputs": [],
   "source": [
    "# Given weights\n",
    "weights_a = [1.0, -0.5, 0.2, 0.1, 0.0]\n",
    "weights_b = [0.2, 0.2, 0.5, -0.4, 0.3]\n",
    "weights_c = [-0.3, -0.1, 0.4, 0.0, 0.2]"
   ]
  },
  {
   "cell_type": "code",
   "execution_count": null,
   "id": "e31a6a0f",
   "metadata": {
    "lines_to_next_cell": 1
   },
   "outputs": [],
   "source": [
    "def perceptron_comparison(perceptron, weights, bias):\n",
    "    inputs = [0.5, -1, 2, 1, 0]\n",
    "    output = 0\n",
    "    \n",
    "    for i in range(len(inputs)):\n",
    "        output += inputs[i] * weights[i]\n",
    "\n",
    "    output += bias\n",
    "    print(f\"Output of Perceptron {perceptron}: {output}\")\n",
    "    return output"
   ]
  },
  {
   "cell_type": "code",
   "execution_count": null,
   "id": "2677229b",
   "metadata": {},
   "outputs": [],
   "source": [
    "print(\"= = = EXERCISE FOR UNIT 1 = = =\")"
   ]
  },
  {
   "cell_type": "code",
   "execution_count": null,
   "id": "9e2e97a0",
   "metadata": {},
   "outputs": [],
   "source": [
    "cont = True"
   ]
  },
  {
   "cell_type": "code",
   "execution_count": null,
   "id": "d9de9b88",
   "metadata": {},
   "outputs": [],
   "source": [
    "while cont:\n",
    "    print(\"\\nnote: Choose an option to see evaluation.\" + \"\\n\" +\n",
    "        \"1. Student Evaluation\" + \"\\n\" +\n",
    "        \"2. Logic Gate Simulation\" + \"\\n\" +\n",
    "        \"3. Perceptron Comparison\" + \"\\n\" +\n",
    "        \"4. Exit\" + \"\\n\")\n",
    "\n",
    "\n",
    "    # main\n",
    "    choice = input(\"Choose an option (1-4): \").strip()\n",
    "\n",
    "    if choice == '1':\n",
    "        print(\"\\n= = = Student Evaluation = = =\")\n",
    "        evaluate_students(\"Nicole\", 8, 7, -3)\n",
    "        evaluate_students(\"Axel\", 3, 4, -3)\n",
    "\n",
    "    elif choice == '2':\n",
    "        print(\"\\n= = = Logic Gates Simulation = = =\")\n",
    "        logic_gate_simulation(1, 0, 0, -1.5)\n",
    "        logic_gate_simulation(2, 0, 1, -1.5)\n",
    "        logic_gate_simulation(3, 1, 0, -1.5)\n",
    "        logic_gate_simulation(4, 1, 1, -1.5)\n",
    "        print(\"= = = = = = = = = = = = = = = = = =\")\n",
    "\n",
    "    elif choice == '3':\n",
    "        print(\"\\n= = = Perceptron Comparison = = =\")\n",
    "        weights_a = [1.0, -0.5, 0.2, 0.1, 0.0]\n",
    "        weights_b = [0.2, 0.2, 0.5, -0.4, 0.3]\n",
    "        weights_c = [-0.3, -0.1, 0.4, 0.0, 0.2]\n",
    "\n",
    "        w_a = perceptron_comparison('A', weights_a, 0.2)\n",
    "        w_b = perceptron_comparison('B', weights_b, 0.0)\n",
    "        w_c = perceptron_comparison('C', weights_c, -0.6)\n",
    "\n",
    "        max_w = w_a\n",
    "        winner = \"A\"\n",
    "\n",
    "        if w_b > max_w:\n",
    "            max_w = w_b\n",
    "            winner = \"B\"\n",
    "        if w_c > max_w:\n",
    "            max_w = w_c\n",
    "            winner = \"C\"\n",
    "\n",
    "        print(f\"\\nThe Perceptron Winner is perceptron {winner} with an output of {max_w}\")\n",
    "    \n",
    "    elif choice == '4':\n",
    "        print(\"\\n\\nAxel John E. Nuqui & Joelmar D. Grecia (Thanks!)\")\n",
    "        cont = False\n",
    "        \n",
    "    else:\n",
    "        print(\"Invalid choice. Please enter 1, 2, 3, or 4.\")"
   ]
  }
 ],
 "metadata": {
  "jupytext": {
   "cell_metadata_filter": "-all",
   "main_language": "python",
   "notebook_metadata_filter": "-all"
  }
 },
 "nbformat": 4,
 "nbformat_minor": 5
}
