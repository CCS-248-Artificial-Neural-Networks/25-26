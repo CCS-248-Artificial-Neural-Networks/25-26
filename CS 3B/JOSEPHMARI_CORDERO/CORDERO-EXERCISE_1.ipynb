{
 "cells": [
  {
   "cell_type": "markdown",
   "id": "33a77601",
   "metadata": {},
   "source": [
    "CORDERO-Exercise_1 "
   ]
  },
  {
   "cell_type": "markdown",
   "id": "3e2e48b4",
   "metadata": {},
   "source": [
    "(20 points) Determine whether the student passes (1) or fails (0) based on:\n",
    "Hours studied\n",
    "Hours of sleep\n",
    "Hours of free time\n",
    "Given weights w1 = 0.6, w2, 0.4, bias = -3\n",
    "Step function with a threshold of 1 \n",
    "\n",
    "Predict the output of the following inputs:\n",
    "(x1, x2) = (8, 7)\n",
    "(x1, x2) = (3, 4)"
   ]
  },
  {
   "cell_type": "code",
   "execution_count": null,
   "id": "2ce254f0",
   "metadata": {},
   "outputs": [
    {
     "name": "stdout",
     "output_type": "stream",
     "text": [
      "Output:  7.6\n",
      "Output with bias:  4.6\n",
      "Activation:  True\n",
      "\n",
      "==============================================\n",
      "\n",
      "Output:  3.4\n",
      "Output with bias:  0.3999999999999999\n",
      "Activation:  False\n"
     ]
    }
   ],
   "source": [
    "weights = [0.6, 0.4]\n",
    "\n",
    "# For the first set of inputs\n",
    "\n",
    "inputs1 = [8, 7]\n",
    "output1 = 0\n",
    "\n",
    "for i in range(len(inputs1)):\n",
    "    output1 += inputs1[i] * weights[i]\n",
    "\n",
    "print(\"Output: \", output1)\n",
    "\n",
    "bias = -3\n",
    "output1 += bias\n",
    "print(\"Output with bias: \", output1)\n",
    "\n",
    "activate = output1 > 1\n",
    "print(\"Activation: \", activate)\n",
    "\n",
    "print(\"\\n==============================================\\n\")\n",
    "\n",
    "# For the second set of inputs\n",
    "\n",
    "inputs2 = [3, 4]\n",
    "output2 = 0\n",
    "\n",
    "for i in range(len(inputs2)):\n",
    "    output2 += inputs2[i] * weights[i]\n",
    "\n",
    "print(\"Output: \", output2)\n",
    "\n",
    "bias = -3\n",
    "output2 += bias\n",
    "print(\"Output with bias: \", output2)\n",
    "\n",
    "activate = output2 > 1\n",
    "print(\"Activation: \", activate)"
   ]
  },
  {
   "cell_type": "markdown",
   "id": "45146903",
   "metadata": {},
   "source": [
    "(20 points) Logic Gate Simulation. Given the following setup for a perceptron, compute its output and verify whether it acts as an AND gate.\n",
    "Given weights w1 = 1, w2 = 1, bias = -1.5\n",
    "Step function with a threshold of 0\n",
    "Inputs\t:\n",
    "\t(0,0) , (0,1), (1,0), (1,1)\n"
   ]
  },
  {
   "cell_type": "code",
   "execution_count": null,
   "id": "00b052d9",
   "metadata": {},
   "outputs": [],
   "source": []
  },
  {
   "cell_type": "markdown",
   "id": "fadc6c5a",
   "metadata": {},
   "source": [
    "(60 points) Perceptron comparison (One vs All). Given the 3 perceptron, using the same input, compute the output and decided on the predicted class is the WINNER. If a tie is present, compare and get the highest weighted sum. \n",
    "\n",
    "\n",
    "Inputs = [0.5, -1, 2, 1, 0]\n",
    "Perceptron A Configuration:\n",
    "Weights: WA = [1.0, -0.5, 0.2, 0.1, 0.0]\n",
    "BiasA: 0.2\n",
    "Perceptron B\n",
    "Weights: WB = [0.2, 0.2, 0.5, -0.4, 0.3]\n",
    "BiasB: 0.0\n",
    "Perceptron C\n",
    "Weights: WC = [-0.3, -0.1, 0.4, 0.0, 0.2]\n",
    "BiasC: -0.6"
   ]
  },
  {
   "cell_type": "code",
   "execution_count": null,
   "id": "b20f126d",
   "metadata": {},
   "outputs": [],
   "source": []
  }
 ],
 "metadata": {
  "kernelspec": {
   "display_name": "MyEnv",
   "language": "python",
   "name": "python3"
  },
  "language_info": {
   "codemirror_mode": {
    "name": "ipython",
    "version": 3
   },
   "file_extension": ".py",
   "mimetype": "text/x-python",
   "name": "python",
   "nbconvert_exporter": "python",
   "pygments_lexer": "ipython3",
   "version": "3.12.9"
  }
 },
 "nbformat": 4,
 "nbformat_minor": 5
}
