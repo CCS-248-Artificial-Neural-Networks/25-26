{
 "cells": [
  {
   "cell_type": "code",
   "execution_count": 23,
   "id": "836003b1",
   "metadata": {},
   "outputs": [],
   "source": [
    "import neural_network_helper as nn\n"
   ]
  },
  {
   "cell_type": "code",
   "execution_count": null,
   "id": "0b95ac1e",
   "metadata": {},
   "outputs": [],
   "source": [
    "#Student who coded: Justine Kyle Ortilano\n",
    "# a) Given the following inputs from the Iris Dataset, using the sepal length, sepal width, petal length and petal width, determine what class \n",
    "# (Iris-setosa, Iris-versicolor, and Iris-virginica) the following inputs are by calculating the output, given the neural network configurations:\n",
    "\n",
    "#declaring the weights, inputs, and biases. \n",
    "target_output = [0.7,0.2,0.1]\n",
    "inputs = [5.1, 3.5, 1.4, 0.2]\n",
    "\n",
    "layer_1_weights = [[0.2, 0.1, -0.4, 0.6], [0.5, -0.2, 0.3, -0.1],[-0.3, 0.4, 0.2, 0.5]]\n",
    "layer_1_bias = [3.0, -2.1, 0.6]\n",
    "\n",
    "layer_2_weights = [[0.3,0.7,-0.6],[-0.5,0.2,0.4]]\n",
    "layer_2_bias = [4.3, 6.4]\n",
    "\n",
    "layer_3_weights = [[0.5,-0.2],[-0.3, 0.6],[0.8,-0.4]]\n",
    "layer_3_bias = [-1.5, 2.1, -3.3]\n",
    "\n"
   ]
  },
  {
   "cell_type": "code",
   "execution_count": 25,
   "id": "a7f414eb",
   "metadata": {},
   "outputs": [
    {
     "name": "stdout",
     "output_type": "stream",
     "text": [
      "Output 1 (layer 1): [3.93 0.15 0.85]\n",
      "Output 2 (layer 1 with ReLU): [3.93 0.15 0.85]\n"
     ]
    }
   ],
   "source": [
    "#converting inputs and layer 1 weights with np.array to be able to persform dot operations\n",
    "inputs, layer_1_weights = nn.setup_layer(inputs, layer_1_weights)\n",
    "\n",
    "# weighted sum + bias\n",
    "layer_1_output = nn.weighted_sum(inputs, layer_1_weights, layer_1_bias)\n",
    "\n",
    "print(\"Output 1 (layer 1):\", layer_1_output)\n",
    "\n",
    "#performing Relu on the each layer 1 Output\n",
    "for i in range(len(layer_1_output)):\n",
    "        layer_1_output[i] = nn.activation_function(layer_1_output[i], activation_type=\"relu\")\n",
    "\n",
    "print(\"Output 2 (layer 1 with ReLU):\", layer_1_output)"
   ]
  },
  {
   "cell_type": "code",
   "execution_count": 26,
   "id": "969e79a9",
   "metadata": {},
   "outputs": [
    {
     "name": "stdout",
     "output_type": "stream",
     "text": [
      "Output 1 (layer 2): [5.074 4.805]\n",
      "Output 2 (layer 2): [0.99378157 0.99187781]\n"
     ]
    }
   ],
   "source": [
    "\n",
    "#converting layer 1 output and layer 2 weights with np.array to be able to persform dot operations\n",
    "layer_1_output, layer_2_weights = nn.setup_layer(layer_1_output, layer_2_weights)\n",
    "\n",
    "# weighted sum + bias\n",
    "layer_2_output = nn.weighted_sum(layer_1_output, layer_2_weights, layer_2_bias)\n",
    "print(\"Output 1 (layer 2):\", layer_2_output)\n",
    "\n",
    "#performing Relu on the each layer 2 Output\n",
    "for i in range(len(layer_2_output)):\n",
    "        layer_2_output[i] = nn.activation_function(layer_2_output[i], activation_type=\"sigmoid\")\n",
    "\n",
    "print(\"Output 2 (layer 2):\", layer_2_output)"
   ]
  },
  {
   "cell_type": "code",
   "execution_count": 27,
   "id": "3d787355",
   "metadata": {},
   "outputs": [
    {
     "name": "stdout",
     "output_type": "stream",
     "text": [
      "Output 1 (layer 3): [-1.20148478  2.39699221 -2.90172587]\n",
      "Output 3 (layer 3): [0.0265075  0.96865119 0.00484132]\n",
      "Loss:  3.080656405230887\n",
      "The class is Iris-versicolor since it has the highest value of  0.9686511878120274 from the output layer.\n"
     ]
    }
   ],
   "source": [
    "#converting layer 1 output and layer 2 weights with np.array to be able to persform dot operations\n",
    "layer_2_output, layer_3_weights = nn.setup_layer(layer_2_output, layer_3_weights)\n",
    "\n",
    "# weighted sum + bias\n",
    "layer_3_output = nn.weighted_sum(layer_2_output, layer_3_weights, layer_3_bias)\n",
    "print(\"Output 1 (layer 3):\", layer_3_output)\n",
    "\n",
    "#performing Softmax on layer 3 Outputs\n",
    "layer_3_output= nn.activation_function(layer_3_output, activation_type=\"softmax\")\n",
    "loss = nn.calculate_loss(target_output, layer_3_output,\"softmax\")\n",
    "\n",
    "print(\"Output 3 (layer 3):\", layer_3_output)\n",
    "print(\"Loss: \", loss)\n",
    "print(\"The class is Iris-versicolor since it has the highest value of \", max(layer_3_output), \"from the output layer.\") "
   ]
  },
  {
   "cell_type": "code",
   "execution_count": null,
   "id": "c52531d2",
   "metadata": {},
   "outputs": [],
   "source": [
    "#Student who coded: Aurelio Inocencio III S. Sua \n",
    "# Problem B: Breast Cancer Dataset\n",
    "# Target: 1 = Malignant\n",
    "target_output = [1]\n",
    "inputs = [14.1, 20.3, 0.095]\n",
    "\n",
    "# First Hidden Layer (ReLU)\n",
    "layer_1_weights = [\n",
    "    [0.5, 0.2 , -0.7],\n",
    "    [-0.3,  0.4, 0.9],\n",
    "    [0.8, -0.6, 0.1]\n",
    "]\n",
    "layer_1_bias = [0.3, -0.5, 0.6]\n",
    "\n",
    "# Second Hidden Layer (Sigmoid)\n",
    "layer_2_weights = [\n",
    "    [0.6, -0.2, 0.4],   \n",
    "    [-0.3, 0.5, -0.7]   \n",
    "]\n",
    "layer_2_bias = [0.1, -0.8]\n",
    "\n",
    "# Output Layer (Sigmoid)\n",
    "layer_3_weights = [\n",
    "    [0.7, -0.5]\n",
    "]\n",
    "layer_3_bias = [0.2]"
   ]
  },
  {
   "cell_type": "code",
   "execution_count": 29,
   "id": "6748a30e",
   "metadata": {},
   "outputs": [
    {
     "name": "stdout",
     "output_type": "stream",
     "text": [
      "Output (Layer 1): [11.3435  3.4755 -0.2905]\n",
      "Output (Layer 1 with ReLU): [11.3435  3.4755  0.    ]\n"
     ]
    }
   ],
   "source": [
    "# Setup and compute weighted sum for Layer 1\n",
    "inputs, layer_1_weights = nn.setup_layer(inputs, layer_1_weights)\n",
    "layer_1_output = nn.weighted_sum(inputs, layer_1_weights, layer_1_bias)\n",
    "print(\"Output (Layer 1):\", layer_1_output)\n",
    "# Apply ReLU activation element-wise\n",
    "for i in range(len(layer_1_output)):\n",
    "    layer_1_output[i] = nn.activation_function(layer_1_output[i], activation_type=\"relu\")\n",
    "\n",
    "print(\"Output (Layer 1 with ReLU):\", layer_1_output)"
   ]
  },
  {
   "cell_type": "code",
   "execution_count": 30,
   "id": "f6eedebb",
   "metadata": {},
   "outputs": [
    {
     "name": "stdout",
     "output_type": "stream",
     "text": [
      "Hidden Layer 2 (Output): [ 6.211  -2.4653]\n",
      "Hidden Layer 2 ( with sigmoid): [0.99799679 0.07832686]\n"
     ]
    }
   ],
   "source": [
    "# Setup and compute weighted sum for Layer 2\n",
    "layer_1_output, layer_2_weights = nn.setup_layer(layer_1_output, layer_2_weights)\n",
    "layer_2_output = nn.weighted_sum(layer_1_output, layer_2_weights, layer_2_bias)\n",
    "print(\"Hidden Layer 2 (Output):\", layer_2_output)\n",
    "# Apply Sigmoid activation element-wise\n",
    "for i in range(len(layer_2_output)):\n",
    "    layer_2_output[i] = nn.activation_function(layer_2_output[i], activation_type=\"sigmoid\")\n",
    "\n",
    "print(\"Hidden Layer 2 ( with sigmoid):\", layer_2_output)\n"
   ]
  },
  {
   "cell_type": "code",
   "execution_count": 31,
   "id": "1b546ae1",
   "metadata": {},
   "outputs": [
    {
     "name": "stdout",
     "output_type": "stream",
     "text": [
      "Output Layer (before activation): [0.85943432]\n",
      "Final Output (Sigmoid): [0.70254245]\n"
     ]
    }
   ],
   "source": [
    "# Setup and compute weighted sum for Output Layer\n",
    "layer_2_output, layer_3_weights = nn.setup_layer(layer_2_output, layer_3_weights)\n",
    "layer_3_output = nn.weighted_sum(layer_2_output, layer_3_weights, layer_3_bias)\n",
    "\n",
    "print(\"Output Layer (before activation):\", layer_3_output)\n",
    "# Apply Sigmoid activation\n",
    "final_output = nn.activation_function(layer_3_output, activation_type=\"sigmoid\")\n",
    "\n",
    "print(\"Final Output (Sigmoid):\", final_output)\n"
   ]
  },
  {
   "cell_type": "code",
   "execution_count": 33,
   "id": "97596ed0",
   "metadata": {},
   "outputs": [
    {
     "name": "stdout",
     "output_type": "stream",
     "text": [
      "Predicted Class (0=Benign, 1=Malignant): [1]\n",
      "Loss (Cross-Entropy): 0.35304944627096974\n"
     ]
    }
   ],
   "source": [
    "# Calculate losses\n",
    "loss = nn.calculate_loss(target_output, final_output, loss_type=\"sigmoid\")\n",
    "\n",
    "predicted_class = (final_output >= 0.5).astype(int)\n",
    "# Optional: Predicted class\n",
    "print(\"Predicted Class (0=Benign, 1=Malignant):\", predicted_class )\n",
    "\n",
    "print(\"Loss (Cross-Entropy):\", loss)\n",
    "\n"
   ]
  }
 ],
 "metadata": {
  "kernelspec": {
   "display_name": "Python 3",
   "language": "python",
   "name": "python3"
  },
  "language_info": {
   "codemirror_mode": {
    "name": "ipython",
    "version": 3
   },
   "file_extension": ".py",
   "mimetype": "text/x-python",
   "name": "python",
   "nbconvert_exporter": "python",
   "pygments_lexer": "ipython3",
   "version": "3.13.2"
  }
 },
 "nbformat": 4,
 "nbformat_minor": 5
}
