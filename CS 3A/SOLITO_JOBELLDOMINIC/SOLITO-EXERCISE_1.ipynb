{
 "cells": [
  {
   "cell_type": "code",
   "execution_count": 2,
   "id": "c5c3ae57",
   "metadata": {},
   "outputs": [
    {
     "name": "stdout",
     "output_type": "stream",
     "text": [
      "Inputs: [8, 7]\n",
      "Weighted Sum: 4.6\n",
      "Step Result: True\n",
      "\n",
      "Inputs: [3, 4]\n",
      "Weighted Sum: 0.3999999999999999\n",
      "Step Result: False\n"
     ]
    }
   ],
   "source": [
    "def perceptron(inputs, weights, bias, threshold):\n",
    "    weighted_sum = bias  \n",
    "    for i in range(len(inputs)):\n",
    "        weighted_sum += inputs[i] * weights[i]\n",
    "    return weighted_sum\n",
    "\n",
    "weights = [0.6, 0.4]\n",
    "bias = -3\n",
    "threshold = 1\n",
    "\n",
    "input1 = [8, 7]\n",
    "result1 = perceptron(input1, weights, bias, threshold)\n",
    "print(\"Inputs:\", input1)\n",
    "print(\"Weighted Sum:\", result1)\n",
    "print(\"Step Result:\", 'True' if result1 > 1 else 'False')\n",
    "print()\n",
    "\n",
    "input2 = [3, 4]\n",
    "result2 = perceptron(input2, weights, bias, threshold)\n",
    "print(\"Inputs:\", input2)\n",
    "print(\"Weighted Sum:\", result2)\n",
    "print(\"Step Result:\", 'True' if result2 > 1 else 'False')"
   ]
  },
  {
   "cell_type": "code",
   "execution_count": 3,
   "id": "f1221ab3",
   "metadata": {},
   "outputs": [
    {
     "name": "stdout",
     "output_type": "stream",
     "text": [
      "Inputs: [0, 0]\n",
      "Weighted Sum: -1.5\n",
      "Step Result:  not AND gate\n",
      "\n",
      "Inputs: [0, 1]\n",
      "Weighted Sum: -0.5\n",
      "Step Result:  not AND gate\n",
      "\n",
      "Inputs: [1, 0]\n",
      "Weighted Sum: -0.5\n",
      "Step Result:  not AND gate\n",
      "\n",
      "Inputs: [1, 1]\n",
      "Weighted Sum: 0.5\n",
      "Step Result:  AND gate\n"
     ]
    }
   ],
   "source": [
    "def perceptron(inputs, weights, bias, threshold):\n",
    "    weighted_sum = bias  \n",
    "    for i in range(len(inputs)):\n",
    "        weighted_sum += inputs[i] * weights[i]\n",
    "    return weighted_sum\n",
    "\n",
    "weights = [1, 1]\n",
    "bias = -1.5\n",
    "threshold = 0\n",
    "\n",
    "input1 = [0, 0]\n",
    "result1 = perceptron(input1, weights, bias, threshold)\n",
    "print(\"Inputs:\", input1)\n",
    "print(\"Weighted Sum:\", result1)\n",
    "print('Step Result: ', 'AND gate' if result1 > 0 else 'not AND gate')\n",
    "print()\n",
    "\n",
    "input2 = [0, 1]\n",
    "result2 = perceptron(input2, weights, bias, threshold)\n",
    "print(\"Inputs:\", input2)\n",
    "print(\"Weighted Sum:\", result2)\n",
    "print('Step Result: ', 'AND gate' if result2 > 0 else 'not AND gate')\n",
    "print()\n",
    "\n",
    "input3 = [1, 0]\n",
    "result3 = perceptron(input3, weights, bias, threshold)\n",
    "print(\"Inputs:\", input3)\n",
    "print(\"Weighted Sum:\", result3)\n",
    "print('Step Result: ', 'AND gate' if result3 > 0 else 'not AND gate')\n",
    "print()\n",
    "\n",
    "input4 = [1, 1]\n",
    "result4 = perceptron(input4, weights, bias, threshold)\n",
    "print(\"Inputs:\", input4)\n",
    "print(\"Weighted Sum:\", result4)\n",
    "print('Step Result: ', 'AND gate' if result4 > 0 else 'not AND gate')"
   ]
  },
  {
   "cell_type": "code",
   "execution_count": 1,
   "id": "c71d16bb",
   "metadata": {},
   "outputs": [
    {
     "name": "stdout",
     "output_type": "stream",
     "text": [
      "Inputs: [1.0, -0.5, 0.2, 0.1, 0.0]\n",
      "Weighted Sum: 1.7000000000000002\n",
      "\n",
      "Inputs: [0.2, 0.2, 0.5, -0.4, 0.3]\n",
      "Weighted Sum: 0.5\n",
      "\n",
      "Inputs: [-0.3, -0.1, 0.4, 0.0, 0.2]\n",
      "Weighted Sum: 0.15000000000000002\n",
      "\n"
     ]
    }
   ],
   "source": [
    "def perceptron(weights, inputs, bias):\n",
    "    weighted_sum = bias  \n",
    "    for i in range(len(inputs)):\n",
    "        weighted_sum += inputs[i] * weights[i]\n",
    "    return weighted_sum\n",
    "\n",
    "inputs = [0.5, -1, 2, 1, 0]\n",
    "\n",
    "weight1 = [1.0, -0.5, 0.2, 0.1, 0.0]\n",
    "bias = 0.2\n",
    "result1 = perceptron(inputs, weight1, bias)\n",
    "print(\"Inputs:\", weight1)\n",
    "print(\"Weighted Sum:\", result1)\n",
    "print()\n",
    "\n",
    "weight2 = [0.2, 0.2, 0.5, -0.4, 0.3]\n",
    "bias = 0\n",
    "result2 = perceptron(inputs, weight2, bias)\n",
    "print(\"Inputs:\", weight2)\n",
    "print(\"Weighted Sum:\", result2)\n",
    "print()\n",
    "\n",
    "weight3 = [-0.3, -0.1, 0.4, 0.0, 0.2]\n",
    "bias = -0.6\n",
    "result3 = perceptron(inputs, weight3, bias)\n",
    "print(\"Inputs:\", weight3)\n",
    "print(\"Weighted Sum:\", result3)\n",
    "print()"
   ]
  }
 ],
 "metadata": {
  "kernelspec": {
   "display_name": "Python 3",
   "language": "python",
   "name": "python3"
  },
  "language_info": {
   "codemirror_mode": {
    "name": "ipython",
    "version": 3
   },
   "file_extension": ".py",
   "mimetype": "text/x-python",
   "name": "python",
   "nbconvert_exporter": "python",
   "pygments_lexer": "ipython3",
   "version": "3.13.7"
  }
 },
 "nbformat": 4,
 "nbformat_minor": 5
}
