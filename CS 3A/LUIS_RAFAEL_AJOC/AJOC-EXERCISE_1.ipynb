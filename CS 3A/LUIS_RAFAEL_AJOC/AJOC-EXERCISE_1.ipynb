{
 "cells": [
  {
   "cell_type": "code",
   "execution_count": 93,
   "id": "f4619f6d",
   "metadata": {},
   "outputs": [],
   "source": [
    "def perceptron_func(inputs, weights, bias, threshold):\n",
    "    weighted_sum = 0\n",
    "    for i in range(len(inputs)):\n",
    "        weighted_sum += inputs[i] * weights[i]\n",
    "    weighted_sum += bias\n",
    "    if weighted_sum > threshold:\n",
    "        return 1\n",
    "    else: \n",
    "        return 0\n",
    "    \n",
    "def perceptron_func_no_output(inputs, weights, bias):\n",
    "    weighted_sum = 0\n",
    "    for i in range(len(inputs)):\n",
    "        weighted_sum += inputs[i] * weights[i]\n",
    "    weighted_sum += bias\n",
    "    return weighted_sum"
   ]
  },
  {
   "cell_type": "markdown",
   "id": "53deffa8",
   "metadata": {},
   "source": [
    "Determine whether the student passes (1) or fails (0) based on:\n",
    "a.\tHours studied\n",
    "b.\tHours of sleep\n",
    "c.\tHours of free time\n",
    "Given weights w1 = 0.6, w2, 0.4, bias = -3\n",
    "Step function with a threshold of 1 \n",
    "\n",
    "Predict the output of the following inputs:\n",
    "1.\t(x1, x2) = (8, 7)\n",
    "2.\t(x1, x2) = (3, 4)"
   ]
  },
  {
   "cell_type": "code",
   "execution_count": 94,
   "id": "0da142eb",
   "metadata": {},
   "outputs": [
    {
     "name": "stdout",
     "output_type": "stream",
     "text": [
      "1. Output:  1\n",
      "Student passes.\n",
      "2. Output:  0\n",
      "Student fails.\n"
     ]
    }
   ],
   "source": [
    "def student_passes(output):\n",
    "    if output == 1:\n",
    "        print(\"Student passes.\")\n",
    "    else:\n",
    "        print(\"Student fails.\")\n",
    "\n",
    "student_weights = [0.6, 0.4]\n",
    "student_bias = -3\n",
    "student_threshold = 1\n",
    "\n",
    "# Inputs\n",
    "student_1_input = [8, 7]\n",
    "student_2_input = [3, 4]\n",
    "\n",
    "# Outputs\n",
    "student_1_output = perceptron_func(student_1_input, student_weights, student_bias, student_threshold)\n",
    "student_2_output = perceptron_func(student_2_input, student_weights, student_bias, student_threshold)\n",
    "\n",
    "print(\"1. Output: \", student_1_output)\n",
    "student_passes(student_1_output)\n",
    "print(\"2. Output: \", student_2_output)\n",
    "student_passes(student_2_output)"
   ]
  },
  {
   "cell_type": "markdown",
   "id": "ff957706",
   "metadata": {},
   "source": [
    "Logic Gate Simulation. Given the following setup for a perceptron, compute its output and verify whether it acts as an AND gate.\n",
    "Given weights w1 = 1, w2 = 1, bias = -1.5\n",
    "Step function with a threshold of 0\n",
    "Inputs\t:\n",
    "\t(0,0) , (0,1), (1,0), (1,1)"
   ]
  },
  {
   "cell_type": "code",
   "execution_count": 95,
   "id": "10b1171f",
   "metadata": {},
   "outputs": [
    {
     "name": "stdout",
     "output_type": "stream",
     "text": [
      "Perceptron is an AND gate.\n"
     ]
    }
   ],
   "source": [
    "logic_gate_inputs = [[0, 0], [0, 1], [1, 0], [1, 1]]\n",
    "logic_gate_weights = [1, 1]\n",
    "logic_gate_bias = -1.5\n",
    "logic_gate_threshold = 0\n",
    "\n",
    "is_and_gate: bool\n",
    "for i in range(len(logic_gate_inputs)):\n",
    "    and_result = logic_gate_inputs[i][0] & logic_gate_inputs[i][1]\n",
    "    output = perceptron_func(logic_gate_inputs[i], logic_gate_weights, logic_gate_bias, logic_gate_threshold)\n",
    "    if output != and_result:\n",
    "        is_and_gate = False\n",
    "        break\n",
    "    else:\n",
    "        is_and_gate = True\n",
    "\n",
    "if is_and_gate == True:\n",
    "    print(\"Perceptron is an AND gate.\")\n",
    "else:\n",
    "    print(\"Perceptron is not an AND gate.\")"
   ]
  },
  {
   "cell_type": "markdown",
   "id": "171819b7",
   "metadata": {},
   "source": [
    "Perceptron comparison (One vs All). Given the 3 perceptron, using the same input, compute the output and decided on the predicted class is the WINNER. If a tie is present, compare and get the highest weighted sum. \n",
    "\n",
    "Inputs = [0.5, -1, 2, 1, 0]"
   ]
  },
  {
   "cell_type": "code",
   "execution_count": 96,
   "id": "dc2449f7",
   "metadata": {},
   "outputs": [],
   "source": [
    "percep_compare_inputs = [0.5, -1, 2, 1, 0]\n",
    "output_dict = {}"
   ]
  },
  {
   "cell_type": "markdown",
   "id": "86f3df7f",
   "metadata": {},
   "source": [
    "Perceptron A Configuration:\n",
    "•\tWeights: WA = [1.0, -0.5, 0.2, 0.1, 0.0]\n",
    "•\tBiasA: 0.2"
   ]
  },
  {
   "cell_type": "code",
   "execution_count": 97,
   "id": "7c34dfab",
   "metadata": {},
   "outputs": [],
   "source": [
    "percep_a_weights = [1.0, -0.5, 0.2, 0.1, 0.0]\n",
    "percep_a_bias = 0.2\n",
    "output_dict[\"A\"] = perceptron_func_no_output(percep_compare_inputs, percep_a_weights, percep_a_bias)"
   ]
  },
  {
   "cell_type": "markdown",
   "id": "4e896f1c",
   "metadata": {},
   "source": [
    "Perceptron B\n",
    "•\tWeights: WB = [0.2, 0.2, 0.5, -0.4, 0.3]\n",
    "•\tBiasB: 0.0"
   ]
  },
  {
   "cell_type": "code",
   "execution_count": 98,
   "id": "c8bed5a3",
   "metadata": {},
   "outputs": [],
   "source": [
    "percep_b_weights = [0.2, 0.2, 0.5,-0.4, 0.3]\n",
    "percep_b_bias = 0.0\n",
    "output_dict[\"B\"] = perceptron_func_no_output(percep_compare_inputs, percep_b_weights, percep_b_bias)"
   ]
  },
  {
   "cell_type": "markdown",
   "id": "c9057bef",
   "metadata": {},
   "source": [
    "Perceptron C\n",
    "•\tWeights: WC = [-0.3, -0.1, 0.4, 0.0, 0.2]\n",
    "•\tBiasC: -0.6"
   ]
  },
  {
   "cell_type": "code",
   "execution_count": 99,
   "id": "5589afcc",
   "metadata": {},
   "outputs": [],
   "source": [
    "percep_c_weights = [-0.3, -0.1, 0.4, 0.0, 0.3]\n",
    "percep_c_bias = -0.6\n",
    "output_dict[\"C\"] = perceptron_func_no_output(percep_compare_inputs, percep_c_weights, percep_c_bias)"
   ]
  },
  {
   "cell_type": "code",
   "execution_count": 101,
   "id": "ef05fffa",
   "metadata": {},
   "outputs": [
    {
     "name": "stdout",
     "output_type": "stream",
     "text": [
      "Highest value is  1.7 from Perceptron  A\n"
     ]
    }
   ],
   "source": [
    "winner: str\n",
    "winner_value = max(output_dict[\"A\"], output_dict[\"B\"], output_dict[\"C\"])\n",
    "for key, value in output_dict.items():\n",
    "    if value == winner_value:\n",
    "        winner = key\n",
    "        break\n",
    "\n",
    "print(\"Highest value is \", winner_value, \"from Perceptron \", winner)"
   ]
  }
 ],
 "metadata": {
  "kernelspec": {
   "display_name": "base",
   "language": "python",
   "name": "python3"
  },
  "language_info": {
   "codemirror_mode": {
    "name": "ipython",
    "version": 3
   },
   "file_extension": ".py",
   "mimetype": "text/x-python",
   "name": "python",
   "nbconvert_exporter": "python",
   "pygments_lexer": "ipython3",
   "version": "3.12.7"
  }
 },
 "nbformat": 4,
 "nbformat_minor": 5
}
