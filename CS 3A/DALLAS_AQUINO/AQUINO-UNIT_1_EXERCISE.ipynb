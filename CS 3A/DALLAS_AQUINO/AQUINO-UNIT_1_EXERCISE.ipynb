{
 "cells": [
  {
   "cell_type": "code",
   "execution_count": 1,
   "id": "a9209e22",
   "metadata": {},
   "outputs": [],
   "source": [
    "import numpy as np"
   ]
  },
  {
   "cell_type": "code",
   "execution_count": 2,
   "id": "482dd7df",
   "metadata": {},
   "outputs": [],
   "source": [
    "def step_function(x, threshold=0):\n",
    "    return 1 if x >= threshold else 0"
   ]
  },
  {
   "cell_type": "code",
   "execution_count": 3,
   "id": "afc5bdde",
   "metadata": {},
   "outputs": [
    {
     "name": "stdout",
     "output_type": "stream",
     "text": [
      "Input (8, 7) → Weighted Sum = 4.60, Output = 1\n",
      "Input (3, 4) → Weighted Sum = 0.40, Output = 0\n"
     ]
    }
   ],
   "source": [
    "w1, w2 = 0.6, 0.4\n",
    "bias = -3\n",
    "threshold = 1\n",
    "\n",
    "def perceptron_pass_fail(x1, x2):\n",
    "    weighted_sum = w1*x1 + w2*x2 + bias\n",
    "    return step_function(weighted_sum, threshold), weighted_sum\n",
    "\n",
    "# Test inputs\n",
    "inputs = [(8,7), (3,4)]\n",
    "\n",
    "for x1, x2 in inputs:\n",
    "    output, w_sum = perceptron_pass_fail(x1, x2)\n",
    "    print(f\"Input ({x1}, {x2}) → Weighted Sum = {w_sum:.2f}, Output = {output}\")"
   ]
  },
  {
   "cell_type": "code",
   "execution_count": 4,
   "id": "267f463c",
   "metadata": {},
   "outputs": [
    {
     "name": "stdout",
     "output_type": "stream",
     "text": [
      "Input (0, 0) → Weighted Sum = -1.50, Output = 0\n",
      "Input (0, 1) → Weighted Sum = -0.50, Output = 0\n",
      "Input (1, 0) → Weighted Sum = -0.50, Output = 0\n",
      "Input (1, 1) → Weighted Sum = 0.50, Output = 1\n"
     ]
    }
   ],
   "source": [
    "w1, w2 = 1, 1\n",
    "bias = -1.5\n",
    "threshold = 0\n",
    "\n",
    "def perceptron_and(x1, x2):\n",
    "    weighted_sum = w1*x1 + w2*x2 + bias\n",
    "    return step_function(weighted_sum, threshold), weighted_sum\n",
    "\n",
    "# Test inputs\n",
    "inputs = [(0,0), (0,1), (1,0), (1,1)]\n",
    "\n",
    "for x1, x2 in inputs:\n",
    "    output, w_sum = perceptron_and(x1, x2)\n",
    "    print(f\"Input ({x1}, {x2}) → Weighted Sum = {w_sum:.2f}, Output = {output}\")"
   ]
  },
  {
   "cell_type": "markdown",
   "id": "e36286a7",
   "metadata": {},
   "source": [
    "Based from the results, the perceptrons acts as an AND logic gate because it requires all inputs to be 1 for it to pass or have an output of 1"
   ]
  },
  {
   "cell_type": "code",
   "execution_count": 5,
   "id": "4f7721ba",
   "metadata": {},
   "outputs": [
    {
     "name": "stdout",
     "output_type": "stream",
     "text": [
      "Results:\n",
      "Perceptron A → Weighted Sum = 1.70, Output = 1\n",
      "Perceptron B → Weighted Sum = 0.50, Output = 1\n",
      "Perceptron C → Weighted Sum = 0.15, Output = 1\n",
      "Tie detected → Winner by highest sum: Perceptron A\n"
     ]
    }
   ],
   "source": [
    "X = np.array([0.5, -1, 2, 1, 0])\n",
    "\n",
    "# Perceptron A\n",
    "WA = np.array([1.0, -0.5, 0.2, 0.1, 0.0])\n",
    "biasA = 0.2\n",
    "sumA = np.dot(WA, X) + biasA\n",
    "outA = step_function(sumA)\n",
    "\n",
    "# Perceptron B\n",
    "WB = np.array([0.2, 0.2, 0.5, -0.4, 0.3])\n",
    "biasB = 0.0\n",
    "sumB = np.dot(WB, X) + biasB\n",
    "outB = step_function(sumB)\n",
    "\n",
    "# Perceptron C\n",
    "WC = np.array([-0.3, -0.1, 0.4, 0.0, 0.2])\n",
    "biasC = -0.6\n",
    "sumC = np.dot(WC, X) + biasC\n",
    "outC = step_function(sumC)\n",
    "\n",
    "print(\"Results:\")\n",
    "print(f\"Perceptron A → Weighted Sum = {sumA:.2f}, Output = {outA}\")\n",
    "print(f\"Perceptron B → Weighted Sum = {sumB:.2f}, Output = {outB}\")\n",
    "print(f\"Perceptron C → Weighted Sum = {sumC:.2f}, Output = {outC}\")\n",
    "\n",
    "# Winner decision\n",
    "outputs = {\"A\": (outA, sumA), \"B\": (outB, sumB), \"C\": (outC, sumC)}\n",
    "\n",
    "# Find all perceptrons that output 1\n",
    "candidates = [key for key, val in outputs.items() if val[0] == 1]\n",
    "\n",
    "if len(candidates) == 0:\n",
    "    winner = \"No perceptron fired (all output = 0)\"\n",
    "elif len(candidates) == 1:\n",
    "    winner = f\"Winner: Perceptron {candidates[0]}\"\n",
    "else:\n",
    "    # Tie: compare weighted sums\n",
    "    best = max(candidates, key=lambda k: outputs[k][1])\n",
    "    winner = f\"Tie detected → Winner by highest sum: Perceptron {best}\"\n",
    "\n",
    "print(winner)"
   ]
  }
 ],
 "metadata": {
  "kernelspec": {
   "display_name": "base",
   "language": "python",
   "name": "python3"
  },
  "language_info": {
   "codemirror_mode": {
    "name": "ipython",
    "version": 3
   },
   "file_extension": ".py",
   "mimetype": "text/x-python",
   "name": "python",
   "nbconvert_exporter": "python",
   "pygments_lexer": "ipython3",
   "version": "3.12.4"
  }
 },
 "nbformat": 4,
 "nbformat_minor": 5
}
