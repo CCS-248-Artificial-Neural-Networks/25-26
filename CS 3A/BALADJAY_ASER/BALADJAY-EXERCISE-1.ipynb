{
 "cells": [
  {
   "cell_type": "code",
   "execution_count": 24,
   "id": "b4cd33e9",
   "metadata": {},
   "outputs": [
    {
     "name": "stdout",
     "output_type": "stream",
     "text": [
      "Inputs: [8, 7]\n",
      "  Weighted Sum: 4.6\n",
      "  Output: 1 (Pass)\n",
      "\n",
      "Inputs: [3, 4]\n",
      "  Weighted Sum: 0.3999999999999999\n",
      "  Output: 0 (Fail)\n"
     ]
    }
   ],
   "source": [
    "# Exercise 1\n",
    "\n",
    "def perceptron_step(inputs, weights, bias, threshold):\n",
    "    weighted_sum = bias  \n",
    "    for i in range(len(inputs)):\n",
    "        weighted_sum += inputs[i] * weights[i]\n",
    "    output = 1 if weighted_sum > threshold else 0\n",
    "    return weighted_sum, output\n",
    "\n",
    "weights = [0.6, 0.4]\n",
    "bias = -3\n",
    "threshold = 1\n",
    "\n",
    "inputs1 = [8, 7]\n",
    "weighted_sum1, result1 = perceptron_step(inputs1, weights, bias, threshold)\n",
    "print(f\"Inputs: {inputs1}\")\n",
    "print(f\"  Weighted Sum: {weighted_sum1}\")\n",
    "print(f\"  Output: {result1} ({'Pass' if result1 == 1 else 'Fail'})\")\n",
    "print()\n",
    "\n",
    "inputs2 = [3, 4]\n",
    "weighted_sum2, result2 = perceptron_step(inputs2, weights, bias, threshold)\n",
    "print(f\"Inputs: {inputs2}\")\n",
    "print(f\"  Weighted Sum: {weighted_sum2}\")\n",
    "print(f\"  Output: {result2} ({'Pass' if result2 == 1 else 'Fail'})\")"
   ]
  },
  {
   "cell_type": "code",
   "execution_count": 25,
   "id": "dfb78fb2",
   "metadata": {},
   "outputs": [
    {
     "name": "stdout",
     "output_type": "stream",
     "text": [
      "Inputs: (0, 0)\n",
      "  Weighted Sum: -1.5\n",
      "  Output: 0\n",
      "Inputs: (0, 1)\n",
      "  Weighted Sum: -0.5\n",
      "  Output: 0\n",
      "Inputs: (1, 0)\n",
      "  Weighted Sum: -0.5\n",
      "  Output: 0\n",
      "Inputs: (1, 1)\n",
      "  Weighted Sum: 0.5\n",
      "  Output: 1\n"
     ]
    }
   ],
   "source": [
    "# Exercise 2\n",
    "\n",
    "def and_gate_perceptron(inputs):\n",
    "    weights = [1, 1]\n",
    "    bias = -1.5\n",
    "    threshold = 0\n",
    "    \n",
    "    weighted_sum = bias  \n",
    "    for i in range(len(inputs)):\n",
    "        weighted_sum += inputs[i] * weights[i]\n",
    "    output = 1 if weighted_sum > threshold else 0\n",
    "    return weighted_sum, output\n",
    "\n",
    "and_inputs = [(0, 0), (0, 1), (1, 0), (1, 1)]\n",
    "\n",
    "for input_pair in and_inputs:\n",
    "    weighted_sum, result = and_gate_perceptron(input_pair)\n",
    "    print(f\"Inputs: {input_pair}\")\n",
    "    print(f\"  Weighted Sum: {weighted_sum}\")\n",
    "    print(f\"  Output: {result}\")"
   ]
  },
  {
   "cell_type": "code",
   "execution_count": 26,
   "id": "3bc8395d",
   "metadata": {},
   "outputs": [
    {
     "name": "stdout",
     "output_type": "stream",
     "text": [
      "Perceptron A:\n",
      "  Weights: [1.0, -0.5, 0.2, 0.1, 0.0], Bias: 0.2\n",
      "  Weighted Sum: 1.7000000000000002\n",
      "\n",
      "Perceptron B:\n",
      "  Weights: [0.2, 0.2, 0.5, -0.4, 0.3], Bias: 0.0\n",
      "  Weighted Sum: 0.5\n",
      "\n",
      "Perceptron C:\n",
      "  Weights: [-0.3, -0.1, 0.4, 0.0, 0.2], Bias: -0.6\n",
      "  Weighted Sum: 0.15000000000000002\n",
      "\n",
      "Winner: Perceptron A with a weighted sum of 1.7000\n"
     ]
    }
   ],
   "source": [
    "# Exercise 3\n",
    "\n",
    "def calculate_perceptron(inputs, weights, bias):\n",
    "    weighted_sum = bias  \n",
    "    for i in range(len(inputs)):\n",
    "        weighted_sum += inputs[i] * weights[i]\n",
    "    return weighted_sum\n",
    "\n",
    "inputs = [0.5, -1, 2, 1, 0]\n",
    "\n",
    "# Perceptron A \n",
    "weights_a = [1.0, -0.5, 0.2, 0.1, 0.0]\n",
    "bias_a = 0.2\n",
    "# Perceptron B \n",
    "weights_b = [0.2, 0.2, 0.5, -0.4, 0.3]\n",
    "bias_b = 0.0\n",
    "# Perceptron C \n",
    "weights_c = [-0.3, -0.1, 0.4, 0.0, 0.2]\n",
    "bias_c = -0.6\n",
    "\n",
    "sum_a = calculate_perceptron(inputs, weights_a, bias_a)\n",
    "sum_b = calculate_perceptron(inputs, weights_b, bias_b)\n",
    "sum_c = calculate_perceptron(inputs, weights_c, bias_c)\n",
    "\n",
    "print(\"Perceptron A:\")\n",
    "print(f\"  Weights: {weights_a}, Bias: {bias_a}\")\n",
    "print(f\"  Weighted Sum: {sum_a}\")\n",
    "print()\n",
    "\n",
    "print(\"Perceptron B:\")\n",
    "print(f\"  Weights: {weights_b}, Bias: {bias_b}\")\n",
    "print(f\"  Weighted Sum: {sum_b}\")\n",
    "print()\n",
    "\n",
    "print(\"Perceptron C:\")\n",
    "print(f\"  Weights: {weights_c}, Bias: {bias_c}\")\n",
    "print(f\"  Weighted Sum: {sum_c}\")\n",
    "print()\n",
    "\n",
    "sums = {'A': sum_a, 'B': sum_b, 'C': sum_c}\n",
    "winner = max(sums, key=sums.get)\n",
    "\n",
    "print(f\"Winner: Perceptron {winner} with a weighted sum of {sums[winner]:.4f}\")"
   ]
  }
 ],
 "metadata": {
  "kernelspec": {
   "display_name": "Python 3",
   "language": "python",
   "name": "python3"
  },
  "language_info": {
   "codemirror_mode": {
    "name": "ipython",
    "version": 3
   },
   "file_extension": ".py",
   "mimetype": "text/x-python",
   "name": "python",
   "nbconvert_exporter": "python",
   "pygments_lexer": "ipython3",
   "version": "3.13.3"
  }
 },
 "nbformat": 4,
 "nbformat_minor": 5
}
