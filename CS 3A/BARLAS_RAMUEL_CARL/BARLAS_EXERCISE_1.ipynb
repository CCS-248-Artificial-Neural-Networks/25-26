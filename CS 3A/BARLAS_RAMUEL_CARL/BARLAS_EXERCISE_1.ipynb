{
 "cells": [
  {
   "cell_type": "code",
   "execution_count": 1,
   "id": "16502082",
   "metadata": {},
   "outputs": [
    {
     "name": "stdout",
     "output_type": "stream",
     "text": [
      "Perceptron weighted sum: 4.6\n",
      "1\n",
      "Perceptron weighted sum: 0.3999999999999999\n",
      "0\n"
     ]
    }
   ],
   "source": [
    "#Number 1\n",
    "\n",
    "import numpy as np\n",
    "\n",
    "class perceptron:\n",
    "    def __init__ (self):\n",
    "        self.weights = [0.6, 0.4]\n",
    "        self.bias = -3\n",
    "        self.threshold = 1\n",
    "    \n",
    "    def predict (self, x1, x2):\n",
    "        inputs = [x1, x2]\n",
    "        weighted_sum = 0\n",
    "        for i in range(len(inputs)):\n",
    "            weighted_sum += inputs[i] * self.weights[i]\n",
    "        weighted_sum += self.bias\n",
    "\n",
    "        print('Perceptron weighted sum:', weighted_sum)\n",
    "        return 1 if weighted_sum >= self.threshold else 0\n",
    "\n",
    "perceptron = perceptron()\n",
    "\n",
    "print(perceptron.predict(8,7))\n",
    "print(perceptron.predict(3,4))"
   ]
  },
  {
   "cell_type": "code",
   "execution_count": 2,
   "id": "33a63ba9",
   "metadata": {},
   "outputs": [
    {
     "name": "stdout",
     "output_type": "stream",
     "text": [
      "Perceptron weighted sum: -1.5\n",
      "0\n",
      "Perceptron weighted sum: -0.5\n",
      "0\n",
      "Perceptron weighted sum: -0.5\n",
      "0\n",
      "Perceptron weighted sum: 0.5\n",
      "1\n"
     ]
    }
   ],
   "source": [
    "#Number 2\n",
    "\n",
    "import numpy as np\n",
    "\n",
    "class perceptron:\n",
    "    def __init__ (self):\n",
    "        self.weights = [1, 1]\n",
    "        self.bias = -1.5\n",
    "        self.threshold = 0\n",
    "    \n",
    "    def predict (self, x1, x2):\n",
    "        inputs = [x1, x2]\n",
    "        weighted_sum = 0\n",
    "        for i in range(len(inputs)):\n",
    "            weighted_sum += inputs[i] * self.weights[i]\n",
    "        weighted_sum += self.bias\n",
    "\n",
    "        print('Perceptron weighted sum:', weighted_sum)\n",
    "        return 1 if weighted_sum >= self.threshold else 0\n",
    "\n",
    "perceptron = perceptron()\n",
    "\n",
    "print(perceptron.predict(0,0))\n",
    "print(perceptron.predict(0,1))\n",
    "print(perceptron.predict(1,0))\n",
    "print(perceptron.predict(1,1))"
   ]
  },
  {
   "cell_type": "code",
   "execution_count": 3,
   "id": "f393917a",
   "metadata": {},
   "outputs": [
    {
     "ename": "NameError",
     "evalue": "name 'inputs' is not defined",
     "output_type": "error",
     "traceback": [
      "\u001b[1;31m---------------------------------------------------------------------------\u001b[0m",
      "\u001b[1;31mNameError\u001b[0m                                 Traceback (most recent call last)",
      "Cell \u001b[1;32mIn[3], line 22\u001b[0m\n\u001b[0;32m     18\u001b[0m         \u001b[38;5;28;01mreturn\u001b[39;00m \u001b[38;5;241m1\u001b[39m \u001b[38;5;28;01mif\u001b[39;00m weighted_sum \u001b[38;5;241m>\u001b[39m\u001b[38;5;241m=\u001b[39m \u001b[38;5;28mself\u001b[39m\u001b[38;5;241m.\u001b[39mthreshold \u001b[38;5;28;01melse\u001b[39;00m \u001b[38;5;241m0\u001b[39m\n\u001b[0;32m     20\u001b[0m perceptron \u001b[38;5;241m=\u001b[39m perceptron()\n\u001b[1;32m---> 22\u001b[0m \u001b[38;5;28mprint\u001b[39m(\u001b[43mperceptron\u001b[49m\u001b[38;5;241;43m.\u001b[39;49m\u001b[43mpredict\u001b[49m\u001b[43m(\u001b[49m\u001b[38;5;241;43m1.0\u001b[39;49m\u001b[43m,\u001b[49m\u001b[43m \u001b[49m\u001b[38;5;241;43m-\u001b[39;49m\u001b[38;5;241;43m0.5\u001b[39;49m\u001b[43m,\u001b[49m\u001b[43m \u001b[49m\u001b[38;5;241;43m0.2\u001b[39;49m\u001b[43m,\u001b[49m\u001b[43m \u001b[49m\u001b[38;5;241;43m0.1\u001b[39;49m\u001b[43m,\u001b[49m\u001b[43m \u001b[49m\u001b[38;5;241;43m0.0\u001b[39;49m\u001b[43m,\u001b[49m\u001b[43m \u001b[49m\u001b[38;5;241;43m0.2\u001b[39;49m\u001b[43m)\u001b[49m)\n\u001b[0;32m     23\u001b[0m \u001b[38;5;28mprint\u001b[39m(perceptron\u001b[38;5;241m.\u001b[39mpredict(\u001b[38;5;241m0.2\u001b[39m, \u001b[38;5;241m0.2\u001b[39m, \u001b[38;5;241m0.5\u001b[39m, \u001b[38;5;241m-\u001b[39m\u001b[38;5;241m0.4\u001b[39m, \u001b[38;5;241m0.3\u001b[39m, \u001b[38;5;241m0.0\u001b[39m))\n\u001b[0;32m     24\u001b[0m \u001b[38;5;28mprint\u001b[39m(perceptron\u001b[38;5;241m.\u001b[39mpredict(\u001b[38;5;241m-\u001b[39m\u001b[38;5;241m0.3\u001b[39m, \u001b[38;5;241m-\u001b[39m\u001b[38;5;241m0.1\u001b[39m, \u001b[38;5;241m0.4\u001b[39m, \u001b[38;5;241m0.0\u001b[39m, \u001b[38;5;241m0.2\u001b[39m, \u001b[38;5;241m-\u001b[39m\u001b[38;5;241m0.6\u001b[39m))\n",
      "Cell \u001b[1;32mIn[3], line 13\u001b[0m, in \u001b[0;36mperceptron.predict\u001b[1;34m(self, x1, x2, x3, x4, x5, bias)\u001b[0m\n\u001b[0;32m     11\u001b[0m weights \u001b[38;5;241m=\u001b[39m [x1, x2, x3]\n\u001b[0;32m     12\u001b[0m weighted_sum \u001b[38;5;241m=\u001b[39m \u001b[38;5;241m0\u001b[39m\n\u001b[1;32m---> 13\u001b[0m \u001b[38;5;28;01mfor\u001b[39;00m i \u001b[38;5;129;01min\u001b[39;00m \u001b[38;5;28mrange\u001b[39m(\u001b[38;5;28mlen\u001b[39m(\u001b[43minputs\u001b[49m)):\n\u001b[0;32m     14\u001b[0m     weighted_sum \u001b[38;5;241m+\u001b[39m\u001b[38;5;241m=\u001b[39m \u001b[38;5;28mself\u001b[39m\u001b[38;5;241m.\u001b[39minputs[i] \u001b[38;5;241m*\u001b[39m weights[i]\n\u001b[0;32m     15\u001b[0m weighted_sum \u001b[38;5;241m+\u001b[39m\u001b[38;5;241m=\u001b[39m bias\n",
      "\u001b[1;31mNameError\u001b[0m: name 'inputs' is not defined"
     ]
    }
   ],
   "source": [
    "#Number 3\n",
    "\n",
    "import numpy as np\n",
    "\n",
    "class perceptron:\n",
    "    def __init__ (self):\n",
    "        self.inputs = [0.5, -1, 2, 1, 0]\n",
    "        self.threshold = 1\n",
    "    \n",
    "    def predict (self, x1, x2, x3, x4, x5, bias):\n",
    "        weights = [x1, x2, x3]\n",
    "        weighted_sum = 0\n",
    "        for i in range(len(inputs)):\n",
    "            weighted_sum += self.inputs[i] * weights[i]\n",
    "        weighted_sum += bias\n",
    "\n",
    "        print('Perceptron weighted sum:', weighted_sum)\n",
    "        return 1 if weighted_sum >= self.threshold else 0\n",
    "\n",
    "perceptron = perceptron()\n",
    "\n",
    "print(perceptron.predict(1.0, -0.5, 0.2, 0.1, 0.0, 0.2))\n",
    "print(perceptron.predict(0.2, 0.2, 0.5, -0.4, 0.3, 0.0))\n",
    "print(perceptron.predict(-0.3, -0.1, 0.4, 0.0, 0.2, -0.6))"
   ]
  }
 ],
 "metadata": {
  "kernelspec": {
   "display_name": "Python 3",
   "language": "python",
   "name": "python3"
  },
  "language_info": {
   "codemirror_mode": {
    "name": "ipython",
    "version": 3
   },
   "file_extension": ".py",
   "mimetype": "text/x-python",
   "name": "python",
   "nbconvert_exporter": "python",
   "pygments_lexer": "ipython3",
   "version": "3.12.1"
  }
 },
 "nbformat": 4,
 "nbformat_minor": 5
}
