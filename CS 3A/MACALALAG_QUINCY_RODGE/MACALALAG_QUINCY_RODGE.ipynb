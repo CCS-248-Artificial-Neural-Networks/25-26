{
 "cells": [
  {
   "cell_type": "code",
   "execution_count": 61,
   "id": "0ab4911e-231f-4b22-a25f-2947da9abf60",
   "metadata": {},
   "outputs": [],
   "source": [
    "# Exercise for Unit 1\"\n",
    "# Name: Quincy Rodge A. Macalalag\n",
    "# Date: 8/27/2025,\n",
    "# Year and Section: BSCS 3-A AI\n",
    "\n",
    "\n",
    "class Perceptron:\n",
    "    def __init__(self, inputs, weights, bias, step_threshold):\n",
    "        self.inputs = inputs\n",
    "        self.weights = weights\n",
    "        self.bias = bias\n",
    "        self.step_threshold = step_threshold\n",
    "\n",
    "    def calculate_weighted_sum(self):\n",
    "        weighted_sum = 0\n",
    "        for i in range(len(self.inputs)):\n",
    "            weighted_sum += self.inputs[i] * self.weights[i]\n",
    "        weighted_sum += self.bias\n",
    "        return weighted_sum\n",
    "\n",
    "    def get_weighted_sum(self):\n",
    "        return self.calculate_weighted_sum()\n",
    "\n",
    "    def get_step_result(self):\n",
    "        return 1 if self.calculate_weighted_sum() > self.step_threshold else 0"
   ]
  },
  {
   "cell_type": "code",
   "execution_count": 62,
   "id": "047e3cd7-3e7a-4ed4-9516-e2066bdd6162",
   "metadata": {},
   "outputs": [],
   "source": [
    "# helper function for extracting inputs whenever we encounter a tuple of inputs\n",
    "def extract_items(inputs):\n",
    "    if str(type(inputs)) == \"<class 'list'>\":\n",
    "        return inputs\n",
    "    return [item for item in inputs]"
   ]
  },
  {
   "cell_type": "code",
   "execution_count": 63,
   "id": "b4ef33fb-a471-4fc4-9563-80c6e8c7defe",
   "metadata": {},
   "outputs": [
    {
     "name": "stdout",
     "output_type": "stream",
     "text": [
      "(8, 7)\n",
      "Perceptron with input: (8, 7); Weighted Sum -> 4.6; Step Ouput: 1; Student Pass? Yes\n",
      "(3, 4)\n",
      "Perceptron with input: (3, 4); Weighted Sum -> 0.3999999999999999; Step Ouput: 0; Student Pass? No\n"
     ]
    }
   ],
   "source": [
    "# 1. (10 points) Determine whether the student passes (1) or fails (0) based on:\n",
    "#     ◦ Hours studied\n",
    "#     ◦ Hours of sleep\n",
    "\n",
    "# Given weights w1 = 0.6, w2= 0.4, bias = -3\n",
    "# Step function with a threshold of 1 \n",
    "\n",
    "# Predict the output of the following inputs:\n",
    "#     1. (x1, x2) = (8, 7)\n",
    "#     2. (x1, x2) = (3, 4)\n",
    "\n",
    "weights = [0.6, 0.4]\n",
    "inputs = [(8, 7), (3, 4)]\n",
    "bias = -3\n",
    "step_threshold = 1\n",
    "\n",
    "for pair in inputs:\n",
    "    print(pair)\n",
    "    perceptron = Perceptron(extract_items(pair), weights, bias, step_threshold)\n",
    "    print(f\"Perceptron with input: {pair}; Weighted Sum -> {perceptron.get_weighted_sum()}; Step Ouput: {perceptron.get_step_result()}; Student Pass? {\"Yes\" if perceptron.get_step_result() else \"No\"}\")"
   ]
  },
  {
   "cell_type": "code",
   "execution_count": 64,
   "id": "ff11cd6a-d8c3-479d-8020-90a9c9038b29",
   "metadata": {},
   "outputs": [
    {
     "name": "stdout",
     "output_type": "stream",
     "text": [
      "(0, 0)\n",
      "Perceptron with input: (0, 0); Weighted Sum -> -1.5; Step Ouput: 0; Not AND gate\n",
      "(0, 1)\n",
      "Perceptron with input: (0, 1); Weighted Sum -> -0.5; Step Ouput: 0; Not AND gate\n",
      "(1, 0)\n",
      "Perceptron with input: (1, 0); Weighted Sum -> -0.5; Step Ouput: 0; Not AND gate\n",
      "(1, 1)\n",
      "Perceptron with input: (1, 1); Weighted Sum -> 0.5; Step Ouput: 1; is AND gate\n"
     ]
    }
   ],
   "source": [
    "# 2. (10 points) Logic Gate Simulation. Given the following setup for a perceptron, compute its output and verify whether it acts as an AND gate.\n",
    "# Given weights w1 = 1, w2 = 1, bias = -1.5\n",
    "# Step function with a threshold of 0\n",
    "# Inputs\t:\n",
    "# (0,0) , (0,1), (1,0), (1,1)\n",
    "\n",
    "inputs = [(0, 0), (0, 1), (1, 0), (1, 1)]\n",
    "weights = [1, 1]\n",
    "bias = -1.5\n",
    "step_threshold = 0\n",
    "\n",
    "for pair in inputs:\n",
    "    print(pair)\n",
    "    perceptron = Perceptron(extract_items(pair), weights, bias, step_threshold)\n",
    "    print(f\"Perceptron with input: {pair}; Weighted Sum -> {perceptron.get_weighted_sum()}; Step Ouput: {perceptron.get_step_result()}; {\"is AND gate\" if perceptron.get_step_result() else \"Not AND gate\"}\")\n"
   ]
  },
  {
   "cell_type": "code",
   "execution_count": 66,
   "id": "e4c30812-6311-4185-9d9c-cd4e22d2a4d6",
   "metadata": {},
   "outputs": [
    {
     "name": "stdout",
     "output_type": "stream",
     "text": [
      "a is the winner, with the weighted sum of 1.7\n"
     ]
    }
   ],
   "source": [
    "# 3. (30 points) Perceptron comparison (One vs All). Given the 3 perceptron, using the same input, compute the output and decided on the predicted class is the WINNER. If a tie is present, compare and get the highest weighted sum. \n",
    "# Step function with a threshold of 1.0\n",
    "\n",
    "# Inputs = [0.5, -1, 2, 1, 0]\n",
    "# Perceptron A Configuration:\n",
    "# • Weights: WA = [1.0, -0.5, 0.2, 0.1, 0.0]\n",
    "# • BiasA: 0.2\n",
    "# Perceptron B\n",
    "# • Weights: WB = [0.2, 0.2, 0.5, -0.4, 0.3]\n",
    "# • BiasB: 0.0\n",
    "# Perceptron C\n",
    "# • Weights: WC = [-0.3, -0.1, 0.4, 0.0, 0.2]\n",
    "# • BiasC: -0.6\n",
    "\n",
    "configs = {\n",
    "    \"a\": {\n",
    "        \"weights\": [1.0, -0.5, 0.2, 0.1, 0.0],\n",
    "        \"bias\": 0.2,\n",
    "    },\n",
    "    \"b\": {\n",
    "        \"weights\": [0.2, 0.2, 0.5, -0.4, 0.3],\n",
    "        \"bias\": 0.0,\n",
    "        \n",
    "    },\n",
    "    \"c\": {\n",
    "        \"weights\": [-0.3, -0.1, 0.4, 0.0, 0.2],\n",
    "        \"bias\": -0.6,\n",
    "    }\n",
    "}\n",
    "\n",
    "outputs = {\n",
    "    \n",
    "}\n",
    "\n",
    "\n",
    "inputs = [0.5, -1, 2, 1, 0]\n",
    "weights = [1.0, -0.5, 0.2, 0.1, 0.0]\n",
    "bias = 1.0\n",
    "step_threshold = 1.0\n",
    "\n",
    "for p in configs:\n",
    "    \n",
    "    perceptron = Perceptron(extract_items(inputs), configs[p][\"weights\"], configs[p][\"bias\"], step_threshold)\n",
    "    outputs[p] = perceptron.get_weighted_sum()\n",
    "\n",
    "p_key = \"a\"\n",
    "max_weighted_sum = outputs[p_key]\n",
    "for k in outputs:\n",
    "    if k == \"a\":\n",
    "        continue\n",
    "    if outputs[k] > max_weighted_sum:\n",
    "        max_weighted_sum = outputs[k]\n",
    "        p_key = k\n",
    "\n",
    "print(f\"{p_key} is the winner, with the weighted sum of {outputs[p_key]}\")\n"
   ]
  },
  {
   "cell_type": "code",
   "execution_count": null,
   "id": "a6f2379d-1067-4ccc-8f55-8b350711dda8",
   "metadata": {},
   "outputs": [],
   "source": []
  }
 ],
 "metadata": {
  "kernelspec": {
   "display_name": "Python 3 (ipykernel)",
   "language": "python",
   "name": "python3"
  },
  "language_info": {
   "codemirror_mode": {
    "name": "ipython",
    "version": 3
   },
   "file_extension": ".py",
   "mimetype": "text/x-python",
   "name": "python",
   "nbconvert_exporter": "python",
   "pygments_lexer": "ipython3",
   "version": "3.13.7"
  }
 },
 "nbformat": 4,
 "nbformat_minor": 5
}
