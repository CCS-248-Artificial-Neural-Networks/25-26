{
 "cells": [
  {
   "cell_type": "markdown",
   "id": "b4350a98",
   "metadata": {},
   "source": [
    "# Exercise for Unit 1\n",
    "\n",
    "**Name:** MYRRHEA BELLE B. JUNSAY\n",
    "\n",
    "**Date:** AUGUST 27, 2025  \n",
    "\n",
    "**Year and Section:** BSCS 3A AI"
   ]
  },
  {
   "cell_type": "code",
   "execution_count": 1,
   "id": "8240d3c3",
   "metadata": {},
   "outputs": [],
   "source": [
    "import numpy as np"
   ]
  },
  {
   "cell_type": "markdown",
   "id": "7dde9bc6",
   "metadata": {},
   "source": [
    "## 1. Student Pass/Fail\n",
    "\n",
    "Determine whether the student passes (1) or fails (0).\n",
    "\n",
    "**Given:**\n",
    "*   Weights: `w1 = 0.6` (for hours studied), `w2 = 0.4` (for hours of sleep)\n",
    "*   Bias: `-3`\n",
    "*   Activation Function: Step function with a threshold of `1`. The output is `1` if `(weighted sum + bias) >= 1`, otherwise it is `0`."
   ]
  },
  {
   "cell_type": "code",
   "execution_count": 13,
   "id": "9711689a",
   "metadata": {},
   "outputs": [
    {
     "name": "stdout",
     "output_type": "stream",
     "text": [
      "Inputs (hours studied, hours of sleep) = (8, 7)\n",
      "Prediction: Pass (1)\n",
      "\n",
      "Inputs (hours studied, hours of sleep) = (3, 4)\n",
      "Prediction: Fail (0)\n"
     ]
    }
   ],
   "source": [
    "def student_perceptron(x1, x2, w1, w2, bias):\n",
    "    weighted_sum = (x1 * w1) + (x2 * w2) + bias\n",
    "    \n",
    "    if weighted_sum >= 1:\n",
    "        return 1  # Pass\n",
    "    else:\n",
    "        return 0  # Fail\n",
    "\n",
    "w1 = 0.6\n",
    "w2 = 0.4\n",
    "bias = -3\n",
    "\n",
    "# Input 1\n",
    "x1_1, x2_1 = (8, 7)\n",
    "output_1 = student_perceptron(x1_1, x2_1, w1, w2, bias)\n",
    "print(f\"Inputs (hours studied, hours of sleep) = ({x1_1}, {x2_1})\")\n",
    "print(f\"Prediction: {'Pass (1)' if output_1 == 1 else 'Fail (0)'}\\n\")\n",
    "\n",
    "# Input 2\n",
    "x1_2, x2_2 = (3, 4)\n",
    "output_2 = student_perceptron(x1_2, x2_2, w1, w2, bias)\n",
    "print(f\"Inputs (hours studied, hours of sleep) = ({x1_2}, {x2_2})\")\n",
    "print(f\"Prediction: {'Pass (1)' if output_2 == 1 else 'Fail (0)'}\")"
   ]
  },
  {
   "cell_type": "markdown",
   "id": "2aabe91a",
   "metadata": {},
   "source": [
    "## 2. Logic Gate Simulation\n",
    "\n",
    "Given the following setup for a perceptron, compute its output and verify whether it acts as an AND gate.\n",
    "\n",
    "**Given:**\n",
    "*   Weights: `w1 = 1`, `w2 = 1`\n",
    "*   Bias: `-1.5`\n",
    "*   Activation Function: Step function with a threshold of `0`. The output is `1` if `(weighted sum + bias) >= 0`, otherwise it is `0`."
   ]
  },
  {
   "cell_type": "code",
   "execution_count": 12,
   "id": "8fab8def",
   "metadata": {},
   "outputs": [
    {
     "name": "stdout",
     "output_type": "stream",
     "text": [
      "AND Gate Simulation Results:\n",
      "\n",
      "Input (x1, x2)  | Perceptron Output | Expected AND Output | Match?\n",
      "(0, 0)          | 0                 | 0                   | Yes\n",
      "(0, 1)          | 0                 | 0                   | Yes\n",
      "(1, 0)          | 0                 | 0                   | Yes\n",
      "(1, 1)          | 1                 | 1                   | Yes\n",
      "\n",
      "Conclusion: The perceptron's output perfectly matches the expected output of an AND gate.\n"
     ]
    }
   ],
   "source": [
    "def gate_perceptron(x1, x2, w1, w2, bias):\n",
    "    weighted_sum = (x1 * w1) + (x2 * w2) + bias\n",
    "    \n",
    "    if weighted_sum >= 0:\n",
    "        return 1\n",
    "    else:\n",
    "        return 0\n",
    "\n",
    "w1_gate = 1\n",
    "w2_gate = 1\n",
    "bias_gate = -1.5\n",
    "\n",
    "inputs = [(0, 0), (0, 1), (1, 0), (1, 1)]\n",
    "\n",
    "is_and_gate = True\n",
    "\n",
    "print(\"AND Gate Simulation Results:\")\n",
    "print(\"\\nInput (x1, x2)  | Perceptron Output | Expected AND Output | Match?\")\n",
    "\n",
    "for x1, x2 in inputs:\n",
    "    perceptron_output = gate_perceptron(x1, x2, w1_gate, w2_gate, bias_gate)\n",
    "    expected_output = 1 if x1 == 1 and x2 == 1 else 0\n",
    "\n",
    "    match_status = \"Yes\" if perceptron_output == expected_output else \"No\"\n",
    "    \n",
    "    if perceptron_output != expected_output:\n",
    "        is_and_gate = False\n",
    "    \n",
    "    print(f\"({x1}, {x2})          | {perceptron_output:<17} | {expected_output:<19} | {match_status}\")\n",
    "\n",
    "if is_and_gate:\n",
    "    print(\"\\nConclusion: The perceptron's output perfectly matches the expected output of an AND gate.\")\n",
    "else:\n",
    "    print(\"\\nConclusion: The perceptron does NOT act as an AND gate because one or more outputs did not match.\")"
   ]
  },
  {
   "cell_type": "markdown",
   "id": "be81f0dd",
   "metadata": {},
   "source": [
    "## 3. Perceptron Comparison (One vs All)\n",
    "\n",
    "Given the 3 perceptron, using the same input, compute the output and decided on the predicted class is the WINNER. If a tie is present, compare and get the highest weighted sum.\n",
    "\n",
    "**Given:**\n",
    "*   Inputs: `[0.5, -1, 2, 1, 0]`\n",
    "*   **Perceptron A:**\n",
    "    *   Weights `WA`: `[1.0, -0.5, 0.2, 0.1, 0.0]`\n",
    "    *   Bias `BiasA`: `0.2`\n",
    "*   **Perceptron B:**\n",
    "    *   Weights `WB`: `[0.2, 0.2, 0.5, -0.4, 0.3]`\n",
    "    *   Bias `BiasB`: `0.0`\n",
    "*   **Perceptron C:**\n",
    "    *   Weights `WC`: `[-0.3, -0.1, 0.4, 0.0, 0.2]`\n",
    "    *   Bias `BiasC`: `-0.6`"
   ]
  },
  {
   "cell_type": "code",
   "execution_count": 6,
   "id": "46193e64",
   "metadata": {},
   "outputs": [
    {
     "name": "stdout",
     "output_type": "stream",
     "text": [
      "Perceptron A final weighted sum: 1.70\n",
      "Perceptron B final weighted sum: 0.50\n",
      "Perceptron C final weighted sum: 0.15\n",
      "\n",
      "The WINNER is: Perceptron A\n"
     ]
    }
   ],
   "source": [
    "def calculate_weighted_sum(inputs, weights, bias):\n",
    "\n",
    "    total = 0\n",
    "\n",
    "    for i in range(len(inputs)):\n",
    "        total += inputs[i] * weights[i]\n",
    "    \n",
    "    return total + bias\n",
    "\n",
    "inputs = [0.5, -1, 2, 1, 0]\n",
    "\n",
    "# Perceptron A \n",
    "WA = [1.0, -0.5, 0.2, 0.1, 0.0]\n",
    "BiasA = 0.2\n",
    "\n",
    "# Perceptron B \n",
    "WB = [0.2, 0.2, 0.5, -0.4, 0.3]\n",
    "BiasB = 0.0\n",
    "\n",
    "# Perceptron C\n",
    "WC = [-0.3, -0.1, 0.4, 0.0, 0.2]\n",
    "BiasC = -0.6\n",
    "\n",
    "# Calculate final value\n",
    "output_A = calculate_weighted_sum(inputs, WA, BiasA)\n",
    "output_B = calculate_weighted_sum(inputs, WB, BiasB)\n",
    "output_C = calculate_weighted_sum(inputs, WC, BiasC)\n",
    "\n",
    "print(f\"Perceptron A final weighted sum: {output_A:.2f}\")\n",
    "print(f\"Perceptron B final weighted sum: {output_B:.2f}\")\n",
    "print(f\"Perceptron C final weighted sum: {output_C:.2f}\")\n",
    "\n",
    "# Store result to find winner\n",
    "results = {\n",
    "    \"Perceptron A\": output_A,\n",
    "    \"Perceptron B\": output_B,\n",
    "    \"Perceptron C\": output_C\n",
    "}\n",
    "\n",
    "# Determine winner\n",
    "winner = max(results, key=results.get)\n",
    "\n",
    "print(f\"\\nThe WINNER is: {winner}\")"
   ]
  }
 ],
 "metadata": {
  "kernelspec": {
   "display_name": "base",
   "language": "python",
   "name": "python3"
  },
  "language_info": {
   "codemirror_mode": {
    "name": "ipython",
    "version": 3
   },
   "file_extension": ".py",
   "mimetype": "text/x-python",
   "name": "python",
   "nbconvert_exporter": "python",
   "pygments_lexer": "ipython3",
   "version": "3.12.4"
  }
 },
 "nbformat": 4,
 "nbformat_minor": 5
}
