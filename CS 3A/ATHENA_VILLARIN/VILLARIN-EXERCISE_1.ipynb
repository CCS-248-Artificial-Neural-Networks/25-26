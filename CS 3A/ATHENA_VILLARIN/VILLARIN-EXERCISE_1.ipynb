{
 "cells": [
  {
   "cell_type": "markdown",
   "id": "8bea41da",
   "metadata": {},
   "source": [
    "# Exercise for Unit 1\n",
    "\n",
    "**Name:** Athena S. Villarin  \n",
    "**Date:** 8/27/2025  \n",
    "**Year and Section:** BSCS 3-A AI"
   ]
  },
  {
   "cell_type": "markdown",
   "id": "7b96ce82",
   "metadata": {},
   "source": [
    "## Problem 1: Student Pass/Fail Prediction\n",
    "\n",
    "Given weights: w1 = 0.6, w2 = 0.4, bias = -3  \n",
    "Step function threshold: 1\n",
    "\n",
    "Inputs:\n",
    "1. (x1, x2) = (8, 7)\n",
    "2. (x1, x2) = (3, 4)\n",
    "\n",
    "Predict whether the student passes (1) or fails (0) based on hours studied and hours of sleep."
   ]
  },
  {
   "cell_type": "code",
   "execution_count": 1,
   "id": "454e55ac",
   "metadata": {},
   "outputs": [
    {
     "name": "stdout",
     "output_type": "stream",
     "text": [
      "Input 1 (8, 7): Output = 1 (PASS)\n",
      "Input 2 (3, 4): Output = 0 (FAIL)\n"
     ]
    }
   ],
   "source": [
    "# Perceptron for student pass/fail prediction\n",
    "\n",
    "def perceptron_student(inputs, weights, bias, threshold=1):\n",
    "    weighted_sum = sum(x*w for x, w in zip(inputs, weights)) + bias\n",
    "    return 1 if weighted_sum >= threshold else 0\n",
    "\n",
    "weights = [0.6, 0.4]\n",
    "bias = -3\n",
    "threshold = 1\n",
    "\n",
    "inputs_list = [(8, 7), (3, 4)]\n",
    "\n",
    "for idx, inputs in enumerate(inputs_list, 1):\n",
    "    output = perceptron_student(inputs, weights, bias, threshold)\n",
    "    status = \"PASS\" if output == 1 else \"FAIL\"\n",
    "    print(f\"Input {idx} {inputs}: Output = {output} ({status})\")"
   ]
  },
  {
   "cell_type": "markdown",
   "id": "122af3d8",
   "metadata": {},
   "source": [
    "## Problem 2: Logic Gate Simulation (AND Gate)\n",
    "\n",
    "Given weights: w1 = 1, w2 = 1, bias = -1.5  \n",
    "Step function threshold: 0\n",
    "\n",
    "Inputs:\n",
    "- (0, 0)\n",
    "- (0, 1)\n",
    "- (1, 0)\n",
    "- (1, 1)\n",
    "\n",
    "Compute the output and verify if it acts as an AND gate."
   ]
  },
  {
   "cell_type": "code",
   "execution_count": 2,
   "id": "4ed0e9e1",
   "metadata": {},
   "outputs": [
    {
     "name": "stdout",
     "output_type": "stream",
     "text": [
      "AND Gate Simulation:\n",
      "Input (0, 0): Output = 0\n",
      "Input (0, 1): Output = 0\n",
      "Input (1, 0): Output = 0\n",
      "Input (1, 1): Output = 1\n",
      "This perceptron acts as an AND gate.\n"
     ]
    }
   ],
   "source": [
    "# Perceptron for AND gate simulation\n",
    "\n",
    "def perceptron_and(inputs, weights, bias, threshold=0):\n",
    "    weighted_sum = sum(x*w for x, w in zip(inputs, weights)) + bias\n",
    "    return 1 if weighted_sum >= threshold else 0\n",
    "\n",
    "weights_and = [1, 1]\n",
    "bias_and = -1.5\n",
    "threshold_and = 0\n",
    "\n",
    "inputs_and = [(0,0), (0,1), (1,0), (1,1)]\n",
    "outputs = []\n",
    "print(\"AND Gate Simulation:\")\n",
    "for inputs in inputs_and:\n",
    "    output = perceptron_and(inputs, weights_and, bias_and, threshold_and)\n",
    "    outputs.append(output)\n",
    "    print(f\"Input {inputs}: Output = {output}\")\n",
    "\n",
    "# Verification statement\n",
    "if outputs == [0, 0, 0, 1]:\n",
    "    print(\"This perceptron acts as an AND gate.\")\n",
    "else:\n",
    "    print(\"This perceptron does NOT act as an AND gate.\")"
   ]
  },
  {
   "cell_type": "markdown",
   "id": "6961db2a",
   "metadata": {},
   "source": [
    "## Problem 3: Perceptron Comparison (One vs All)\n",
    "\n",
    "Given 3 perceptrons (A, B, C) with the following configurations:\n",
    "- **Inputs:** [0.5, -1, 2, 1, 0]\n",
    "- **Perceptron A:** Weights = [1.0, -0.5, 0.2, 0.1, 0.0], Bias = 0.2\n",
    "- **Perceptron B:** Weights = [0.2, 0.2, 0.5, -0.4, 0.3], Bias = 0.0\n",
    "- **Perceptron C:** Weights = [-0.3, -0.1, 0.4, 0.0, 0.2], Bias = -0.6\n",
    "\n",
    "Compute the output for each perceptron, decide the predicted class (winner) based on the output, and in case of a tie, select the one with the highest weighted sum."
   ]
  },
  {
   "cell_type": "code",
   "execution_count": 3,
   "id": "fe6c08db",
   "metadata": {},
   "outputs": [
    {
     "name": "stdout",
     "output_type": "stream",
     "text": [
      "Perceptron A: Output = 1, Weighted Sum = 1.70\n",
      "Perceptron B: Output = 1, Weighted Sum = 0.50\n",
      "Perceptron C: Output = 1, Weighted Sum = 0.15\n",
      "Winner for highest weighted sum: Perceptron A\n"
     ]
    }
   ],
   "source": [
    "# Perceptron comparison (One vs All)\n",
    "def perceptron(inputs, weights, bias, threshold=0):\n",
    "    weighted_sum = sum(x*w for x, w in zip(inputs, weights)) + bias\n",
    "    return 1 if weighted_sum >= threshold else 0, weighted_sum\n",
    "\n",
    "inputs = [0.5, -1, 2, 1, 0]\n",
    "\n",
    "# Perceptron configurations\n",
    "weights_A = [1.0, -0.5, 0.2, 0.1, 0.0]\n",
    "bias_A = 0.2\n",
    "weights_B = [0.2, 0.2, 0.5, -0.4, 0.3]\n",
    "bias_B = 0.0\n",
    "weights_C = [-0.3, -0.1, 0.4, 0.0, 0.2]\n",
    "bias_C = -0.6\n",
    "\n",
    "results = {}\n",
    "for name, weights, bias in [\n",
    "    ('A', weights_A, bias_A),\n",
    "    ('B', weights_B, bias_B),\n",
    "    ('C', weights_C, bias_C)\n",
    "]:\n",
    "    output, wsum = perceptron(inputs, weights, bias)\n",
    "    results[name] = {'output': output, 'wsum': wsum}\n",
    "    print(f\"Perceptron {name}: Output = {output}, Weighted Sum = {wsum:.2f}\")\n",
    "\n",
    "# Decide winner\n",
    "outputs = [v['output'] for v in results.values()]\n",
    "if outputs.count(1) == 1:\n",
    "    winner = list(results.keys())[outputs.index(1)]\n",
    "    print(f\"Winner: Perceptron {winner}\")\n",
    "else:\n",
    "    # Tie: pick highest weighted sum\n",
    "    max_wsum = max([v['wsum'] for v in results.values()])\n",
    "    winners = [k for k, v in results.items() if v['wsum'] == max_wsum]\n",
    "    print(f\"Winner for highest weighted sum: Perceptron {winners[0]}\")"
   ]
  }
 ],
 "metadata": {
  "kernelspec": {
   "display_name": "base",
   "language": "python",
   "name": "python3"
  },
  "language_info": {
   "codemirror_mode": {
    "name": "ipython",
    "version": 3
   },
   "file_extension": ".py",
   "mimetype": "text/x-python",
   "name": "python",
   "nbconvert_exporter": "python",
   "pygments_lexer": "ipython3",
   "version": "3.12.4"
  }
 },
 "nbformat": 4,
 "nbformat_minor": 5
}
