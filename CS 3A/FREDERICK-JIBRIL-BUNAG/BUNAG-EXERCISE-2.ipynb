{
 "cells": [
  {
   "cell_type": "markdown",
   "id": "b8812052",
   "metadata": {},
   "source": [
    "### Frederick Jibril Bunag\n",
    "### Janfloyd Vallota\n",
    "### Dense Layer Implementation "
   ]
  },
  {
   "cell_type": "code",
   "execution_count": 1,
   "id": "d18297eb",
   "metadata": {},
   "outputs": [],
   "source": [
    "import numpy as np\n",
    "\n",
    "class Dense_Layer:\n",
    "    def __init__(self, inputs=None, weights=None, bias=None, activation=None):\n",
    "        \"\"\"\n",
    "        Initialize the Dense Layer with optional inputs, weights, bias, and activation.\n",
    "        \"\"\"\n",
    "        self.inputs = np.array(inputs) if inputs is not None else None\n",
    "        self.weights = np.array(weights) if weights is not None else None\n",
    "        self.bias = np.array(bias) if bias is not None else None\n",
    "        self.activation = activation\n",
    "        self.output = None\n",
    "\n",
    "    def set_inputs_and_weights(self, inputs, weights, bias):\n",
    "        \"\"\"\n",
    "        (10 points) Setup/accept the inputs, weights, and bias.\n",
    "        \"\"\"\n",
    "        self.inputs = np.array(inputs)\n",
    "        self.weights = np.array(weights)\n",
    "        self.bias = np.array(bias)\n",
    "\n",
    "    def weighted_sum(self):\n",
    "        \"\"\"\n",
    "        (10 points) Perform the weighted sum + bias.\n",
    "        z = XW + B\n",
    "        \"\"\"\n",
    "        if self.inputs is None or self.weights is None or self.bias is None:\n",
    "            raise ValueError(\"Inputs, weights, or bias not set.\")\n",
    "        return np.dot(self.inputs, self.weights) + self.bias\n",
    "\n",
    "    def activate(self, z):\n",
    "        \"\"\"\n",
    "        (15 points) Perform the selected activation function.\n",
    "        \"\"\"\n",
    "        if self.activation == \"relu\":\n",
    "            return np.maximum(0, z)\n",
    "        elif self.activation == \"sigmoid\":\n",
    "            return 1 / (1 + np.exp(-z))\n",
    "        elif self.activation == \"softmax\":\n",
    "            exp_vals = np.exp(z - np.max(z))  # numerical stability\n",
    "            return exp_vals / np.sum(exp_vals)\n",
    "        else:\n",
    "            return z  # linear (no activation)\n",
    "\n",
    "    def forward(self):\n",
    "        \"\"\"\n",
    "        Runs the forward pass (weighted sum + activation).\n",
    "        \"\"\"\n",
    "        z = self.weighted_sum()\n",
    "        self.output = self.activate(z)\n",
    "        return self.output\n",
    "\n",
    "    def calculate_loss(self, target_output):\n",
    "        \"\"\"\n",
    "        (15 points) Calculate the loss (Mean Squared Error).\n",
    "        \"\"\"\n",
    "        target_output = np.array(target_output)\n",
    "        if self.output is None:\n",
    "            raise ValueError(\"No output available. Run forward() first.\")\n",
    "        loss = np.mean((self.output - target_output) ** 2)\n",
    "        return loss"
   ]
  },
  {
   "cell_type": "markdown",
   "id": "82b9a73b",
   "metadata": {},
   "source": [
    "### IRIS DATASET (BUNAG)"
   ]
  },
  {
   "cell_type": "code",
   "execution_count": 2,
   "id": "5470c4ac",
   "metadata": {},
   "outputs": [
    {
     "name": "stdout",
     "output_type": "stream",
     "text": [
      "Output: [3.93 0.15 0.85]\n",
      "Loss: 3.6659666666666677\n"
     ]
    }
   ],
   "source": [
    "# Example inputs (from Iris dataset problem in the exercise)\n",
    "X = [5.1, 3.5, 1.4, 0.2]\n",
    "W1 = [[0.2, 0.5, -0.3],\n",
    "      [0.1, -0.2, 0.4],\n",
    "      [-0.4, 0.3, 0.2],\n",
    "      [0.6, -0.1, 0.5]]\n",
    "B1 = [3.0, -2.1, 0.6]\n",
    "Target = [0.7, 0.2, 0.1]\n",
    "\n",
    "# Create Dense_Layer with ReLU activation\n",
    "layer1 = Dense_Layer(inputs=X, weights=W1, bias=B1, activation=\"relu\")\n",
    "\n",
    "# Forward pass\n",
    "output1 = layer1.forward()\n",
    "\n",
    "# Calculate loss\n",
    "loss1 = layer1.calculate_loss(Target)\n",
    "\n",
    "print(\"Output:\", output1)\n",
    "print(\"Loss:\", loss1)"
   ]
  },
  {
   "cell_type": "markdown",
   "id": "2ae9124e",
   "metadata": {},
   "source": [
    "### BREAST CANCER (VALLOTA)"
   ]
  },
  {
   "cell_type": "code",
   "execution_count": 3,
   "id": "455ae8df",
   "metadata": {},
   "outputs": [
    {
     "name": "stdout",
     "output_type": "stream",
     "text": [
      "Layer 1 - z1 (weighted sum): [11.3435  3.4755 -0.2905]\n",
      "Layer 1 - Output (ReLU): [11.3435  3.4755  0.    ]\n",
      "Layer 2 - z2 (weighted sum): [ 8.2963  -1.33095]\n",
      "Layer 2 - Output (Sigmoid): [0.99975062 0.20900227]\n",
      "Output Layer - z3 (weighted sum): [0.7953243]\n",
      "Output Layer - Final Output (Sigmoid): [0.68897342]\n",
      "Loss (MSE vs target): 0.09673753542448296\n"
     ]
    }
   ],
   "source": [
    "# Inputs and target from Breast Cancer Dataset example\n",
    "X = [14.1, 20.3, 0.095]\n",
    "Target = [1]\n",
    "\n",
    "# First Hidden Layer (ReLU)\n",
    "W1 = [[0.5, -0.3, 0.8],\n",
    "      [0.2, 0.4, -0.6],\n",
    "      [-0.7, 0.9, 0.1]]\n",
    "B1 = [0.3, -0.5, 0.6]\n",
    "\n",
    "layer1 = Dense_Layer(inputs=X, weights=W1, bias=B1, activation=\"relu\")\n",
    "z1 = layer1.weighted_sum()\n",
    "out1 = layer1.forward()\n",
    "print(\"Layer 1 - z1 (weighted sum):\", z1)\n",
    "print(\"Layer 1 - Output (ReLU):\", out1)\n",
    "\n",
    "# Second Hidden Layer (Sigmoid) -- W2 must be shape 3x2\n",
    "W2 = [[0.6, -0.2],\n",
    "      [0.4, 0.5],\n",
    "      [-0.3, 0.7]]\n",
    "B2 = [0.1, -0.8]\n",
    "\n",
    "layer2 = Dense_Layer(inputs=out1, weights=W2, bias=B2, activation=\"sigmoid\")\n",
    "z2 = layer2.weighted_sum()\n",
    "out2 = layer2.forward()\n",
    "print(\"Layer 2 - z2 (weighted sum):\", z2)\n",
    "print(\"Layer 2 - Output (Sigmoid):\", out2)\n",
    "\n",
    "# Output Layer (Sigmoid) -- W3 must be shape 2x1\n",
    "W3 = [[0.7],\n",
    "      [-0.5]]\n",
    "B3 = [0.2]\n",
    "\n",
    "layer3 = Dense_Layer(inputs=out2, weights=W3, bias=B3, activation=\"sigmoid\")\n",
    "z3 = layer3.weighted_sum()\n",
    "final_output = layer3.forward()\n",
    "loss = layer3.calculate_loss(Target)\n",
    "\n",
    "print(\"Output Layer - z3 (weighted sum):\", z3)\n",
    "print(\"Output Layer - Final Output (Sigmoid):\", final_output)\n",
    "print(\"Loss (MSE vs target):\", loss)\n"
   ]
  }
 ],
 "metadata": {
  "kernelspec": {
   "display_name": "base",
   "language": "python",
   "name": "python3"
  },
  "language_info": {
   "codemirror_mode": {
    "name": "ipython",
    "version": 3
   },
   "file_extension": ".py",
   "mimetype": "text/x-python",
   "name": "python",
   "nbconvert_exporter": "python",
   "pygments_lexer": "ipython3",
   "version": "3.12.4"
  }
 },
 "nbformat": 4,
 "nbformat_minor": 5
}
