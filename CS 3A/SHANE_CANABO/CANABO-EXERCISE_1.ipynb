{
 "cells": [
  {
   "cell_type": "markdown",
   "id": "1652a1d4",
   "metadata": {},
   "source": [
    "**Name:** Shane Canabo  \n",
    "**Subject:** CCS248 - Artificial Neural Network \n",
    "**CYS:** BSCS 3A AI\n",
    "**Date:** August 27, 2025 "
   ]
  },
  {
   "cell_type": "code",
   "execution_count": 7,
   "id": "2cec08ba",
   "metadata": {},
   "outputs": [
    {
     "name": "stdout",
     "output_type": "stream",
     "text": [
      "============================================================\n",
      "PROBLEM 1: Student Pass/Fail Prediction\n",
      "============================================================\n",
      "Weights: w1 = 0.6, w2 = 0.4\n",
      "Bias: -3\n",
      "Step function threshold: 1\n",
      "\n",
      "Test case 1: (x1, x2) = (8, 7)\n",
      "  Weighted sum = 8*0.6 + 7*0.4 + -3 = 4.6\n",
      "  Output = Pass (1)\n",
      "\n",
      "Test case 2: (x1, x2) = (3, 4)\n",
      "  Weighted sum = 3*0.6 + 4*0.4 + -3 = 0.3999999999999999\n",
      "  Output = Fail (0)\n",
      "\n"
     ]
    }
   ],
   "source": [
    "# ============================================================================= \n",
    "# Problem 1: Student Pass/Fail Prediction\n",
    "# =============================================================================\n",
    "\n",
    "print(\"=\"*60)\n",
    "print(\"PROBLEM 1: Student Pass/Fail Prediction\")\n",
    "print(\"=\"*60)\n",
    "\n",
    "def perceptron(x1, x2, w1=0.6, w2=0.4, bias=-3, threshold=1):\n",
    "    s = x1*w1 + x2*w2 + bias\n",
    "    return s, int(s >= threshold)\n",
    "\n",
    "# Parameters\n",
    "w1, w2, bias, threshold = 0.6, 0.4, -3, 1\n",
    "print(f\"Weights: w1 = {w1}, w2 = {w2}\\nBias: {bias}\\nStep function threshold: {threshold}\\n\")\n",
    "\n",
    "# Test cases\n",
    "for i, (x1, x2) in enumerate([(8, 7), (3, 4)], 1):\n",
    "    s, y = perceptron(x1, x2, w1, w2, bias, threshold)\n",
    "    print(f\"Test case {i}: (x1, x2) = ({x1}, {x2})\")\n",
    "    print(f\"  Weighted sum = {x1}*{w1} + {x2}*{w2} + {bias} = {s}\")\n",
    "    print(f\"  Output = {'Pass (1)' if y else 'Fail (0)'}\\n\")\n"
   ]
  },
  {
   "cell_type": "code",
   "execution_count": 8,
   "id": "69a67574",
   "metadata": {},
   "outputs": [
    {
     "name": "stdout",
     "output_type": "stream",
     "text": [
      "============================================================\n",
      "PROBLEM 2: Logic Gate Simulation - AND Gate\n",
      "============================================================\n",
      "Weights: w1 = 1, w2 = 1\n",
      "Bias: -1.5\n",
      "Step function threshold: 0\n",
      "\n",
      "Testing AND Gate:\n",
      "Input | Weighted Sum | Output | Expected\n",
      "----------------------------------------\n",
      "(0,0)  |     -1.5     |   0    |    0     | ✓\n",
      "(0,1)  |     -0.5     |   0    |    0     | ✓\n",
      "(1,0)  |     -0.5     |   0    |    0     | ✓\n",
      "(1,1)  |      0.5     |   1    |    1     | ✓\n",
      "\n",
      "Verification: SUCCESS - Acts as AND gate\n",
      "\n"
     ]
    }
   ],
   "source": [
    "# ============================================================================= \n",
    "# Problem 2: Logic Gate Simulation - AND Gate\n",
    "# =============================================================================\n",
    "\n",
    "print(\"=\"*60)\n",
    "print(\"PROBLEM 2: Logic Gate Simulation - AND Gate\")\n",
    "print(\"=\"*60)\n",
    "\n",
    "def perceptron(x1, x2, w1=1, w2=1, bias=-1.5, threshold=0):\n",
    "    s = x1*w1 + x2*w2 + bias\n",
    "    return s, int(s >= threshold)\n",
    "\n",
    "# Parameters\n",
    "w1, w2, bias, threshold = 1, 1, -1.5, 0\n",
    "print(f\"Weights: w1 = {w1}, w2 = {w2}\\nBias: {bias}\\nStep function threshold: {threshold}\\n\")\n",
    "\n",
    "# Truth table\n",
    "inputs = [(0,0), (0,1), (1,0), (1,1)]\n",
    "expected = [0, 0, 0, 1]\n",
    "\n",
    "print(\"Testing AND Gate:\")\n",
    "print(\"Input | Weighted Sum | Output | Expected\")\n",
    "print(\"-\" * 40)\n",
    "\n",
    "all_correct = True\n",
    "for (x1, x2), exp in zip(inputs, expected):\n",
    "    s, y = perceptron(x1, x2, w1, w2, bias, threshold)\n",
    "    status = \"✓\" if y == exp else \"✗\"\n",
    "    all_correct &= (y == exp)\n",
    "    print(f\"({x1},{x2})  |   {s:6.1f}     |   {y}    |    {exp}     | {status}\")\n",
    "\n",
    "print(f\"\\nVerification: {'SUCCESS - Acts as AND gate' if all_correct else 'FAILED - Does not act as AND gate'}\\n\")\n"
   ]
  },
  {
   "cell_type": "code",
   "execution_count": 10,
   "id": "67cd54d8",
   "metadata": {},
   "outputs": [
    {
     "name": "stdout",
     "output_type": "stream",
     "text": [
      "============================================================\n",
      "PROBLEM 3: Perceptron Comparison - One vs All\n",
      "============================================================\n",
      "Inputs: [0.5, -1, 2, 1, 0]\n",
      "Perceptron A: Weighted Sum = 1.70, Output = 1\n",
      "Perceptron B: Weighted Sum = 0.50, Output = 1\n",
      "Perceptron C: Weighted Sum = 0.15, Output = 1\n",
      "\n",
      "WINNER: Perceptron A (Weighted Sum: 1.70)\n",
      "\n",
      "============================================================\n",
      "EXERCISE COMPLETED\n",
      "============================================================\n"
     ]
    }
   ],
   "source": [
    "# =============================================================================\n",
    "# Problem 3: Perceptron Comparison - One vs All\n",
    "# =============================================================================\n",
    "\n",
    "print(\"=\"*60)\n",
    "print(\"PROBLEM 3: Perceptron Comparison - One vs All\")\n",
    "print(\"=\"*60)\n",
    "\n",
    "inputs = [0.5, -1, 2, 1, 0]\n",
    "print(f\"Inputs: {inputs}\")\n",
    "\n",
    "# Perceptron configurations\n",
    "perceptrons = {\n",
    "    'A': {'weights': [1.0, -0.5, 0.2, 0.1, 0.0], 'bias': 0.2},\n",
    "    'B': {'weights': [0.2, 0.2, 0.5, -0.4, 0.3], 'bias': 0.0},\n",
    "    'C': {'weights': [-0.3, -0.1, 0.4, 0.0, 0.2], 'bias': -0.6}\n",
    "}\n",
    "\n",
    "# Calculate results for all perceptrons\n",
    "results = {}\n",
    "for name, config in perceptrons.items():\n",
    "    # Pure Python dot product\n",
    "    weighted_sum = sum(x*w for x, w in zip(inputs, config['weights'])) + config['bias']\n",
    "    output = 1 if weighted_sum >= 0 else 0\n",
    "    results[name] = {'weighted_sum': weighted_sum, 'output': output}\n",
    "    print(f\"Perceptron {name}: Weighted Sum = {weighted_sum:.2f}, Output = {output}\")\n",
    "\n",
    "# Determine winner\n",
    "active = {name: data for name, data in results.items() if data['output'] == 1}\n",
    "\n",
    "if active:\n",
    "    winner = max(active.items(), key=lambda x: x[1]['weighted_sum'])\n",
    "    print(f\"\\nWINNER: Perceptron {winner[0]} (Weighted Sum: {winner[1]['weighted_sum']:.2f})\")\n",
    "else:\n",
    "    winner = max(results.items(), key=lambda x: x[1]['weighted_sum'])\n",
    "    print(f\"\\nNo perceptron fired. WINNER by highest sum: Perceptron {winner[0]} ({winner[1]['weighted_sum']:.2f})\")\n",
    "\n",
    "print(\"\\n\" + \"=\"*60)\n",
    "print(\"EXERCISE COMPLETED\")\n",
    "print(\"=\"*60)\n"
   ]
  }
 ],
 "metadata": {
  "kernelspec": {
   "display_name": "Python 3",
   "language": "python",
   "name": "python3"
  },
  "language_info": {
   "name": "python",
   "version": "3.13.6"
  }
 },
 "nbformat": 4,
 "nbformat_minor": 5
}
