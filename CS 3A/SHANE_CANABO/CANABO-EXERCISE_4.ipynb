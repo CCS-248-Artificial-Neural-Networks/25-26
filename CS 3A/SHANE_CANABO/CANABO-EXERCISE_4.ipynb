{
 "cells": [
  {
   "cell_type": "markdown",
   "id": "f8ef898c",
   "metadata": {},
   "source": [
    "# Backpropagation Implementation with 1000 Epochs\n",
    "\n",
    "This notebook implements a neural network with:\n",
    "- Forward Pass (FP)\n",
    "- Backpropagation (BP)\n",
    "- Weight Update\n",
    "- Training for 1000 epochs\n",
    "\n",
    "**Required packages:**\n",
    "1. Numpy\n",
    "2. NNFS - for the Spiral dataset\n",
    "3. scikit-learn - for the Iris dataset"
   ]
  },
  {
   "cell_type": "code",
   "execution_count": 16,
   "id": "32c4ca45",
   "metadata": {},
   "outputs": [],
   "source": [
    "# Library imports\n",
    "import numpy as np"
   ]
  },
  {
   "cell_type": "markdown",
   "id": "ce9d90d4",
   "metadata": {},
   "source": [
    "## Layer Class - Dense Layer"
   ]
  },
  {
   "cell_type": "code",
   "execution_count": 17,
   "id": "ff310962",
   "metadata": {},
   "outputs": [],
   "source": [
    "# Hidden Layers\n",
    "# Dense\n",
    "class Layer_Dense:\n",
    "    # Layer initialization\n",
    "    # randomly initialize weights and set biases to zero\n",
    "    def __init__(self, n_inputs, n_neurons):\n",
    "        self.weights = 0.01 * np.random.randn(n_inputs, n_neurons)\n",
    "        self.biases = np.zeros((1, n_neurons))\n",
    "\n",
    "    # Forward pass\n",
    "    def forward(self, inputs):\n",
    "        # Remember the input values\n",
    "        self.inputs = inputs\n",
    "        # Calculate the output values from inputs, weight and biases\n",
    "        self.output = np.dot(inputs, self.weights) + self.biases\n",
    "\n",
    "    # Backward pass/Backpropagation\n",
    "    def backward(self, dvalues):\n",
    "        # Gradients on parameters:\n",
    "        self.dweights = np.dot(self.inputs.T, dvalues)\n",
    "        self.dbiases = np.sum(dvalues, axis=0, keepdims=True)\n",
    "        # Gradient on values\n",
    "        self.dinputs = np.dot(dvalues, self.weights.T)"
   ]
  },
  {
   "cell_type": "markdown",
   "id": "fb02cef3",
   "metadata": {},
   "source": [
    "## Activation Functions"
   ]
  },
  {
   "cell_type": "code",
   "execution_count": 18,
   "id": "816da724",
   "metadata": {},
   "outputs": [],
   "source": [
    "# Activation Functions\n",
    "# Included here are the functions for both the forward and backward pass\n",
    "\n",
    "# ReLU\n",
    "class Activation_ReLU:\n",
    "    # Forward pass\n",
    "    def forward(self, inputs):\n",
    "        # Remember the input values\n",
    "        self.inputs = inputs\n",
    "        # Calculate the output values from inputs\n",
    "        self.output = np.maximum(0, inputs)\n",
    "\n",
    "    # Backward pass\n",
    "    def backward(self, dvalues):\n",
    "        # Make a copy of the original values first\n",
    "        self.dinputs = dvalues.copy()\n",
    "    \n",
    "        # Zero gradient where input values were negative\n",
    "        self.dinputs[self.inputs <= 0] = 0\n",
    "\n",
    "# Softmax\n",
    "class Activation_Softmax:\n",
    "    # Forward pass\n",
    "    def forward(self, inputs):\n",
    "        # Remember the inputs values\n",
    "        self.inputs = inputs\n",
    "\n",
    "        # Get the unnormalized probabilities\n",
    "        exp_values = np.exp(inputs - np.max(inputs, axis=1, keepdims=True))\n",
    "\n",
    "        # Normalize them for each sample\n",
    "        probabilities = exp_values / np.sum(exp_values, axis=1, keepdims=True)\n",
    "\n",
    "        self.output = probabilities\n",
    "\n",
    "    # Backward pass\n",
    "    def backward(self, dvalues):\n",
    "        # Create uninitialized array\n",
    "        self.dinputs = np.empty_like(dvalues)\n",
    "\n",
    "        # Enumerate outputs and gradients\n",
    "        for index, (single_output, single_dvalues) in enumerate(zip(self.output, dvalues)):\n",
    "\n",
    "            # Flatten output array\n",
    "            single_output = single_output.reshape(-1, 1)\n",
    "            # Calculate Jacobian matrix of the output\n",
    "            jacobian_matrix = np.diagflat(single_output) - np.dot(single_output, single_output.T)\n",
    "            # Calculate the sample-wise gradient\n",
    "            # and add it to the array of sample gradients\n",
    "            self.dinputs[index] = np.dot(jacobian_matrix, single_dvalues)"
   ]
  },
  {
   "cell_type": "markdown",
   "id": "dac9f2ce",
   "metadata": {},
   "source": [
    "## Loss Functions"
   ]
  },
  {
   "cell_type": "code",
   "execution_count": 19,
   "id": "b652e5c0",
   "metadata": {},
   "outputs": [],
   "source": [
    "# Loss functions\n",
    "\n",
    "class Loss:\n",
    "    # Calculate the data and regularization losses\n",
    "    # Given the model output and ground truth/target values\n",
    "    def calculate(self, output, y):\n",
    "        # Calculate sample losses\n",
    "        sample_losses = self.forward(output, y)\n",
    "        # Calculate the mean loss\n",
    "        data_loss = np.mean(sample_losses)\n",
    "        # Return the mean loss\n",
    "        return data_loss\n",
    "\n",
    "# Categorical Cross-Entropy\n",
    "class Loss_CategoricalCrossEntropy(Loss):\n",
    "    # Forward pass\n",
    "    def forward(self, y_pred, y_true):\n",
    "        # Number of samples in a batch\n",
    "        samples = y_pred.shape[0]\n",
    "\n",
    "        # Clip data to prevent division by 0\n",
    "        # Clip both sides to not drag mean towards any value\n",
    "        y_pred_clipped = np.clip(y_pred, 1e-7, 1 - 1e-7)\n",
    "\n",
    "        # Probabilities for target values\n",
    "        # Only if categorical labels\n",
    "        if len(y_true.shape) == 1:\n",
    "            correct_confidences = y_pred_clipped[range(samples), y_true]\n",
    "        # Mask values - only for one-hot encoded labels\n",
    "        elif len(y_true.shape) == 2:\n",
    "            correct_confidences = np.sum(y_pred_clipped * y_true, axis=1)\n",
    "\n",
    "        # Losses\n",
    "        negative_log_likelihoods = -np.log(correct_confidences)\n",
    "        return negative_log_likelihoods\n",
    "\n",
    "    # Backward pass\n",
    "    def backward(self, dvalues, y_true):\n",
    "        # Number of samples\n",
    "        samples = len(dvalues)\n",
    "        # Number of labels in every sample\n",
    "        # Use the first sample to count them\n",
    "        labels = len(dvalues[0])\n",
    "\n",
    "        # Check if labels are sparse, turn them into one-hot vector values\n",
    "        # the eye function creates a 2D array with ones on the diagonal and zeros elsewhere\n",
    "        if len(y_true.shape) == 1:\n",
    "            y_true = np.eye(labels)[y_true]\n",
    "\n",
    "        # Calculate the gradient\n",
    "        self.dinputs = -y_true / dvalues\n",
    "        self.dinputs = self.dinputs / samples"
   ]
  },
  {
   "cell_type": "markdown",
   "id": "0f3a2db3",
   "metadata": {},
   "source": [
    "## Optimizer - Stochastic Gradient Descent (SGD)"
   ]
  },
  {
   "cell_type": "code",
   "execution_count": 20,
   "id": "5532dc82",
   "metadata": {},
   "outputs": [],
   "source": [
    "# Optimizer supporting SGD, learning rate decay, momentum, and AdaGrad\n",
    "class Optimizer_SGD:\n",
    "    def __init__(self, learning_rate=1.0, decay=0.0, momentum=0.0, adagrad=False):\n",
    "        self.learning_rate = learning_rate\n",
    "        self.current_learning_rate = learning_rate\n",
    "        self.decay = decay\n",
    "        self.iterations = 0\n",
    "        self.momentum = momentum\n",
    "        self.adagrad = adagrad\n",
    "\n",
    "    def pre_update_params(self):\n",
    "        if self.decay:\n",
    "            self.current_learning_rate = self.learning_rate * (1.0 / (1.0 + self.decay * self.iterations))\n",
    "        else:\n",
    "            self.current_learning_rate = self.learning_rate\n",
    "\n",
    "    def update_params(self, layer):\n",
    "        # Momentum - Formula: θ_new = θ - ((η * ∂E/∂θ) + (γ * Δθ^(t-1)))\n",
    "        if self.momentum:\n",
    "            if not hasattr(layer, 'weight_momentums'):\n",
    "                layer.weight_momentums = np.zeros_like(layer.weights)\n",
    "                layer.bias_momentums = np.zeros_like(layer.biases)\n",
    "            \n",
    "            # Calculate weight updates: (η * ∂E/∂θ) + (γ * Δθ^(t-1))\n",
    "            weight_updates = (self.current_learning_rate * layer.dweights) + (self.momentum * layer.weight_momentums)\n",
    "            bias_updates = (self.current_learning_rate * layer.dbiases) + (self.momentum * layer.bias_momentums)\n",
    "            \n",
    "            # Store the updates for next iteration (Δθ^t)\n",
    "            layer.weight_momentums = weight_updates\n",
    "            layer.bias_momentums = bias_updates\n",
    "            \n",
    "            # Apply updates: θ_new = θ - weight_updates\n",
    "            layer.weights -= weight_updates\n",
    "            layer.biases -= bias_updates\n",
    "        \n",
    "        # AdaGrad\n",
    "        elif self.adagrad:\n",
    "            if not hasattr(layer, 'weight_cache'):\n",
    "                layer.weight_cache = np.zeros_like(layer.weights)\n",
    "                layer.bias_cache = np.zeros_like(layer.biases)\n",
    "            layer.weight_cache += layer.dweights ** 2\n",
    "            layer.bias_cache += layer.dbiases ** 2\n",
    "            layer.weights -= self.current_learning_rate * layer.dweights / (np.sqrt(layer.weight_cache) + 1e-7)\n",
    "            layer.biases -= self.current_learning_rate * layer.dbiases / (np.sqrt(layer.bias_cache) + 1e-7)\n",
    "        \n",
    "        # Standard SGD (no momentum, no adagrad)\n",
    "        else:\n",
    "            layer.weights -= self.current_learning_rate * layer.dweights\n",
    "            layer.biases -= self.current_learning_rate * layer.dbiases\n",
    "\n",
    "    def post_update_params(self):\n",
    "        self.iterations += 1"
   ]
  },
  {
   "cell_type": "markdown",
   "id": "9e58d0fb",
   "metadata": {},
   "source": [
    "## Load Dataset - Spiral Data"
   ]
  },
  {
   "cell_type": "code",
   "execution_count": 21,
   "id": "abf6829e",
   "metadata": {},
   "outputs": [
    {
     "name": "stdout",
     "output_type": "stream",
     "text": [
      "X shape: (300, 2)\n",
      "y shape: (300,)\n",
      "First 5 samples of X:\n",
      "[[-0.          0.        ]\n",
      " [ 0.00084068  0.01006597]\n",
      " [ 0.00737675  0.01880705]\n",
      " [ 0.00038365  0.0303006 ]\n",
      " [ 0.01393366  0.03792545]]\n",
      "First 5 labels: [0 0 0 0 0]\n"
     ]
    }
   ],
   "source": [
    "# Spiral Data\n",
    "import nnfs\n",
    "from nnfs.datasets import spiral_data\n",
    "\n",
    "# Create the dataset\n",
    "X, y = spiral_data(samples=100, classes=3)\n",
    "\n",
    "print(f\"X shape: {X.shape}\")\n",
    "print(f\"y shape: {y.shape}\")\n",
    "print(f\"First 5 samples of X:\\n{X[:5]}\")\n",
    "print(f\"First 5 labels: {y[:5]}\")"
   ]
  },
  {
   "cell_type": "markdown",
   "id": "ed4d3e31",
   "metadata": {},
   "source": [
    "## Neural Network Initialization"
   ]
  },
  {
   "cell_type": "code",
   "execution_count": 22,
   "id": "3a0ca592",
   "metadata": {},
   "outputs": [
    {
     "name": "stdout",
     "output_type": "stream",
     "text": [
      "Neural Network initialized successfully!\n"
     ]
    }
   ],
   "source": [
    "# Neural Network initialization\n",
    "# Create a Dense Layer with 2 input features and 3 output values\n",
    "dense1 = Layer_Dense(2, 3)\n",
    "\n",
    "# Create a ReLU activation for the first Dense layer\n",
    "activation1 = Activation_ReLU()\n",
    "\n",
    "# Create a 2nd dense layer with 3 input and 3 output values\n",
    "dense2 = Layer_Dense(3, 3)\n",
    "\n",
    "# Create a Softmax activation for the 2nd Dense layer\n",
    "activation2 = Activation_Softmax()\n",
    "\n",
    "# Create a loss function\n",
    "loss_function = Loss_CategoricalCrossEntropy()\n",
    "\n",
    "# Create the optimizer with a learning rate\n",
    "optimizer = Optimizer_SGD(learning_rate=1.0)\n",
    "\n",
    "print(\"Neural Network initialized successfully!\")"
   ]
  },
  {
   "cell_type": "markdown",
   "id": "44ca82a0",
   "metadata": {},
   "source": [
    "## Training Loop - 1000 Epochs\n",
    "\n",
    "This cell performs:\n",
    "1. **Forward Pass (FP)**: Data flows through the network\n",
    "2. **Backpropagation (BP)**: Gradients are calculated backward\n",
    "3. **Weight Update**: Optimizer updates weights and biases\n",
    "\n",
    "The process repeats for 1000 epochs."
   ]
  },
  {
   "cell_type": "code",
   "execution_count": 23,
   "id": "85ce3523",
   "metadata": {},
   "outputs": [
    {
     "name": "stdout",
     "output_type": "stream",
     "text": [
      "Epoch    0 | Loss: 1.0986 | Accuracy: 0.3333 | LR: 1.000000\n",
      "Epoch  100 | Loss: 1.0951 | Accuracy: 0.4000 | LR: 1.000000\n",
      "Epoch  100 | Loss: 1.0951 | Accuracy: 0.4000 | LR: 1.000000\n",
      "Epoch  200 | Loss: 1.0730 | Accuracy: 0.4333 | LR: 1.000000\n",
      "Epoch  200 | Loss: 1.0730 | Accuracy: 0.4333 | LR: 1.000000\n",
      "Epoch  300 | Loss: 1.0697 | Accuracy: 0.4233 | LR: 1.000000\n",
      "Epoch  300 | Loss: 1.0697 | Accuracy: 0.4233 | LR: 1.000000\n",
      "Epoch  400 | Loss: 1.0695 | Accuracy: 0.4300 | LR: 1.000000\n",
      "Epoch  400 | Loss: 1.0695 | Accuracy: 0.4300 | LR: 1.000000\n",
      "Epoch  500 | Loss: 1.0694 | Accuracy: 0.4333 | LR: 1.000000\n",
      "Epoch  500 | Loss: 1.0694 | Accuracy: 0.4333 | LR: 1.000000\n",
      "Epoch  600 | Loss: 1.0694 | Accuracy: 0.4333 | LR: 1.000000\n",
      "Epoch  600 | Loss: 1.0694 | Accuracy: 0.4333 | LR: 1.000000\n",
      "Epoch  700 | Loss: 1.0694 | Accuracy: 0.4333 | LR: 1.000000\n",
      "Epoch  700 | Loss: 1.0694 | Accuracy: 0.4333 | LR: 1.000000\n",
      "Epoch  800 | Loss: 1.0693 | Accuracy: 0.4333 | LR: 1.000000\n",
      "Epoch  800 | Loss: 1.0693 | Accuracy: 0.4333 | LR: 1.000000\n",
      "Epoch  900 | Loss: 1.0693 | Accuracy: 0.4367 | LR: 1.000000\n",
      "Epoch  900 | Loss: 1.0693 | Accuracy: 0.4367 | LR: 1.000000\n",
      "\n",
      "==================================================\n",
      "Training Complete!\n",
      "Final Epoch: 999\n",
      "Final Loss: 1.0692\n",
      "Final Accuracy: 0.4367\n",
      "Final Learning Rate: 1.000000\n",
      "==================================================\n",
      "\n",
      "==================================================\n",
      "Training Complete!\n",
      "Final Epoch: 999\n",
      "Final Loss: 1.0692\n",
      "Final Accuracy: 0.4367\n",
      "Final Learning Rate: 1.000000\n",
      "==================================================\n"
     ]
    }
   ],
   "source": [
    "# Training loop for 1000 epochs\n",
    "epochs = 1000\n",
    "\n",
    "for epoch in range(epochs):\n",
    "    # ===== PRE-UPDATE: LEARNING RATE DECAY =====\n",
    "    # This must happen BEFORE Forward Pass and Backpropagation\n",
    "    optimizer.pre_update_params()\n",
    "    \n",
    "    # ===== FORWARD PASS =====\n",
    "    # Layer 1: Dense + ReLU\n",
    "    dense1.forward(X)\n",
    "    activation1.forward(dense1.output)\n",
    "    \n",
    "    # Layer 2: Dense + Softmax\n",
    "    dense2.forward(activation1.output)\n",
    "    activation2.forward(dense2.output)\n",
    "    \n",
    "    # Calculate loss\n",
    "    loss = loss_function.calculate(activation2.output, y)\n",
    "    \n",
    "    # Calculate accuracy\n",
    "    predictions = np.argmax(activation2.output, axis=1)\n",
    "    if len(y.shape) == 2:\n",
    "        y_labels = np.argmax(y, axis=1)\n",
    "    else:\n",
    "        y_labels = y\n",
    "    accuracy = np.mean(predictions == y_labels)\n",
    "    \n",
    "    # ===== BACKWARD PASS (BACKPROPAGATION) =====\n",
    "    # Backward through loss\n",
    "    loss_function.backward(activation2.output, y)\n",
    "    \n",
    "    # Backward through layer 2\n",
    "    activation2.backward(loss_function.dinputs)\n",
    "    dense2.backward(activation2.dinputs)\n",
    "    \n",
    "    # Backward through layer 1\n",
    "    activation1.backward(dense2.dinputs)\n",
    "    dense1.backward(activation1.dinputs)\n",
    "    \n",
    "    # ===== WEIGHT UPDATE (Momentum/AdaGrad/Vanilla SGD) =====\n",
    "    # This happens AFTER learning rate decay\n",
    "    optimizer.update_params(dense1)\n",
    "    optimizer.update_params(dense2)\n",
    "    optimizer.post_update_params()\n",
    "    \n",
    "    # Display progress every 100 epochs\n",
    "    if epoch % 100 == 0:\n",
    "        print(f\"Epoch {epoch:4d} | Loss: {loss:.4f} | Accuracy: {accuracy:.4f} | LR: {optimizer.current_learning_rate:.6f}\")\n",
    "\n",
    "# Final results\n",
    "print(f\"\\n{'='*50}\")\n",
    "print(f\"Training Complete!\")\n",
    "print(f\"Final Epoch: {epoch}\")\n",
    "print(f\"Final Loss: {loss:.4f}\")\n",
    "print(f\"Final Accuracy: {accuracy:.4f}\")\n",
    "print(f\"Final Learning Rate: {optimizer.current_learning_rate:.6f}\")\n",
    "print(f\"{'='*50}\")"
   ]
  },
  {
   "cell_type": "markdown",
   "id": "6d7f019c",
   "metadata": {},
   "source": [
    "## Summary\n",
    "\n",
    "The neural network has been trained for 1000 epochs using:\n",
    "- **Architecture**: 2 inputs → 3 neurons (ReLU) → 3 neurons (Softmax)\n",
    "- **Loss Function**: Categorical Cross-Entropy\n",
    "- **Optimizer**: Stochastic Gradient Descent (SGD)\n",
    "- **Dataset**: Spiral data (300 samples, 3 classes)\n",
    "\n",
    "Each epoch performs:\n",
    "1. Forward propagation through all layers\n",
    "2. Loss calculation\n",
    "3. Backward propagation (computing gradients)\n",
    "4. Weight and bias updates using SGD"
   ]
  },
  {
   "cell_type": "markdown",
   "id": "749fb66e",
   "metadata": {},
   "source": [
    "## Optimizer Comparison\n",
    "\n",
    "Now let's compare different optimizers to see:\n",
    "- **How many epochs it takes to stabilize the loss**\n",
    "- **The final accuracy achieved**\n",
    "\n",
    "We'll test:\n",
    "1. **Vanilla SGD** (no momentum, no decay)\n",
    "2. **SGD with Momentum** (γ = 0.9)\n",
    "3. **SGD with Learning Rate Decay** (decay = 0.001)\n",
    "4. **SGD with AdaGrad**"
   ]
  },
  {
   "cell_type": "code",
   "execution_count": 24,
   "id": "fe4dfbde",
   "metadata": {},
   "outputs": [
    {
     "name": "stdout",
     "output_type": "stream",
     "text": [
      "Training function defined successfully!\n"
     ]
    }
   ],
   "source": [
    "# Function to train and track optimizer performance\n",
    "def train_model(optimizer_config, epochs=1000):\n",
    "    \"\"\"\n",
    "    Train the model with a specific optimizer configuration\n",
    "    Returns: loss_history, accuracy_history, final_loss, final_accuracy, epochs_to_stabilize\n",
    "    \"\"\"\n",
    "    # Reinitialize the network\n",
    "    dense1 = Layer_Dense(2, 3)\n",
    "    activation1 = Activation_ReLU()\n",
    "    dense2 = Layer_Dense(3, 3)\n",
    "    activation2 = Activation_Softmax()\n",
    "    loss_function = Loss_CategoricalCrossEntropy()\n",
    "    \n",
    "    # Create optimizer with the given config\n",
    "    optimizer = Optimizer_SGD(**optimizer_config)\n",
    "    \n",
    "    loss_history = []\n",
    "    accuracy_history = []\n",
    "    \n",
    "    for epoch in range(epochs):\n",
    "        # Pre-update: Learning rate decay\n",
    "        optimizer.pre_update_params()\n",
    "        \n",
    "        # Forward pass\n",
    "        dense1.forward(X)\n",
    "        activation1.forward(dense1.output)\n",
    "        dense2.forward(activation1.output)\n",
    "        activation2.forward(dense2.output)\n",
    "        \n",
    "        # Calculate loss\n",
    "        loss = loss_function.calculate(activation2.output, y)\n",
    "        \n",
    "        # Calculate accuracy\n",
    "        predictions = np.argmax(activation2.output, axis=1)\n",
    "        if len(y.shape) == 2:\n",
    "            y_labels = np.argmax(y, axis=1)\n",
    "        else:\n",
    "            y_labels = y\n",
    "        accuracy = np.mean(predictions == y_labels)\n",
    "        \n",
    "        # Store history\n",
    "        loss_history.append(loss)\n",
    "        accuracy_history.append(accuracy)\n",
    "        \n",
    "        # Backward pass\n",
    "        loss_function.backward(activation2.output, y)\n",
    "        activation2.backward(loss_function.dinputs)\n",
    "        dense2.backward(activation2.dinputs)\n",
    "        activation1.backward(dense2.dinputs)\n",
    "        dense1.backward(activation1.dinputs)\n",
    "        \n",
    "        # Weight update\n",
    "        optimizer.update_params(dense1)\n",
    "        optimizer.update_params(dense2)\n",
    "        optimizer.post_update_params()\n",
    "    \n",
    "    # Find when loss stabilized (change < 0.001 for 50 consecutive epochs)\n",
    "    epochs_to_stabilize = epochs\n",
    "    for i in range(50, epochs):\n",
    "        recent_losses = loss_history[i-50:i]\n",
    "        if max(recent_losses) - min(recent_losses) < 0.001:\n",
    "            epochs_to_stabilize = i - 50\n",
    "            break\n",
    "    \n",
    "    return loss_history, accuracy_history, loss_history[-1], accuracy_history[-1], epochs_to_stabilize\n",
    "\n",
    "print(\"Training function defined successfully!\")"
   ]
  },
  {
   "cell_type": "markdown",
   "id": "caf944f0",
   "metadata": {},
   "source": [
    "### Test 1: Vanilla SGD (Baseline)"
   ]
  },
  {
   "cell_type": "code",
   "execution_count": 25,
   "id": "0e7a28e9",
   "metadata": {},
   "outputs": [
    {
     "name": "stdout",
     "output_type": "stream",
     "text": [
      "Training with Vanilla SGD...\n",
      "\n",
      "============================================================\n",
      "VANILLA SGD RESULTS:\n",
      "============================================================\n",
      "Final Loss:              1.0698\n",
      "Final Accuracy:          0.4233\n",
      "Epochs to Stabilize:     0\n",
      "============================================================\n",
      "\n",
      "\n",
      "============================================================\n",
      "VANILLA SGD RESULTS:\n",
      "============================================================\n",
      "Final Loss:              1.0698\n",
      "Final Accuracy:          0.4233\n",
      "Epochs to Stabilize:     0\n",
      "============================================================\n",
      "\n"
     ]
    }
   ],
   "source": [
    "print(\"Training with Vanilla SGD...\")\n",
    "config_vanilla = {'learning_rate': 1.0, 'decay': 0.0, 'momentum': 0.0, 'adagrad': False}\n",
    "loss_vanilla, acc_vanilla, final_loss_vanilla, final_acc_vanilla, stabilize_vanilla = train_model(config_vanilla)\n",
    "\n",
    "print(f\"\\n{'='*60}\")\n",
    "print(f\"VANILLA SGD RESULTS:\")\n",
    "print(f\"{'='*60}\")\n",
    "print(f\"Final Loss:              {final_loss_vanilla:.4f}\")\n",
    "print(f\"Final Accuracy:          {final_acc_vanilla:.4f}\")\n",
    "print(f\"Epochs to Stabilize:     {stabilize_vanilla}\")\n",
    "print(f\"{'='*60}\\n\")"
   ]
  },
  {
   "cell_type": "markdown",
   "id": "3f7ac854",
   "metadata": {},
   "source": [
    "### Test 2: SGD with Momentum (γ = 0.9)"
   ]
  },
  {
   "cell_type": "code",
   "execution_count": 26,
   "id": "22c55f51",
   "metadata": {},
   "outputs": [
    {
     "name": "stdout",
     "output_type": "stream",
     "text": [
      "Training with SGD + Momentum...\n",
      "\n",
      "============================================================\n",
      "SGD WITH MOMENTUM RESULTS:\n",
      "============================================================\n",
      "Final Loss:              1.0677\n",
      "Final Accuracy:          0.4433\n",
      "Epochs to Stabilize:     115\n",
      "============================================================\n",
      "\n",
      "\n",
      "============================================================\n",
      "SGD WITH MOMENTUM RESULTS:\n",
      "============================================================\n",
      "Final Loss:              1.0677\n",
      "Final Accuracy:          0.4433\n",
      "Epochs to Stabilize:     115\n",
      "============================================================\n",
      "\n"
     ]
    }
   ],
   "source": [
    "print(\"Training with SGD + Momentum...\")\n",
    "config_momentum = {'learning_rate': 1.0, 'decay': 0.0, 'momentum': 0.9, 'adagrad': False}\n",
    "loss_momentum, acc_momentum, final_loss_momentum, final_acc_momentum, stabilize_momentum = train_model(config_momentum)\n",
    "\n",
    "print(f\"\\n{'='*60}\")\n",
    "print(f\"SGD WITH MOMENTUM RESULTS:\")\n",
    "print(f\"{'='*60}\")\n",
    "print(f\"Final Loss:              {final_loss_momentum:.4f}\")\n",
    "print(f\"Final Accuracy:          {final_acc_momentum:.4f}\")\n",
    "print(f\"Epochs to Stabilize:     {stabilize_momentum}\")\n",
    "print(f\"{'='*60}\\n\")"
   ]
  },
  {
   "cell_type": "markdown",
   "id": "c1b95ef3",
   "metadata": {},
   "source": [
    "### Test 3: SGD with Learning Rate Decay"
   ]
  },
  {
   "cell_type": "code",
   "execution_count": 27,
   "id": "5e860508",
   "metadata": {},
   "outputs": [
    {
     "name": "stdout",
     "output_type": "stream",
     "text": [
      "Training with SGD + Learning Rate Decay...\n",
      "\n",
      "============================================================\n",
      "SGD WITH LEARNING RATE DECAY RESULTS:\n",
      "============================================================\n",
      "Final Loss:              1.0640\n",
      "Final Accuracy:          0.4367\n",
      "Epochs to Stabilize:     0\n",
      "============================================================\n",
      "\n",
      "\n",
      "============================================================\n",
      "SGD WITH LEARNING RATE DECAY RESULTS:\n",
      "============================================================\n",
      "Final Loss:              1.0640\n",
      "Final Accuracy:          0.4367\n",
      "Epochs to Stabilize:     0\n",
      "============================================================\n",
      "\n"
     ]
    }
   ],
   "source": [
    "print(\"Training with SGD + Learning Rate Decay...\")\n",
    "config_decay = {'learning_rate': 1.0, 'decay': 0.001, 'momentum': 0.0, 'adagrad': False}\n",
    "loss_decay, acc_decay, final_loss_decay, final_acc_decay, stabilize_decay = train_model(config_decay)\n",
    "\n",
    "print(f\"\\n{'='*60}\")\n",
    "print(f\"SGD WITH LEARNING RATE DECAY RESULTS:\")\n",
    "print(f\"{'='*60}\")\n",
    "print(f\"Final Loss:              {final_loss_decay:.4f}\")\n",
    "print(f\"Final Accuracy:          {final_acc_decay:.4f}\")\n",
    "print(f\"Epochs to Stabilize:     {stabilize_decay}\")\n",
    "print(f\"{'='*60}\\n\")"
   ]
  },
  {
   "cell_type": "markdown",
   "id": "09510caa",
   "metadata": {},
   "source": [
    "### Test 4: SGD with AdaGrad"
   ]
  },
  {
   "cell_type": "code",
   "execution_count": 28,
   "id": "bbb77c6b",
   "metadata": {},
   "outputs": [
    {
     "name": "stdout",
     "output_type": "stream",
     "text": [
      "Training with SGD + AdaGrad...\n",
      "\n",
      "============================================================\n",
      "SGD WITH ADAGRAD RESULTS:\n",
      "============================================================\n",
      "Final Loss:              1.0761\n",
      "Final Accuracy:          0.4000\n",
      "Epochs to Stabilize:     34\n",
      "============================================================\n",
      "\n",
      "\n",
      "============================================================\n",
      "SGD WITH ADAGRAD RESULTS:\n",
      "============================================================\n",
      "Final Loss:              1.0761\n",
      "Final Accuracy:          0.4000\n",
      "Epochs to Stabilize:     34\n",
      "============================================================\n",
      "\n"
     ]
    }
   ],
   "source": [
    "print(\"Training with SGD + AdaGrad...\")\n",
    "config_adagrad = {'learning_rate': 1.0, 'decay': 0.0, 'momentum': 0.0, 'adagrad': True}\n",
    "loss_adagrad, acc_adagrad, final_loss_adagrad, final_acc_adagrad, stabilize_adagrad = train_model(config_adagrad)\n",
    "\n",
    "print(f\"\\n{'='*60}\")\n",
    "print(f\"SGD WITH ADAGRAD RESULTS:\")\n",
    "print(f\"{'='*60}\")\n",
    "print(f\"Final Loss:              {final_loss_adagrad:.4f}\")\n",
    "print(f\"Final Accuracy:          {final_acc_adagrad:.4f}\")\n",
    "print(f\"Epochs to Stabilize:     {stabilize_adagrad}\")\n",
    "print(f\"{'='*60}\\n\")"
   ]
  },
  {
   "cell_type": "markdown",
   "id": "75e62a57",
   "metadata": {},
   "source": [
    "### Comparison Summary"
   ]
  },
  {
   "cell_type": "code",
   "execution_count": 31,
   "id": "196c39ea",
   "metadata": {},
   "outputs": [
    {
     "name": "stdout",
     "output_type": "stream",
     "text": [
      "\n",
      "================================================================================\n",
      "OPTIMIZER COMPARISON TABLE (Decay, Momentum, AdaGrad)\n",
      "================================================================================\n",
      "     Optimizer  Final Loss  Final Accuracy  Epochs to Stabilize\n",
      "SGD + Momentum    1.067652        0.443333                  115\n",
      "SGD + LR Decay    1.064041        0.436667                    0\n",
      " SGD + AdaGrad    1.076147        0.400000                   34\n",
      "================================================================================\n",
      "\n",
      " BEST ACCURACY: SGD + Momentum with 0.4433\n",
      " FASTEST TO STABILIZE: SGD + LR Decay at epoch 0\n",
      "================================================================================\n",
      "\n"
     ]
    }
   ],
   "source": [
    "# Create comparison table for only Decay, Momentum, AdaGrad\n",
    "import pandas as pd\n",
    "\n",
    "comparison_data = {\n",
    "    'Optimizer': ['SGD + Momentum', 'SGD + LR Decay', 'SGD + AdaGrad'],\n",
    "    'Final Loss': [final_loss_momentum, final_loss_decay, final_loss_adagrad],\n",
    "    'Final Accuracy': [final_acc_momentum, final_acc_decay, final_acc_adagrad],\n",
    "    'Epochs to Stabilize': [stabilize_momentum, stabilize_decay, stabilize_adagrad]\n",
    "}\n",
    "\n",
    "df_comparison = pd.DataFrame(comparison_data)\n",
    "\n",
    "print(\"\\n\" + \"=\"*80)\n",
    "print(\"OPTIMIZER COMPARISON TABLE (Decay, Momentum, AdaGrad)\")\n",
    "print(\"=\"*80)\n",
    "print(df_comparison.to_string(index=False))\n",
    "print(\"=\"*80)\n",
    "\n",
    "# Find best optimizer\n",
    "best_acc_idx = df_comparison['Final Accuracy'].idxmax()\n",
    "fastest_stabilize_idx = df_comparison['Epochs to Stabilize'].idxmin()\n",
    "\n",
    "print(f\"\\n BEST ACCURACY: {df_comparison.loc[best_acc_idx, 'Optimizer']} with {df_comparison.loc[best_acc_idx, 'Final Accuracy']:.4f}\")\n",
    "print(f\" FASTEST TO STABILIZE: {df_comparison.loc[fastest_stabilize_idx, 'Optimizer']} at epoch {df_comparison.loc[fastest_stabilize_idx, 'Epochs to Stabilize']}\")\n",
    "print(\"=\"*80 + \"\\n\")"
   ]
  },
  {
   "cell_type": "markdown",
   "id": "357a075d",
   "metadata": {},
   "source": [
    "### Visual Comparison - Loss Curves"
   ]
  },
  {
   "cell_type": "code",
   "execution_count": 30,
   "id": "8b949ef7",
   "metadata": {},
   "outputs": [
    {
     "data": {
      "image/png": "[encoded data removed]",
      "text/plain": [
       "<Figure size 1400x500 with 2 Axes>"
      ]
     },
     "metadata": {},
     "output_type": "display_data"
    }
   ],
   "source": [
    "import matplotlib.pyplot as plt\n",
    "\n",
    "# Plot loss curves\n",
    "plt.figure(figsize=(14, 5))\n",
    "\n",
    "plt.subplot(1, 2, 1)\n",
    "plt.plot(loss_vanilla, label='Vanilla SGD', linewidth=2)\n",
    "plt.plot(loss_momentum, label='SGD + Momentum', linewidth=2)\n",
    "plt.plot(loss_decay, label='SGD + LR Decay', linewidth=2)\n",
    "plt.plot(loss_adagrad, label='SGD + AdaGrad', linewidth=2)\n",
    "plt.xlabel('Epoch')\n",
    "plt.ylabel('Loss')\n",
    "plt.title('Loss Comparison Across Optimizers')\n",
    "plt.legend()\n",
    "plt.grid(True, alpha=0.3)\n",
    "\n",
    "# Plot accuracy curves\n",
    "plt.subplot(1, 2, 2)\n",
    "plt.plot(acc_vanilla, label='Vanilla SGD', linewidth=2)\n",
    "plt.plot(acc_momentum, label='SGD + Momentum', linewidth=2)\n",
    "plt.plot(acc_decay, label='SGD + LR Decay', linewidth=2)\n",
    "plt.plot(acc_adagrad, label='SGD + AdaGrad', linewidth=2)\n",
    "plt.xlabel('Epoch')\n",
    "plt.ylabel('Accuracy')\n",
    "plt.title('Accuracy Comparison Across Optimizers')\n",
    "plt.legend()\n",
    "plt.grid(True, alpha=0.3)\n",
    "\n",
    "plt.tight_layout()\n",
    "plt.show()"
   ]
  },
  {
   "cell_type": "markdown",
   "id": "38d4d2a7",
   "metadata": {},
   "source": [
    "### Analysis and Conclusions\n",
    "\n",
    "**Key Observations:**\n",
    "\n",
    "1. **Vanilla SGD (Baseline)**\n",
    "   - Standard gradient descent without any enhancements\n",
    "   - Provides a baseline for comparison\n",
    "\n",
    "2. **SGD with Momentum (γ = 0.9)**\n",
    "   - Uses momentum to accelerate convergence\n",
    "   - Helps overcome local minima and plateaus\n",
    "   - Formula: θ_new = θ - ((η * ∂E/∂θ) + (γ * Δθ^(t-1)))\n",
    "\n",
    "3. **SGD with Learning Rate Decay**\n",
    "   - Gradually reduces learning rate over time\n",
    "   - Helps fine-tune weights in later epochs\n",
    "   - Can lead to better convergence\n",
    "\n",
    "4. **SGD with AdaGrad**\n",
    "   - Adapts learning rate for each parameter\n",
    "   - Useful for sparse data\n",
    "   - Learning rate decreases more for frequently updated parameters\n"
   ]
  }
 ],
 "metadata": {
  "kernelspec": {
   "display_name": "Python 3",
   "language": "python",
   "name": "python3"
  },
  "language_info": {
   "codemirror_mode": {
    "name": "ipython",
    "version": 3
   },
   "file_extension": ".py",
   "mimetype": "text/x-python",
   "name": "python",
   "nbconvert_exporter": "python",
   "pygments_lexer": "ipython3",
   "version": "3.13.6"
  }
 },
 "nbformat": 4,
 "nbformat_minor": 5
}
