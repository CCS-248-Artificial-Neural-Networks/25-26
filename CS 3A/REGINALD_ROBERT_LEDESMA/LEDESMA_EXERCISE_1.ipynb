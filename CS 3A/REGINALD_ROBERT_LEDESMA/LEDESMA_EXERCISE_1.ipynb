{
 "cells": [
  {
   "cell_type": "code",
   "execution_count": 98,
   "id": "59c9c312",
   "metadata": {},
   "outputs": [],
   "source": [
    "# Reusable Functions\n",
    "def calculate_weighted_sum(weights, inputs, bias):\n",
    "    return sum (w * i for w, i in zip(weights, inputs)) + bias\n",
    "\n",
    "def activator(threshold, weighted_sum):\n",
    "    return threshold > weighted_sum\n"
   ]
  },
  {
   "cell_type": "code",
   "execution_count": 99,
   "id": "1a4e9c28",
   "metadata": {},
   "outputs": [
    {
     "name": "stdout",
     "output_type": "stream",
     "text": [
      "4.60 > 1 Passed\n",
      "0.40 <= 1 Failed\n"
     ]
    }
   ],
   "source": [
    "# 1.\t(20 points) Determine whether the student passes (1) or fails (0) based on:\n",
    "# a.\tHours studied\n",
    "# b.\tHours of sleep\n",
    "# c.\tHours of free time\n",
    "# Given weights w1 = 0.6, w2, 0.4, bias = -3\n",
    "# Step function with a threshold of 1 \n",
    "\n",
    "# Predict the output of the following inputs:\n",
    "# 1.\t(x1, x2) = (8, 7)\n",
    "# 2.\t(x1, x2) = (3, 4)\n",
    "\n",
    "weights = [0.6, 0.4]\n",
    "inputs = [\n",
    "    [8, 7],\n",
    "    [3, 4]\n",
    "]\n",
    "bias = -3\n",
    "step_function = 1\n",
    "\n",
    "def print_result(student, threshold):\n",
    "    if activator(student, threshold):\n",
    "        print(f\"{student:.2f} > {threshold} Passed\")\n",
    "    else:\n",
    "        print(f\"{student:.2f} <= {threshold} Failed\")\n",
    "\n",
    "for inp in inputs:\n",
    "    result = calculate_weighted_sum(weights, inp, bias)\n",
    "    print_result(result, step_function)\n"
   ]
  },
  {
   "cell_type": "code",
   "execution_count": 100,
   "id": "38397c5f",
   "metadata": {},
   "outputs": [
    {
     "name": "stdout",
     "output_type": "stream",
     "text": [
      "-1.50 <= 0 NOT AND GATE\n",
      "-0.50 <= 0 NOT AND GATE\n",
      "-0.50 <= 0 NOT AND GATE\n",
      "0.50 > 0 AND GATE\n"
     ]
    }
   ],
   "source": [
    "# 2.\t(20 points) Logic Gate Simulation. Given the following setup for a perceptron, compute its output and verify whether it acts as an AND gate.\n",
    "# Given weights w1 = 1, w2 = 1, bias = -1.5\n",
    "# Step function with a threshold of 0\n",
    "\n",
    "\n",
    "weights = [1, 1]\n",
    "bias = -1.5\n",
    "step_function = 0\n",
    "\n",
    "inputs = [\n",
    "    [0, 0],\n",
    "    [0, 1],\n",
    "    [1, 0],\n",
    "    [1, 1]\n",
    "]\n",
    "\n",
    "def print_result(result, threshold):\n",
    "    if activator(result, threshold):\n",
    "        print(f\"{result:.2f} > {threshold} AND GATE\")\n",
    "    else:\n",
    "        print(f\"{result:.2f} <= {threshold} NOT AND GATE\")\n",
    "\n",
    "for inp in inputs:\n",
    "    result = calculate_weighted_sum(weights, inp, bias)\n",
    "    print_result(result, step_function)"
   ]
  },
  {
   "cell_type": "code",
   "execution_count": null,
   "id": "a2b4cfa2",
   "metadata": {},
   "outputs": [
    {
     "name": "stdout",
     "output_type": "stream",
     "text": [
      "Class A: 1.70 > 1.0 WINNER\n",
      "Class B: 0.50 <= 1.0 LOSER\n",
      "Class C: 0.15 <= 1.0 LOSER\n"
     ]
    }
   ],
   "source": [
    "# 3.\t(60 points) Perceptron comparison (One vs All). Given the 3 perceptron, using the same input, compute the output and decided on the predicted class is the WINNER. If a tie is present, compare and get the highest weighted sum. \n",
    "\n",
    "\n",
    "# Inputs = [0.5, -1, 2, 1, 0]\n",
    "# Perceptron A Configuration:\n",
    "# •\tWeights: WA = [1.0, -0.5, 0.2, 0.1, 0.0]\n",
    "# •\tBiasA: 0.2\n",
    "# Perceptron B\n",
    "# •\tWeights: WB = [0.2, 0.2, 0.5, -0.4, 0.3]\n",
    "# •\tBiasB: 0.0\n",
    "# Perceptron C\n",
    "# •\tWeights: WC = [-0.3, -0.1, 0.4, 0.0, 0.2]\n",
    "# •\tBiasC: -0.6\n",
    "\n",
    "\n",
    "weights = [\n",
    "    [1.0, -0.5, 0.2, 0.1, 0.0],\n",
    "    [0.2,  0.2, 0.5, -0.4, 0.3],\n",
    "    [-0.3, -0.1, 0.4, 0.0, 0.2],\n",
    "]\n",
    "\n",
    "biases = [0.2, 0.0, -0.6]\n",
    "labels = [\"A\", \"B\", \"C\"]\n",
    "\n",
    "inputs = [0.5, -1, 2, 1, 0]\n",
    "step_function = 1.0\n",
    "\n",
    "\n",
    "def print_result(label, result, threshold):\n",
    "    if activator(result, threshold):\n",
    "        print(f\"Class {label}: {result:.2f} > {threshold} WINNER\")\n",
    "    else:\n",
    "        print(f\"Class {label}: {result:.2f} <= {threshold} LOSER\")\n",
    "\n",
    "for label, w, b in zip(labels, weights, biases):\n",
    "    result = calculate_weighted_sum(w, inputs, b)\n",
    "    print_result(label, result, step_function)\n"
   ]
  }
 ],
 "metadata": {
  "kernelspec": {
   "display_name": ".venv",
   "language": "python",
   "name": "python3"
  },
  "language_info": {
   "codemirror_mode": {
    "name": "ipython",
    "version": 3
   },
   "file_extension": ".py",
   "mimetype": "text/x-python",
   "name": "python",
   "nbconvert_exporter": "python",
   "pygments_lexer": "ipython3",
   "version": "3.11.0rc1"
  }
 },
 "nbformat": 4,
 "nbformat_minor": 5
}
