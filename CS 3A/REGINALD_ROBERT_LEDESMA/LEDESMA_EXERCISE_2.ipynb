{
 "cells": [
  {
   "cell_type": "code",
   "execution_count": 16,
   "id": "1d71153d",
   "metadata": {},
   "outputs": [],
   "source": [
    "import numpy as np\n",
    "import neural_network_helper as fn"
   ]
  },
  {
   "cell_type": "code",
   "execution_count": 17,
   "id": "261ce829",
   "metadata": {},
   "outputs": [],
   "source": [
    "class Dense_Layer:\n",
    "    def __init__(self, weights, bias, activation = None):\n",
    "        self.W = np.array(weights)\n",
    "        self.b = np.array(bias)\n",
    "        self.activation = activation\n",
    "\n",
    "    def forward(self, inputs):\n",
    "        self.inputs = np.array(inputs)\n",
    "        z = np.dot(self.inputs, self.W) + self.b\n",
    "        \n",
    "        activations = {\n",
    "            \"relu\": fn.relu,\n",
    "            \"sigmoid\": fn.sigmoid,\n",
    "            \"softmax\": fn.softmax\n",
    "        }\n",
    "\n",
    "        return activations.get(self.activation, lambda x: x) (z)\n",
    "            \n"
   ]
  },
  {
   "cell_type": "code",
   "execution_count": 18,
   "id": "2197f7c5",
   "metadata": {},
   "outputs": [
    {
     "name": "stdout",
     "output_type": "stream",
     "text": [
      "Hidden Layer 1 (ReLU output): [3.93 0.15 0.85]\n",
      "Hidden Layer 2 (Sigmoid output): [0.99378157 0.99187781]\n",
      "Iris Prediction (Softmax probabilities): [0.0265075  0.96865119 0.00484132]\n",
      "Iris Loss: 3.63032769439225\n",
      "Predicted Class: Iris-versicolor\n"
     ]
    }
   ],
   "source": [
    "#iris\n",
    "#input\n",
    "X = [5.1, 3.5, 1.4, 0.2]\n",
    "y_true = [1, 0, 0]\n",
    "\n",
    "#first hidden layer relu\n",
    "W1 = [\n",
    "    [0.2, 0.5, -0.3],\n",
    "    [0.1, -0.2, 0.4],\n",
    "    [-0.4, 0.3, 0.2],\n",
    "    [0.6, -0.1, 0.5]\n",
    "]\n",
    "B1 = [3.0, -2.1, 0.6]\n",
    "layer_one = Dense_Layer(W1, B1, activation = \"relu\")\n",
    "A1 = layer_one.forward(X)\n",
    "\n",
    "#second hidden layer sigmoid\n",
    "W2 = [\n",
    "    [0.3, -0.5],\n",
    "    [0.7, 0.2],\n",
    "    [-0.6, 0.4]\n",
    "]\n",
    "B2 = [4.3, 6.4]\n",
    "layer_two = Dense_Layer(W2, B2, activation = \"sigmoid\")\n",
    "A2 = layer_two.forward(A1)\n",
    "\n",
    "# output layer softmax\n",
    "W3 = [\n",
    "    [0.5, -0.3, 0.8],\n",
    "    [-0.2, 0.6, -0.4]\n",
    "]\n",
    "B3 = [-1.5, 2.1, -3.3]\n",
    "output_layer = Dense_Layer(W3, B3, activation = \"softmax\")\n",
    "y_pred = output_layer.forward(A2)\n",
    "\n",
    "#loss\n",
    "loss = fn.cross_entropy(np.array(y_true), y_pred)\n",
    "\n",
    "classes = [\"Iris-setosa\", \"Iris-versicolor\", \"Iris-virginica\"]\n",
    "pred_index = int(np.argmax(y_pred))\n",
    "pred_class = classes[pred_index]\n",
    "\n",
    "print(\"Hidden Layer 1 (ReLU output):\", A1)\n",
    "print(\"Hidden Layer 2 (Sigmoid output):\", A2)\n",
    "print(\"Iris Prediction (Softmax probabilities):\", y_pred)\n",
    "print(\"Iris Loss:\", loss)\n",
    "print(\"Predicted Class:\", pred_class)\n"
   ]
  },
  {
   "cell_type": "code",
   "execution_count": 19,
   "id": "2366dac6",
   "metadata": {},
   "outputs": [
    {
     "name": "stdout",
     "output_type": "stream",
     "text": [
      "Hidden Layer 1 (ReLU output): [11.3435  3.4755  0.    ]\n",
      "Hidden Layer 2 (Sigmoid output): [0.99799679 0.07832686]\n",
      "Final Prediction (Sigmoid output): [0.70254245]\n",
      "Predicted Class: Benign\n",
      "Binary Cross-Entropy Loss: [0.35304945]\n"
     ]
    }
   ],
   "source": [
    "#breast cancer\n",
    "X2 = [14.1, 20.3, 0.095]\n",
    "y_true2 = 1 \n",
    "\n",
    "#first hidden layer\n",
    "W1_b = [\n",
    "    [0.5, -0.3, 0.8],\n",
    "    [0.2,  0.4, -0.6],\n",
    "    [-0.7, 0.9, 0.1]\n",
    "] \n",
    "B1_b = [0.3, -0.5, 0.6]\n",
    "layer1_b = Dense_Layer(W1_b, B1_b, activation=\"relu\")\n",
    "A1_b = layer1_b.forward(X2)\n",
    "\n",
    "#second hidden layer\n",
    "W2_b = [\n",
    "    [0.6, -0.2, 0.4],\n",
    "    [-0.3, 0.5, 0.7]\n",
    "]\n",
    "W2_b = np.array(W2_b).T\n",
    "B2_b = [0.1, -0.8] \n",
    "layer2_b = Dense_Layer(W2_b, B2_b, activation=\"sigmoid\")\n",
    "A2_b = layer2_b.forward(A1_b)\n",
    "\n",
    "#output layer\n",
    "W3_b = [[0.7], [-0.5]]\n",
    "B3_b = [0.2]\n",
    "output_layer_b = Dense_Layer(W3_b, B3_b, activation=\"sigmoid\")\n",
    "y_pred2 = output_layer_b.forward(A2_b)\n",
    "\n",
    "#loss\n",
    "loss2 = fn.binary_cross_entropy(y_true2, y_pred2)\n",
    "\n",
    "pred_class2 = \"Malignant\" if y_pred2 >= 1 else \"Benign\"\n",
    "\n",
    "print(\"Hidden Layer 1 (ReLU output):\", A1_b)\n",
    "print(\"Hidden Layer 2 (Sigmoid output):\", A2_b)\n",
    "print(\"Final Prediction (Sigmoid output):\", y_pred2)\n",
    "print(\"Predicted Class:\", pred_class2)\n",
    "print(\"Binary Cross-Entropy Loss:\", loss2)"
   ]
  }
 ],
 "metadata": {
  "kernelspec": {
   "display_name": ".venv",
   "language": "python",
   "name": "python3"
  },
  "language_info": {
   "codemirror_mode": {
    "name": "ipython",
    "version": 3
   },
   "file_extension": ".py",
   "mimetype": "text/x-python",
   "name": "python",
   "nbconvert_exporter": "python",
   "pygments_lexer": "ipython3",
   "version": "3.11.0rc1"
  }
 },
 "nbformat": 4,
 "nbformat_minor": 5
}
