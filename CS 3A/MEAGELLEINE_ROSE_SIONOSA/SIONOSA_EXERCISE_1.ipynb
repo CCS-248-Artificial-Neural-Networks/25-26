{
 "cells": [
  {
   "cell_type": "markdown",
   "id": "466d3517",
   "metadata": {},
   "source": [
    "# Perceptron: Student Pass/Fail Prediction\n",
    "\n",
    "Given:\n",
    "- Inputs: Hours studied (x1), Hours of sleep (x2), Hours of free time (x3)\n",
    "- Weights: w1 = 0.6, w2 = 0.4\n",
    "- Bias: -3\n",
    "- Step function threshold: 1\n",
    "\n",
    "Predict output (pass = 1, fail = 0) for:\n",
    "1. (x1, x2) = (8, 7)\n",
    "2. (x1, x2) = (3, 4)"
   ]
  },
  {
   "cell_type": "code",
   "execution_count": 4,
   "id": "acfe0d04",
   "metadata": {},
   "outputs": [
    {
     "name": "stdout",
     "output_type": "stream",
     "text": [
      "Test 1: Input=(8, 7) => Output=1 (Pass)\n",
      "Test 2: Input=(3, 4) => Output=0 (Fail)\n"
     ]
    }
   ],
   "source": [
    "# Perceptron implementation for pass/fail prediction\n",
    "def perceptron(x1, x2, w1=0.6, w2=0.4, bias=-3, threshold=1):\n",
    "    # Weighted sum\n",
    "    total = w1 * x1 + w2 * x2 + bias\n",
    "    # Step function with threshold 1\n",
    "    return 1 if total >= threshold else 0\n",
    "\n",
    "# Test cases\n",
    "inputs = [(8, 7), (3, 4)]\n",
    "outputs = [perceptron(x1, x2) for x1, x2 in inputs]\n",
    "\n",
    "# Output meaning\n",
    "output_meaning = {1: 'Pass', 0: 'Fail'}\n",
    "\n",
    "for i, (inp, out) in enumerate(zip(inputs, outputs), 1):\n",
    "    print(f\"Test {i}: Input={inp} => Output={out} ({output_meaning[out]})\")"
   ]
  },
  {
   "cell_type": "markdown",
   "id": "bf90a8c8",
   "metadata": {},
   "source": [
    "## Logic Gate Simulation: AND Gate with Perceptron\n",
    "\n",
    "Given:\n",
    "- Weights: w1 = 1, w2 = 1\n",
    "- Bias: -1.5\n",
    "- Step function threshold: 0\n",
    "\n",
    "Inputs to test:\n",
    "- (0, 0)\n",
    "- (0, 1)\n",
    "- (1, 0)\n",
    "- (1, 1)\n",
    "\n",
    "Compute the output and verify if the perceptron acts as an AND gate."
   ]
  },
  {
   "cell_type": "code",
   "execution_count": null,
   "id": "56e75f31",
   "metadata": {},
   "outputs": [
    {
     "name": "stdout",
     "output_type": "stream",
     "text": [
      "AND Gate Simulation Results:\n",
      "Input=(0, 0) => Output=0\n",
      "Input=(0, 1) => Output=0\n",
      "Input=(1, 0) => Output=0\n",
      "Input=(1, 1) => Output=1\n",
      "\n",
      "Matches AND gate: True\n"
     ]
    }
   ],
   "source": [
    "# Perceptron as AND gate simulation\n",
    "def perceptron_and(x1, x2, w1=1, w2=1, bias=-1.5, threshold=0):\n",
    "    total = w1 * x1 + w2 * x2 + bias\n",
    "    return 1 if total >= threshold else 0\n",
    "\n",
    "inputs = [(0, 0), (0, 1), (1, 0), (1, 1)]\n",
    "outputs = [perceptron_and(x1, x2) for x1, x2 in inputs]\n",
    "\n",
    "print(\"AND Gate Simulation Results:\")\n",
    "for inp, out in zip(inputs, outputs):\n",
    "    print(f\"Input={inp} => Output={out}\")\n",
    "\n",
    "# Check if it matches AND gate truth table\n",
    "and_truth = [int(x1 and x2) for x1, x2 in inputs]\n",
    "print(\"\\nMatches AND gate:\", outputs == and_truth)"
   ]
  },
  {
   "cell_type": "markdown",
   "id": "557609d0",
   "metadata": {},
   "source": [
    "## Perceptron Comparison (One vs All)\n",
    "\n",
    "Given:\n",
    "- Inputs: [0.5, -1, 2, 1, 0]\n",
    "\n",
    "Perceptron A:\n",
    "- Weights: [1.0, -0.5, 0.2, 0.1, 0.0]\n",
    "- Bias: 0.2\n",
    "\n",
    "Perceptron B:\n",
    "- Weights: [0.2, 0.2, 0.5, -0.4, 0.3]\n",
    "- Bias: 0.0\n",
    "\n",
    "Perceptron C:\n",
    "- Weights: [-0.3, -0.1, 0.4, 0.0, 0.2]\n",
    "- Bias: -0.6\n",
    "\n",
    "Compute the output for each perceptron and decide the predicted class (WINNER). If there is a tie, select the class with the highest weighted sum."
   ]
  },
  {
   "cell_type": "code",
   "execution_count": 8,
   "id": "5b029e91",
   "metadata": {},
   "outputs": [
    {
     "name": "stdout",
     "output_type": "stream",
     "text": [
      "Perceptron Results:\n",
      "Perceptron A: Output=1, Weighted Sum=1.70\n",
      "Perceptron B: Output=1, Weighted Sum=0.50\n",
      "Perceptron C: Output=1, Weighted Sum=0.15\n",
      "\n",
      "Tie detected. \n",
      "WINNER: Perceptron A (highest weighted sum)\n"
     ]
    }
   ],
   "source": [
    "# Perceptron comparison (One vs All)\n",
    "import numpy as np\n",
    "\n",
    "inputs = np.array([0.5, -1, 2, 1, 0])\n",
    "\n",
    "# Perceptron configurations\n",
    "WA = np.array([1.0, -0.5, 0.2, 0.1, 0.0])\n",
    "BiasA = 0.2\n",
    "WB = np.array([0.2, 0.2, 0.5, -0.4, 0.3])\n",
    "BiasB = 0.0\n",
    "WC = np.array([-0.3, -0.1, 0.4, 0.0, 0.2])\n",
    "BiasC = -0.6\n",
    "\n",
    "def perceptron_output(weights, bias, x):\n",
    "    total = np.dot(weights, x) + bias\n",
    "    output = 1 if total >= 0 else 0\n",
    "    return output, total\n",
    "\n",
    "# Compute outputs and weighted sums\n",
    "results = {}\n",
    "for name, weights, bias in [('A', WA, BiasA), ('B', WB, BiasB), ('C', WC, BiasC)]:\n",
    "    output, total = perceptron_output(weights, bias, inputs)\n",
    "    results[name] = {'output': output, 'sum': total}\n",
    "\n",
    "print(\"Perceptron Results:\")\n",
    "for name in results:\n",
    "    print(f\"Perceptron {name}: Output={results[name]['output']}, Weighted Sum={results[name]['sum']:.2f}\")\n",
    "\n",
    "# Find winne\n",
    "outputs = [results[n]['output'] for n in results]\n",
    "max_output = max(outputs)\n",
    "winners = [n for n in results if results[n]['output'] == max_output]\n",
    "\n",
    "if len(winners) == 1:\n",
    "    print(f\"\\nPredicted class (WINNER): Perceptron {winners[0]}\")\n",
    "else:\n",
    "    # Tie: select highest weighted sum\n",
    "    max_sum = max([results[n]['sum'] for n in winners])\n",
    "    final_winner = [n for n in winners if results[n]['sum'] == max_sum][0]\n",
    "    print(f\"\\nTie detected. \\nWINNER: Perceptron {final_winner} (highest weighted sum)\")"
   ]
  }
 ],
 "metadata": {
  "kernelspec": {
   "display_name": "base",
   "language": "python",
   "name": "python3"
  },
  "language_info": {
   "codemirror_mode": {
    "name": "ipython",
    "version": 3
   },
   "file_extension": ".py",
   "mimetype": "text/x-python",
   "name": "python",
   "nbconvert_exporter": "python",
   "pygments_lexer": "ipython3",
   "version": "3.12.4"
  }
 },
 "nbformat": 4,
 "nbformat_minor": 5
}
