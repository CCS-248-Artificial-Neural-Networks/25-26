{
 "cells": [
  {
   "cell_type": "code",
   "execution_count": 11,
   "id": "ba9fa498",
   "metadata": {},
   "outputs": [],
   "source": [
    "def perceptron(inputs, weights, bias, threshold):\n",
    "    \n",
    "    weighted_sum = sum(x*w for x, w in zip(inputs, weights)) + bias\n",
    "    output = 1 if weighted_sum > threshold else 0\n",
    "    return weighted_sum, output\n"
   ]
  },
  {
   "cell_type": "code",
   "execution_count": 16,
   "id": "3f301fd4",
   "metadata": {},
   "outputs": [
    {
     "name": "stdout",
     "output_type": "stream",
     "text": [
      "Q1: Determine whether the student passes (1) or fails (0)\n",
      "Inputs (8, 7) -> Weighted Sum: 4.60, Output: 1 (The Student Passed)\n",
      "Inputs (3, 4) -> Weighted Sum: 0.40, Output: 0 (The student Failed)\n"
     ]
    }
   ],
   "source": [
    "print(\"Q1: Determine whether the student passes (1) or fails (0)\")\n",
    "\n",
    "weights = [0.6, 0.4]\n",
    "bias = -3\n",
    "threshold = 1\n",
    "\n",
    "test_inputs = [(8, 7), (3, 4)]\n",
    "\n",
    "for inp in test_inputs:\n",
    "    ws, out = perceptron(inp, weights, bias, threshold)\n",
    "    result = \"The Student Passed\" if out == 1 else \"The student Failed\"\n",
    "    print(f\"Inputs {inp} -> Weighted Sum: {ws:.2f}, Output: {out} ({result})\")"
   ]
  },
  {
   "cell_type": "code",
   "execution_count": null,
   "id": "cb1df665",
   "metadata": {},
   "outputs": [
    {
     "name": "stdout",
     "output_type": "stream",
     "text": [
      "\n",
      "Q2: Logic Gate Simulation AND GATE\n",
      "Inputs (0, 0) -> Weighted Sum: -1.50, Output: 0 ( )\n",
      "Inputs (0, 1) -> Weighted Sum: -0.50, Output: 0 ( )\n",
      "Inputs (1, 0) -> Weighted Sum: -0.50, Output: 0 ( )\n",
      "Inputs (1, 1) -> Weighted Sum: 0.50, Output: 1 (It acts as an AND Gate)\n"
     ]
    }
   ],
   "source": [
    "print(\"Q2: Logic Gate Simulation AND GATE\")\n",
    "\n",
    "weights = [1, 1]\n",
    "bias = -1.5\n",
    "threshold = 0\n",
    "\n",
    "inputs_list = [(0,0), (0,1), (1,0), (1,1)]\n",
    "\n",
    "for inp in inputs_list:\n",
    "    ws, out = perceptron(inp, weights, bias, threshold)\n",
    "    result = \"It acts as an AND Gate\" if out == 1 else \" \"\n",
    "    print(f\"Inputs {inp} -> Weighted Sum: {ws:.2f}, Output: {out} ({result})\")"
   ]
  },
  {
   "cell_type": "code",
   "execution_count": null,
   "id": "72394633",
   "metadata": {},
   "outputs": [
    {
     "name": "stdout",
     "output_type": "stream",
     "text": [
      "Q3: Perceptron Comparison (One-vs-All)\n",
      "Perceptron A: Weighted Sum = 1.70, Output = 1\n",
      "Perceptron B: Weighted Sum = 0.50, Output = 1\n",
      "Perceptron C: Weighted Sum = 0.15, Output = 1\n",
      "Predicted Class (Winner): A\n"
     ]
    }
   ],
   "source": [
    "print(\"Q3: Perceptron Comparison (One-vs-All)\")\n",
    "\n",
    "inputs = [0.5, -1, 2, 1, 0]\n",
    "\n",
    "configs = {\n",
    "    \"A\": {\"weights\": [1.0, -0.5, 0.2, 0.1, 0.0], \"bias\": 0.2},\n",
    "    \"B\": {\"weights\": [0.2, 0.2, 0.5, -0.4, 0.3], \"bias\": 0.0},\n",
    "    \"C\": {\"weights\": [-0.3, -0.1, 0.4, 0.0, 0.2], \"bias\": -0.6},\n",
    "}\n",
    "threshold = 0  \n",
    "\n",
    "results = {}\n",
    "for name, cfg in configs.items():\n",
    "    ws, out = perceptron(inputs, cfg[\"weights\"], cfg[\"bias\"], threshold)\n",
    "    results[name] = ws if out == 1 else None\n",
    "    print(f\"Perceptron {name}: Weighted Sum = {ws:.2f}, Output = {out}\")\n",
    "\n",
    "active = {k: v for k, v in results.items() if v is not None}\n",
    "\n",
    "winner = max(active, key=active.get) if active else \"None\"\n",
    "print(f\"Predicted Class (Winner): {winner}\")\n"
   ]
  }
 ],
 "metadata": {
  "kernelspec": {
   "display_name": "Python 3",
   "language": "python",
   "name": "python3"
  },
  "language_info": {
   "codemirror_mode": {
    "name": "ipython",
    "version": 3
   },
   "file_extension": ".py",
   "mimetype": "text/x-python",
   "name": "python",
   "nbconvert_exporter": "python",
   "pygments_lexer": "ipython3",
   "version": "3.12.1"
  }
 },
 "nbformat": 4,
 "nbformat_minor": 5
}
