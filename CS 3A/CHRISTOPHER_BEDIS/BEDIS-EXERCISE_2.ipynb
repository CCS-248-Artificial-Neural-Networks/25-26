{
 "cells": [
  {
   "cell_type": "code",
   "execution_count": null,
   "id": "f394a89f",
   "metadata": {},
   "outputs": [],
   "source": [
    "import numpy as np\n",
    "\n",
    "class Dense_Layer:\n",
    "    def __init__(self, weights, bias, activation='relu'):\n",
    "        self.weights = np.array(weights, dtype=float)\n",
    "        self.bias = np.array(bias, dtype=float)\n",
    "        self.activation = activation.lower()\n",
    "        self.last_input = None\n",
    "        self.last_output = None\n",
    "\n",
    "    def forward(self, inputs):\n",
    "        self.last_input = np.array(inputs, dtype=float)\n",
    "        z = np.dot(self.weights, self.last_input) + self.bias  \n",
    "        self.last_output = self.activation_function(z)\n",
    "        return self.last_output\n",
    "\n",
    "    def activation_function(self, x):\n",
    "        if self.activation == 'relu':\n",
    "            return np.maximum(0, x)\n",
    "        elif self.activation == 'sigmoid':\n",
    "            return 1 / (1 + np.exp(-x))\n",
    "        elif self.activation == 'softmax':\n",
    "            e_x = np.exp(x - np.max(x))\n",
    "            return e_x / e_x.sum()\n",
    "        else:\n",
    "            raise ValueError(f\"Unsupported activation {self.activation}\")\n",
    "\n",
    "    def compute_loss(self, target, loss_type='mse'):\n",
    "        y_true = np.array(target, dtype=float)\n",
    "        y_pred = self.last_output\n",
    "\n",
    "        if loss_type == 'mse':\n",
    "            return np.mean((y_true - y_pred) ** 2)\n",
    "        elif loss_type == 'crossentropy':\n",
    "            eps = 1e-9\n",
    "            return -np.sum(y_true * np.log(y_pred + eps))\n",
    "        else:\n",
    "            raise ValueError(f\"Unsupported loss {loss_type}\")\n"
   ]
  },
  {
   "cell_type": "code",
   "execution_count": 6,
   "id": "eb269d93",
   "metadata": {},
   "outputs": [],
   "source": [
    "X = [5.1, 3.5, 1.4, 0.2]\n",
    "target_output = [0.7, 0.2, 0.1]\n",
    "\n",
    "W1 = [\n",
    "    [0.2, 0.1, -0.4, 0.6],\n",
    "    [0.5, -0.2, 0.3, -0.1],\n",
    "    [-0.3, 0.4, 0.2, 0.5]\n",
    "]\n",
    "B1 = [3.0, -2.1, 0.6]    \n",
    "W2 = [\n",
    "    [0.3, 0.7, -0.6],\n",
    "    [-0.5, 0.2, 0.4]\n",
    "]\n",
    "B2 = [4.3, 6.4]          \n",
    "W3 = [\n",
    "    [0.5, 0.2],\n",
    "    [-0.3, 0.6],\n",
    "    [0.8, -0.4]\n",
    "]\n",
    "B3 = [-1.5, 2.1, -3.3]  \n"
   ]
  },
  {
   "cell_type": "code",
   "execution_count": 8,
   "id": "ede5da1f",
   "metadata": {},
   "outputs": [
    {
     "name": "stdout",
     "output_type": "stream",
     "text": [
      "Final Output Probabilities:\n",
      "  Iris-setosa: 0.038914\n",
      "  Iris-versicolor: 0.956306\n",
      "  Iris-virginica: 0.004780\n",
      "\n",
      "Predicted Class (highest probability): Iris-versicolor\n",
      "Loss: 2.8157567461372666\n"
     ]
    }
   ],
   "source": [
    "layer1 = Dense_Layer(W1, B1, activation='relu')\n",
    "out1 = layer1.forward(X)\n",
    "\n",
    "layer2 = Dense_Layer(W2, B2, activation='sigmoid')\n",
    "out2 = layer2.forward(out1)\n",
    "\n",
    "layer3 = Dense_Layer(W3, B3, activation='softmax')\n",
    "out3 = layer3.forward(out2)\n",
    "\n",
    "classes = [\"Iris-setosa\", \"Iris-versicolor\", \"Iris-virginica\"]\n",
    "pred_idx = np.argmax(out3)\n",
    "predicted_class = classes[pred_idx]\n",
    "\n",
    "print(\"Final Output Probabilities:\")\n",
    "for cls, prob in zip(classes, out3):\n",
    "    print(f\"  {cls}: {prob:.6f}\")\n",
    "\n",
    "print(f\"\\nPredicted Class (highest probability): {predicted_class}\")\n",
    "\n",
    "loss = layer3.compute_loss(target_output, loss_type='crossentropy')\n",
    "print(\"Loss:\", loss)"
   ]
  }
 ],
 "metadata": {
  "kernelspec": {
   "display_name": "base",
   "language": "python",
   "name": "python3"
  },
  "language_info": {
   "codemirror_mode": {
    "name": "ipython",
    "version": 3
   },
   "file_extension": ".py",
   "mimetype": "text/x-python",
   "name": "python",
   "nbconvert_exporter": "python",
   "pygments_lexer": "ipython3",
   "version": "3.12.4"
  }
 },
 "nbformat": 4,
 "nbformat_minor": 5
}
