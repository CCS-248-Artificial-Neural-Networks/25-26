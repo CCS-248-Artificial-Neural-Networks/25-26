{
 "cells": [
  {
   "cell_type": "markdown",
   "id": "31de09d7",
   "metadata": {},
   "source": [
    "Steven Ken E. Pontillas "
   ]
  },
  {
   "cell_type": "markdown",
   "id": "3a7ded19",
   "metadata": {},
   "source": [
    "Unit 1 Exercise"
   ]
  },
  {
   "cell_type": "code",
   "execution_count": 28,
   "id": "5b43b512",
   "metadata": {},
   "outputs": [
    {
     "name": "stdout",
     "output_type": "stream",
     "text": [
      "Problem 1: Student Pass/Fail\n",
      "  Inputs: [8, 7]\n",
      "  Weighted Sum: 4.6\n",
      "  Predicted output: 1 -> Passed\n",
      "------------------------------\n",
      "  Inputs: [3, 4]\n",
      "  Weighted Sum: 0.4\n",
      "  Predicted output: 0 -> Failed\n",
      "\n",
      "\n"
     ]
    }
   ],
   "source": [
    "print(\"Problem 1: Student Pass/Fail\")\n",
    "weights_1 = [0.6, 0.4]\n",
    "bias_1 = -3\n",
    "threshold_1 = 1\n",
    "\n",
    "def perceptron_output_1(inputs, weights, bias, threshold):\n",
    "    weighted_sum = sum(x * w for x, w in zip(inputs, weights)) + bias\n",
    "    print(f\"  Inputs: {inputs}\")\n",
    "    print(f\"  Weighted Sum: {weighted_sum:.1f}\")\n",
    "    if weighted_sum >= threshold:\n",
    "        output = 1\n",
    "        result_text = \"Passed\"\n",
    "    else:\n",
    "        output = 0\n",
    "        result_text = \"Failed\"\n",
    "    return output, result_text\n",
    "\n",
    "# Test Case 1\n",
    "inputs_1a = [8, 7]\n",
    "output_1a, result_text_1a = perceptron_output_1(inputs_1a, weights_1, bias_1, threshold_1)\n",
    "print(f\"  Predicted output: {output_1a} -> {result_text_1a}\")\n",
    "print(\"-\" * 30)\n",
    "\n",
    "# Test Case 2\n",
    "inputs_1b = [3, 4]\n",
    "output_1b, result_text_1b = perceptron_output_1(inputs_1b, weights_1, bias_1, threshold_1)\n",
    "print(f\"  Predicted output: {output_1b} -> {result_text_1b}\")\n",
    "print(\"\\n\")"
   ]
  },
  {
   "cell_type": "code",
   "execution_count": 29,
   "id": "15afb345",
   "metadata": {},
   "outputs": [
    {
     "name": "stdout",
     "output_type": "stream",
     "text": [
      "Problem 2: Logic Gate Simulation (AND Gate)\n",
      "Input\tOutput\n",
      "------\t------\n",
      "[0, 0]\t0\n",
      "[0, 1]\t0\n",
      "[1, 0]\t0\n",
      "[1, 1]\t1\n",
      "\n",
      "Since the output is 1 only when both inputs are 1, this perceptron acts as an AND gate.\n"
     ]
    }
   ],
   "source": [
    "print(\"Problem 2: Logic Gate Simulation (AND Gate)\")\n",
    "\n",
    "weights_2 = [1, 1]\n",
    "bias_2 = -1.5\n",
    "threshold_2 = 0\n",
    "\n",
    "def perceptron_output_2(inputs, weights, bias, threshold):\n",
    "    weighted_sum = sum(x * w for x, w in zip(inputs, weights)) + bias\n",
    "    if weighted_sum >= threshold:\n",
    "        return 1\n",
    "    else:\n",
    "        return 0\n",
    "\n",
    "inputs_2 = [[0, 0], [0, 1], [1, 0], [1, 1]]\n",
    "\n",
    "print(\"Input\\tOutput\")\n",
    "print(\"------\\t------\")\n",
    "for inp in inputs_2:\n",
    "    output_2 = perceptron_output_2(inp, weights_2, bias_2, threshold_2)\n",
    "    print(f\"{inp}\\t{output_2}\")\n",
    "\n",
    "print(\"\\nSince the output is 1 only when both inputs are 1, this perceptron acts as an AND gate.\")"
   ]
  },
  {
   "cell_type": "code",
   "execution_count": 31,
   "id": "b0101d25",
   "metadata": {},
   "outputs": [
    {
     "name": "stdout",
     "output_type": "stream",
     "text": [
      "Problem 3: Perceptron Comparison (One vs All)\n",
      "  Perceptron A Weighted Sum: 1.70\n",
      "  Perceptron A Output: 1\n",
      "  Perceptron B Weighted Sum: 0.50\n",
      "  Perceptron B Output: 0\n",
      "  Perceptron C Weighted Sum: 0.15\n",
      "  Perceptron C Output: 0\n",
      "\n",
      "  The winner is Perceptron A because it has an output of 1 and has the highest weighted sum.\n"
     ]
    }
   ],
   "source": [
    "print(\"Problem 3: Perceptron Comparison (One vs All)\")\n",
    "inputs_3 = [0.5, -1, 2, 1, 0]\n",
    "\n",
    "threshold = 1\n",
    "\n",
    "def get_perceptron_results(inputs, weights, bias, threshold):\n",
    "    weighted_sum = sum(x * w for x, w in zip(inputs, weights)) + bias\n",
    "    output = 1 if weighted_sum >= threshold else 0\n",
    "    return weighted_sum, output\n",
    "\n",
    "# Perceptron A\n",
    "weights_A = [1.0, -0.5, 0.2, 0.1, 0.0]\n",
    "bias_A = 0.2\n",
    "weighted_sum_A, output_A = get_perceptron_results(inputs_3, weights_A, bias_A, threshold)\n",
    "print(f\"  Perceptron A Weighted Sum: {weighted_sum_A:.2f}\")\n",
    "print(f\"  Perceptron A Output: {output_A}\")\n",
    "\n",
    "# Perceptron B\n",
    "weights_B = [0.2, 0.2, 0.5, -0.4, 0.3]\n",
    "bias_B = 0.0\n",
    "weighted_sum_B, output_B = get_perceptron_results(inputs_3, weights_B, bias_B, threshold)\n",
    "print(f\"  Perceptron B Weighted Sum: {weighted_sum_B:.2f}\")\n",
    "print(f\"  Perceptron B Output: {output_B}\")\n",
    "\n",
    "# Perceptron C\n",
    "weights_C = [-0.3, -0.1, 0.4, 0.0, 0.2]\n",
    "bias_C = -0.6\n",
    "weighted_sum_C, output_C = get_perceptron_results(inputs_3, weights_C, bias_C, threshold)\n",
    "print(f\"  Perceptron C Weighted Sum: {weighted_sum_C:.2f}\")\n",
    "print(f\"  Perceptron C Output: {output_C}\")\n",
    "\n",
    "print(f\"\\n  The winner is Perceptron A because it has an output of 1 and has the highest weighted sum.\")"
   ]
  }
 ],
 "metadata": {
  "kernelspec": {
   "display_name": "base",
   "language": "python",
   "name": "python3"
  },
  "language_info": {
   "codemirror_mode": {
    "name": "ipython",
    "version": 3
   },
   "file_extension": ".py",
   "mimetype": "text/x-python",
   "name": "python",
   "nbconvert_exporter": "python",
   "pygments_lexer": "ipython3",
   "version": "3.12.4"
  }
 },
 "nbformat": 4,
 "nbformat_minor": 5
}
