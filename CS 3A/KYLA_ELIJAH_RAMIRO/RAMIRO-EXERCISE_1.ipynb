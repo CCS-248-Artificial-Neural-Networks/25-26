{
 "cells": [
  {
   "cell_type": "markdown",
   "id": "564945b8",
   "metadata": {},
   "source": [
    "## **Problem 1: Student Pass/Fail Prediction**\n",
    "\n",
    "This problem uses a simple perceptron to predict whether a student passes (1) or fails (0) based on hours studied and hours of sleep. The output is determined by a step function with a threshold of 1.\n",
    "\n",
    "Given:\n",
    "- **Weights**: $w_1 = 0.6$ (hours studied), $w_2 = 0.4$ (hours of sleep)\n",
    "- **Bias**: $-3$\n",
    "- **Threshold**: $1$"
   ]
  },
  {
   "cell_type": "code",
   "execution_count": 3,
   "id": "297739ee",
   "metadata": {},
   "outputs": [
    {
     "name": "stdout",
     "output_type": "stream",
     "text": [
      "Problem 1: Student Pass/Fail Prediction\n",
      "Input (8, 7) => Output: 1\n",
      "Input (3, 4) => Output: 0\n",
      "\n"
     ]
    }
   ],
   "source": [
    "def predict_pass_fail(x1, x2, w1=0.6, w2=0.4, bias=-3, threshold=1):\n",
    "    weighted_sum = w1 * x1 + w2 * x2 + bias\n",
    "    return 1 if weighted_sum >= threshold else 0\n",
    "\n",
    "# Test inputs\n",
    "input1 = (8, 7)\n",
    "input2 = (3, 4)\n",
    "\n",
    "print(\"Problem 1: Student Pass/Fail Prediction\")\n",
    "print(f\"Input {input1} => Output: {predict_pass_fail(*input1)}\")\n",
    "print(f\"Input {input2} => Output: {predict_pass_fail(*input2)}\\n\")"
   ]
  },
  {
   "cell_type": "markdown",
   "id": "68bc12aa",
   "metadata": {},
   "source": [
    "## **Problem 2: Logic Gate Simulation (AND Gate)**\n",
    "\n",
    "This section simulates a perceptron acting as a logical AND gate. The perceptron takes two binary inputs and produces a single binary output.\n",
    "\n",
    "Given:\n",
    "- **Weights**: $w_1 = 1$, $w_2 = 1$\n",
    "- **Bias**: $-1.5$\n",
    "- **Threshold**: $0$"
   ]
  },
  {
   "cell_type": "code",
   "execution_count": 4,
   "id": "21105742",
   "metadata": {},
   "outputs": [
    {
     "name": "stdout",
     "output_type": "stream",
     "text": [
      "Problem 2: AND Gate Simulation\n",
      "Input (0, 0) => Output: 0\n",
      "Input (0, 1) => Output: 0\n",
      "Input (1, 0) => Output: 0\n",
      "Input (1, 1) => Output: 1\n",
      "\n"
     ]
    }
   ],
   "source": [
    "def and_gate(x1, x2, w1=1, w2=1, bias=-1.5, threshold=0):\n",
    "    weighted_sum = w1 * x1 + w2 * x2 + bias\n",
    "    return 1 if weighted_sum >= threshold else 0\n",
    "\n",
    "print(\"Problem 2: AND Gate Simulation\")\n",
    "for x1 in [0, 1]:\n",
    "    for x2 in [0, 1]:\n",
    "        output = and_gate(x1, x2)\n",
    "        print(f\"Input ({x1}, {x2}) => Output: {output}\")\n",
    "print()"
   ]
  },
  {
   "cell_type": "markdown",
   "id": "52c73703",
   "metadata": {},
   "source": [
    "## **Problem 3: Perceptron Comparison (One vs All)**\n",
    "\n",
    "This problem compares the outputs of three different perceptrons (A, B, and C) using the same input vector. The winner is the perceptron with a positive output (1). If there is a tie, the winner is the one with the highest weighted sum.\n",
    "\n",
    "Given:\n",
    "- **Threshold**: $1$\n",
    "- **Input vector**: $[0.5, -1, 2, 1, 0]$\n",
    "- **Perceptron A Configuration**:\n",
    "  - **Weights**: $W_A = [1.0, -0.5, 0.2, 0.1, 0.0]$\n",
    "  - **Bias**: $0.2$\n",
    "- **Perceptron B Configuration**:\n",
    "  - **Weights**: $W_B = [0.2, 0.2, 0.5, -0.4, 0.3]$\n",
    "  - **Bias**: $0.0$\n",
    "- **Perceptron C Configuration**:\n",
    "  - **Weights**: $W_C = [-0.3, -0.1, 0.4, 0.0, 0.2]$\n",
    "  - **Bias**: $-0.6$"
   ]
  },
  {
   "cell_type": "code",
   "execution_count": 8,
   "id": "45e8159c",
   "metadata": {},
   "outputs": [
    {
     "name": "stdout",
     "output_type": "stream",
     "text": [
      "Problem 3: Perceptron Comparison\n",
      "Perceptron A: Weighted Sum = 1.70, Output = 1\n",
      "Perceptron B: Weighted Sum = 0.50, Output = 0\n",
      "Perceptron C: Weighted Sum = 0.15, Output = 0\n",
      "\n",
      "Winner: Perceptron A\n"
     ]
    }
   ],
   "source": [
    "def perceptron_output(inputs, weights, bias):\n",
    "    return sum(i * w for i, w in zip(inputs, weights)) + bias\n",
    "\n",
    "def apply_threshold(weighted_sum, threshold=1):\n",
    "    return 1 if weighted_sum >= threshold else 0\n",
    "\n",
    "input_vector = [0.5, -1, 2, 1, 0]\n",
    "threshold = 1  # Added threshold\n",
    "\n",
    "# Perceptron configurations\n",
    "configs = {\n",
    "    \"A\": {\"weights\": [1.0, -0.5, 0.2, 0.1, 0.0], \"bias\": 0.2},\n",
    "    \"B\": {\"weights\": [0.2, 0.2, 0.5, -0.4, 0.3], \"bias\": 0.0},\n",
    "    \"C\": {\"weights\": [-0.3, -0.1, 0.4, 0.0, 0.2], \"bias\": -0.6}\n",
    "}\n",
    "\n",
    "# Compute outputs\n",
    "results = {}\n",
    "print(\"Problem 3: Perceptron Comparison\")\n",
    "for label, config in configs.items():\n",
    "    weighted_sum = perceptron_output(input_vector, config[\"weights\"], config[\"bias\"])\n",
    "    binary_output = apply_threshold(weighted_sum, threshold)\n",
    "    results[label] = {\"sum\": weighted_sum, \"output\": binary_output}\n",
    "    print(f\"Perceptron {label}: Weighted Sum = {weighted_sum:.2f}, Output = {binary_output}\")\n",
    "\n",
    "# Determine winner\n",
    "positive_outputs = {k: v for k, v in results.items() if v[\"output\"] == 1}\n",
    "if positive_outputs:\n",
    "    winner = max(positive_outputs.items(), key=lambda x: x[1][\"sum\"])[0]\n",
    "    print(f\"\\nWinner: Perceptron {winner}\")\n",
    "else:\n",
    "    print(\"\\nNo perceptron produced a positive output.\")\n"
   ]
  },
  {
   "cell_type": "markdown",
   "id": "208130ac",
   "metadata": {},
   "source": [
    "# Yis, ang galing!!!"
   ]
  }
 ],
 "metadata": {
  "kernelspec": {
   "display_name": "base",
   "language": "python",
   "name": "python3"
  },
  "language_info": {
   "codemirror_mode": {
    "name": "ipython",
    "version": 3
   },
   "file_extension": ".py",
   "mimetype": "text/x-python",
   "name": "python",
   "nbconvert_exporter": "python",
   "pygments_lexer": "ipython3",
   "version": "3.12.4"
  }
 },
 "nbformat": 4,
 "nbformat_minor": 5
}
