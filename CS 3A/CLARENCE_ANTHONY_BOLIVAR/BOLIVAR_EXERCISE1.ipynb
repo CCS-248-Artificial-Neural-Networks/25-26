{
 "cells": [
  {
   "cell_type": "code",
   "execution_count": 7,
   "id": "d36f418e",
   "metadata": {},
   "outputs": [],
   "source": [
    "import numpy as np\n",
    "\n",
    "# Step function\n",
    "def step_function(weighted_sum, threshold):\n",
    "    return 1 if weighted_sum >= threshold else 0\n"
   ]
  },
  {
   "cell_type": "code",
   "execution_count": 8,
   "id": "c8f76a29",
   "metadata": {},
   "outputs": [
    {
     "name": "stdout",
     "output_type": "stream",
     "text": [
      "Problem 1: Pass or Fail\n",
      "Input: (8, 7) -> Output: 1\n",
      "Input: (3, 4) -> Output: 0\n"
     ]
    }
   ],
   "source": [
    "\n",
    "# Problem 1: Determine pass or fail\n",
    "def pass_or_fail(x1, x2, w1=0.6, w2=0.4, bias=-3, threshold=1):\n",
    "    weighted_sum = w1 * x1 + w2 * x2 + bias\n",
    "    return step_function(weighted_sum, threshold)\n",
    "\n",
    "# Inputs for Problem 1\n",
    "inputs_1 = [(8, 7), (3, 4)]\n",
    "print(\"Problem 1: Pass or Fail\")\n",
    "for x1, x2 in inputs_1:\n",
    "    result = pass_or_fail(x1, x2)\n",
    "    print(f\"Input: ({x1}, {x2}) -> Output: {result}\")\n"
   ]
  },
  {
   "cell_type": "code",
   "execution_count": 11,
   "id": "e8ab10d8",
   "metadata": {},
   "outputs": [
    {
     "name": "stdout",
     "output_type": "stream",
     "text": [
      "\n",
      "Problem 2: Logic Gate Simulation (AND Gate)\n",
      "Input: (0, 0) -> Output: 0\n",
      "Input: (0, 1) -> Output: 0\n",
      "Input: (1, 0) -> Output: 0\n",
      "Input: (1, 1) -> Output: 1\n",
      "\n",
      "The perceptron behaves as an AND gate.\n"
     ]
    }
   ],
   "source": [
    "# Problem 2: Logic Gate Simulation (AND Gate)\n",
    "def logic_gate(x1, x2, w1=1, w2=1, bias=-1.5, threshold=0):\n",
    "    weighted_sum = w1 * x1 + w2 * x2 + bias\n",
    "    return step_function(weighted_sum, threshold)\n",
    "\n",
    "# Function to verify if the perceptron behaves as an AND gate\n",
    "def is_and_gate():\n",
    "    inputs_2 = [(0, 0), (0, 1), (1, 0), (1, 1)]\n",
    "    expected_outputs = [0, 0, 0, 1]  # AND gate truth table\n",
    "    actual_outputs = []\n",
    "\n",
    "    print(\"\\nProblem 2: Logic Gate Simulation (AND Gate)\")\n",
    "    for x1, x2 in inputs_2:\n",
    "        result = logic_gate(x1, x2)\n",
    "        actual_outputs.append(result)\n",
    "        print(f\"Input: ({x1}, {x2}) -> Output: {result}\")\n",
    "\n",
    "    # Check if actual outputs match expected outputs\n",
    "    if actual_outputs == expected_outputs:\n",
    "        print(\"\\nThe perceptron behaves as an AND gate.\")\n",
    "    else:\n",
    "        print(\"\\nThe perceptron does NOT behave as an AND gate.\")\n",
    "\n",
    "# Call the function to test\n",
    "is_and_gate()"
   ]
  },
  {
   "cell_type": "code",
   "execution_count": 12,
   "id": "5b0a9ec8",
   "metadata": {},
   "outputs": [
    {
     "name": "stdout",
     "output_type": "stream",
     "text": [
      "\n",
      "Problem 3: Perceptron Comparison (One vs All)\n",
      "Perceptron A: Weighted Sum = 1.7, Output = 1\n",
      "Perceptron B: Weighted Sum = 0.5, Output = 1\n",
      "Perceptron C: Weighted Sum = 0.15000000000000002, Output = 1\n",
      "\n",
      "Winner: Perceptron A\n"
     ]
    }
   ],
   "source": [
    "\n",
    "# Problem 3: Perceptron Comparison (One vs All)\n",
    "def perceptron_output(inputs, weights, bias):\n",
    "    weighted_sum = np.dot(inputs, weights) + bias\n",
    "    return weighted_sum, step_function(weighted_sum, 0)\n",
    "\n",
    "inputs_3 = [0.5, -1, 2, 1, 0]\n",
    "\n",
    "# Perceptron configurations\n",
    "perceptrons = {\n",
    "    \"A\": {\"weights\": [1.0, -0.5, 0.2, 0.1, 0.0], \"bias\": 0.2},\n",
    "    \"B\": {\"weights\": [0.2, 0.2, 0.5, -0.4, 0.3], \"bias\": 0.0},\n",
    "    \"C\": {\"weights\": [-0.3, -0.1, 0.4, 0.0, 0.2], \"bias\": -0.6},\n",
    "}\n",
    "\n",
    "print(\"\\nProblem 3: Perceptron Comparison (One vs All)\")\n",
    "results = {}\n",
    "for name, config in perceptrons.items():\n",
    "    weighted_sum, output = perceptron_output(inputs_3, config[\"weights\"], config[\"bias\"])\n",
    "    results[name] = {\"weighted_sum\": weighted_sum, \"output\": output}\n",
    "    print(f\"Perceptron {name}: Weighted Sum = {weighted_sum}, Output = {output}\")\n",
    "\n",
    "# Determine the winner\n",
    "max_output = max(results.values(), key=lambda x: x[\"output\"])[\"output\"]\n",
    "winners = [name for name, result in results.items() if result[\"output\"] == max_output]\n",
    "\n",
    "if len(winners) > 1:\n",
    "    # Tie-breaking by highest weighted sum\n",
    "    winner = max(winners, key=lambda name: results[name][\"weighted_sum\"])\n",
    "else:\n",
    "    winner = winners[0]\n",
    "\n",
    "print(f\"\\nWinner: Perceptron {winner}\")"
   ]
  }
 ],
 "metadata": {
  "kernelspec": {
   "display_name": "Python 3",
   "language": "python",
   "name": "python3"
  },
  "language_info": {
   "codemirror_mode": {
    "name": "ipython",
    "version": 3
   },
   "file_extension": ".py",
   "mimetype": "text/x-python",
   "name": "python",
   "nbconvert_exporter": "python",
   "pygments_lexer": "ipython3",
   "version": "3.13.0"
  }
 },
 "nbformat": 4,
 "nbformat_minor": 5
}
