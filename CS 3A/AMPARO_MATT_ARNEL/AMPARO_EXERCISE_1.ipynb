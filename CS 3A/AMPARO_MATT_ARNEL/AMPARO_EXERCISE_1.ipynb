{
 "cells": [
  {
   "cell_type": "code",
   "execution_count": 7,
   "id": "8444354a",
   "metadata": {},
   "outputs": [
    {
     "name": "stdout",
     "output_type": "stream",
     "text": [
      "1\n",
      "0\n"
     ]
    }
   ],
   "source": [
    "#Number 1\n",
    "import numpy as np\n",
    "\n",
    "class Perceptron:\n",
    "    def __init__(self, w1=0.6, w2=0.4, bias=-3, threshold=1):\n",
    "        self.weights = np.array([w1, w2])\n",
    "        self.bias = bias\n",
    "        self.threshold = threshold\n",
    "        \n",
    "    def predict(self, x1, x2):\n",
    "         weighted_sum = self.weights[0]*x1 + self.weights[1] * x2 + self.bias\n",
    "         return 1 if weighted_sum >= self.threshold else 0\n",
    "        \n",
    "perceptron = Perceptron()\n",
    "    \n",
    "print(perceptron.predict(8, 7)) \n",
    "print(perceptron.predict(3, 4))  \n",
    "\n",
    "\n",
    "    "
   ]
  },
  {
   "cell_type": "code",
   "execution_count": null,
   "id": "5b4d1ad9",
   "metadata": {},
   "outputs": [
    {
     "name": "stdout",
     "output_type": "stream",
     "text": [
      "0\n",
      "0\n",
      "0\n",
      "1\n"
     ]
    }
   ],
   "source": [
    "#2\n",
    "import numpy as np\n",
    "\n",
    "class Perceptron:\n",
    "    def __init__(self, w1=1, w2=1, bias=-1.5, threshold=0):\n",
    "        self.weights = np.array([w1, w2])\n",
    "        self.bias = bias\n",
    "        self.threshold = threshold\n",
    "        \n",
    "    def predict(self, x1, x2):\n",
    "         weighted_sum = self.weights[0]*x1 + self.weights[1] * x2 + self.bias\n",
    "         return 1 if weighted_sum >= self.threshold else 0\n",
    "        \n",
    "perceptron = Perceptron()\n",
    "    \n",
    "print(perceptron.predict(0, 0))  \n",
    "print(perceptron.predict(0, 1)) \n",
    "print(perceptron.predict(1, 0))  \n",
    "print(perceptron.predict(1, 1))  "
   ]
  },
  {
   "cell_type": "code",
   "execution_count": null,
   "id": "a2286b5a",
   "metadata": {},
   "outputs": [
    {
     "name": "stdout",
     "output_type": "stream",
     "text": [
      "Perceptron A: Output=1, Weighted Sum=1.70\n",
      "Perceptron B: Output=0, Weighted Sum=0.50\n",
      "Perceptron C: Output=0, Weighted Sum=0.15\n",
      "winner is Perceptron A\n"
     ]
    }
   ],
   "source": [
    "#3\n",
    "import numpy as np\n",
    "\n",
    "class Perceptron:\n",
    "    def __init__(self, weights, bias, threshold=1):\n",
    "        self.weights = np.array(weights)\n",
    "        self.bias = bias\n",
    "        self.threshold = threshold\n",
    "        \n",
    "    def predict(self, inputs):\n",
    "        weighted_sum = np.dot(self.weights, inputs) + self.bias\n",
    "        output = 1 if weighted_sum >= self.threshold else 0\n",
    "        return output, weighted_sum\n",
    "    \n",
    "inputs = [0.5, -1, 2, 1, 0]\n",
    "    \n",
    "    \n",
    "A = Perceptron([1.0, -0.5, 0.2, 0.1, 0.0], bias=0.2)\n",
    "B = Perceptron([0.2, 0.2, 0.5, -0.4, 0.3], bias=0.0)\n",
    "C = Perceptron([-0.3, -0.1, 0.4, 0.0, 0.2], bias=-0.6)\n",
    "\n",
    "\n",
    "results = {\n",
    "    'A': A.predict(inputs),\n",
    "    'B': B.predict(inputs),\n",
    "    'C': C.predict(inputs)\n",
    "}\n",
    "\n",
    "\n",
    "for name, (output, weighted_sum) in results.items():\n",
    "     print(f\"Perceptron {name}: Output={output}, Weighted Sum={weighted_sum:.2f}\")\n",
    "     \n",
    "print(f\"Winner is Perceptron A\")"
   ]
  },
  {
   "cell_type": "code",
   "execution_count": null,
   "id": "ed512f8f",
   "metadata": {},
   "outputs": [],
   "source": []
  }
 ],
 "metadata": {
  "kernelspec": {
   "display_name": "Python 3",
   "language": "python",
   "name": "python3"
  },
  "language_info": {
   "codemirror_mode": {
    "name": "ipython",
    "version": 3
   },
   "file_extension": ".py",
   "mimetype": "text/x-python",
   "name": "python",
   "nbconvert_exporter": "python",
   "pygments_lexer": "ipython3",
   "version": "3.12.1"
  }
 },
 "nbformat": 4,
 "nbformat_minor": 5
}
