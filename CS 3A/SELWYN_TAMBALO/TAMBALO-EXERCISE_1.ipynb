{
 "cells": [
  {
   "cell_type": "code",
   "execution_count": 1,
   "id": "04d6dba6",
   "metadata": {},
   "outputs": [],
   "source": [
    "# function solving perceptron activation function\n",
    "def perceptron_af(inputs, weights, bias, step_threshold):\n",
    "    weighted_sum = 0\n",
    "    for i in range(len(inputs)):\n",
    "        weighted_sum += inputs[i] * weights[i]\n",
    "\n",
    "    weighted_sum += bias\n",
    "    print(\"Perceptron weighted sum: \", weighted_sum)\n",
    "    if weighted_sum > step_threshold:\n",
    "        step_result = 1\n",
    "    else:\n",
    "        step_result = 0\n",
    "    print(\"Perceptron result using step function: \", step_result)"
   ]
  },
  {
   "cell_type": "markdown",
   "id": "b1421ebb",
   "metadata": {},
   "source": [
    "<h3><p>1. Determine whether the student passes(1) or fails(0) based on:\n",
    "<ul>\n",
    "    <li>Hours studied</li>\n",
    "    <li>Hours of sleep</li>\n",
    "</ul>\n",
    "Given weights w1 = 0.6, w2 = 0.4, bias = -3.<br>\n",
    "Step function with a threshold of 1.<br><br>\n",
    "Predict the output of the following inputs:<br>\n",
    "    1. (x1, x2) = (8, 7)<br>\n",
    "    2. (x1, x2) = (3, 4)</p></h3>\n",
    "\n",
    "\n"
   ]
  },
  {
   "cell_type": "code",
   "execution_count": 2,
   "id": "afb91b61",
   "metadata": {},
   "outputs": [],
   "source": [
    "# constant given\n",
    "weight = [0.6, 0.4]\n",
    "bias = -3\n",
    "step_threshold = 1"
   ]
  },
  {
   "cell_type": "code",
   "execution_count": 3,
   "id": "0a2337f4",
   "metadata": {},
   "outputs": [],
   "source": [
    "# inputs\n",
    "inputs = [[8, 7],   # 1st input (0)\n",
    "          [3, 4]]   # 2nd input (1)"
   ]
  },
  {
   "cell_type": "code",
   "execution_count": 4,
   "id": "13780b36",
   "metadata": {},
   "outputs": [
    {
     "name": "stdout",
     "output_type": "stream",
     "text": [
      "Perceptron weighted sum:  4.6\n",
      "Perceptron result using step function:  1\n"
     ]
    }
   ],
   "source": [
    "# call generalized function to solve activation function with 1st input\n",
    "perceptron_af(inputs[0], weight, bias, step_threshold)"
   ]
  },
  {
   "cell_type": "code",
   "execution_count": 5,
   "id": "b77a3109",
   "metadata": {},
   "outputs": [
    {
     "name": "stdout",
     "output_type": "stream",
     "text": [
      "Perceptron weighted sum:  0.3999999999999999\n",
      "Perceptron result using step function:  0\n"
     ]
    }
   ],
   "source": [
    "# call generalized function to solve activation function with 2nd input\n",
    "perceptron_af(inputs[1], weight, bias, step_threshold)"
   ]
  },
  {
   "cell_type": "markdown",
   "id": "83f5b0ef",
   "metadata": {},
   "source": [
    "<h3><p>2. Logic Gate Simulation. Given the following setup for a perceptron, compute its output and verify whether it acts as an AND gate.<br><br>\n",
    "    Given weights w1 = 1, w2 = 1, bias = -1.5<br>\n",
    "    Step function with a threshold of 0<br>\n",
    "    Inputs:<br> \n",
    "    (0, 0), (0, 1), (1, 0), (1, 1)</p></h3>\n"
   ]
  },
  {
   "cell_type": "code",
   "execution_count": 6,
   "id": "1f1521e5",
   "metadata": {},
   "outputs": [],
   "source": [
    "# constant given\n",
    "weight = [1, 1]\n",
    "bias = -1.5\n",
    "step_threshold = 0"
   ]
  },
  {
   "cell_type": "code",
   "execution_count": 7,
   "id": "af7e1fe0",
   "metadata": {},
   "outputs": [],
   "source": [
    "# inputs\n",
    "inputs = [[0, 0],   # 1st input (0)\n",
    "          [0, 1],   # 2nd input (1)\n",
    "          [1, 0],   # 3rd input (2)\n",
    "          [1, 1]]   # 4th input (3)"
   ]
  },
  {
   "cell_type": "code",
   "execution_count": 8,
   "id": "2b63ed37",
   "metadata": {},
   "outputs": [
    {
     "name": "stdout",
     "output_type": "stream",
     "text": [
      "Perceptron weighted sum:  -1.5\n",
      "Perceptron result using step function:  0\n"
     ]
    }
   ],
   "source": [
    "# call generalized function to solve activation function with 1st input\n",
    "perceptron_af(inputs[0], weight, bias, step_threshold)"
   ]
  },
  {
   "cell_type": "code",
   "execution_count": 9,
   "id": "a761ba99",
   "metadata": {},
   "outputs": [
    {
     "name": "stdout",
     "output_type": "stream",
     "text": [
      "Perceptron weighted sum:  -0.5\n",
      "Perceptron result using step function:  0\n"
     ]
    }
   ],
   "source": [
    "# call generalized function to solve activation function with 2nd input\n",
    "perceptron_af(inputs[1], weight, bias, step_threshold)"
   ]
  },
  {
   "cell_type": "code",
   "execution_count": 10,
   "id": "ed720b68",
   "metadata": {},
   "outputs": [
    {
     "name": "stdout",
     "output_type": "stream",
     "text": [
      "Perceptron weighted sum:  -0.5\n",
      "Perceptron result using step function:  0\n"
     ]
    }
   ],
   "source": [
    "# call generalized function to solve activation function with 3rd input\n",
    "perceptron_af(inputs[2], weight, bias, step_threshold)"
   ]
  },
  {
   "cell_type": "code",
   "execution_count": 11,
   "id": "5fb3fced",
   "metadata": {},
   "outputs": [
    {
     "name": "stdout",
     "output_type": "stream",
     "text": [
      "Perceptron weighted sum:  0.5\n",
      "Perceptron result using step function:  1\n"
     ]
    }
   ],
   "source": [
    "# call generalized function to solve activation function with 4th input\n",
    "perceptron_af(inputs[3], weight, bias, step_threshold)"
   ]
  },
  {
   "cell_type": "markdown",
   "id": "38aa20fb",
   "metadata": {},
   "source": [
    "<h3><p>3. Perceptron comparison (One vs All). Given the 3 perceptron, using the same input, compute the output and decided on the predicted class is the WINNER. If a tie is present, compare and get the highest weighted sum.<br><br>\n",
    "Step function with a threshold of 1.0<br>\n",
    "Inputs = [0.5, -1, 2, 1, 0]</p><h3>"
   ]
  },
  {
   "cell_type": "code",
   "execution_count": 12,
   "id": "6795579d",
   "metadata": {},
   "outputs": [],
   "source": [
    "# constant given\n",
    "inputs = [0.5, -1, 2, 1, 0]\n",
    "step_threshold = 1.0"
   ]
  },
  {
   "cell_type": "code",
   "execution_count": 13,
   "id": "e436a536",
   "metadata": {},
   "outputs": [],
   "source": [
    "# perceptron A configuration\n",
    "weights = [[1.0, -0.5, 0.2, 0.1, 0.0],  # weight A (0)\n",
    "           [0.2, 0.2, 0.5, -0.4, 0.3],  # weight B (1)\n",
    "           [-0.3, -0.1, 0.4, 0.0, 0.2]] # weight C (2)\n",
    "\n",
    "bias = [0.2,    # bias A (0)\n",
    "        0.0,    # bias B (1)\n",
    "        -0.6]   # bias C (2)"
   ]
  },
  {
   "cell_type": "code",
   "execution_count": 14,
   "id": "67502622",
   "metadata": {},
   "outputs": [
    {
     "name": "stdout",
     "output_type": "stream",
     "text": [
      "Perceptron weighted sum:  1.7\n",
      "Perceptron result using step function:  1\n"
     ]
    }
   ],
   "source": [
    "# call generalized function to solve activation function with perceptron A configuration\n",
    "perceptron_af(inputs, weights[0], bias[0], step_threshold)"
   ]
  },
  {
   "cell_type": "code",
   "execution_count": 15,
   "id": "97b42f18",
   "metadata": {},
   "outputs": [
    {
     "name": "stdout",
     "output_type": "stream",
     "text": [
      "Perceptron weighted sum:  0.5\n",
      "Perceptron result using step function:  0\n"
     ]
    }
   ],
   "source": [
    "# call generalized function to solve activation function with perceptron B configuration\n",
    "perceptron_af(inputs, weights[1], bias[1], step_threshold)"
   ]
  },
  {
   "cell_type": "code",
   "execution_count": 16,
   "id": "93a3d503",
   "metadata": {},
   "outputs": [
    {
     "name": "stdout",
     "output_type": "stream",
     "text": [
      "Perceptron weighted sum:  0.15000000000000002\n",
      "Perceptron result using step function:  0\n"
     ]
    }
   ],
   "source": [
    "# call generalized function to solve activation function with perceptron C configuration\n",
    "perceptron_af(inputs, weights[2], bias[2], step_threshold)"
   ]
  }
 ],
 "metadata": {
  "kernelspec": {
   "display_name": "base",
   "language": "python",
   "name": "python3"
  },
  "language_info": {
   "codemirror_mode": {
    "name": "ipython",
    "version": 3
   },
   "file_extension": ".py",
   "mimetype": "text/x-python",
   "name": "python",
   "nbconvert_exporter": "python",
   "pygments_lexer": "ipython3",
   "version": "3.13.5"
  }
 },
 "nbformat": 4,
 "nbformat_minor": 5
}
