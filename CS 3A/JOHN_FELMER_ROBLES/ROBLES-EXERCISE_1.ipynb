{
 "cells": [
  {
   "cell_type": "code",
   "execution_count": 6,
   "id": "50379229",
   "metadata": {},
   "outputs": [
    {
     "name": "stdout",
     "output_type": "stream",
     "text": [
      "Number 1.1 - Weighted Sum N1: 7.6\n",
      "Number 1.1 - Step Function N1: 1\n",
      "\n",
      "\n",
      "Number 1.2 - Weighted Sum N2: 3.4\n",
      "Number 1.2 - Step Function N2: 1\n"
     ]
    }
   ],
   "source": [
    "# Number 1.)\n",
    "input_1_1 = [8,7]\n",
    "input_1_2 = [3,4]\n",
    "weights_1 = [0.6, 0.4]\n",
    "bias = -3\n",
    "step_threshold = 1\n",
    "\n",
    "weighted_sum_N_1_1, weighted_sum_N_1_2 = 0,0\n",
    "\n",
    "for i in range(len(input_1_1)):\n",
    "    weighted_sum_N_1_1 += input_1_1[i] * weights_1[i]\n",
    "    weighted_sum_N_1_2 += input_1_2[i] * weights_1[i]\n",
    "    \n",
    "step_function_N_1_1 = 1 if (weighted_sum_N_1_1 + bias) > step_threshold else 0\n",
    "step_function_N_1_2 = 1 if (weighted_sum_N_1_1 + bias) > step_threshold else 0\n",
    "\n",
    "print(\"Number 1.1 - Weighted Sum N1:\", weighted_sum_N_1_1)\n",
    "print(\"Number 1.1 - Step Function N1:\", step_function_N_1_1)\n",
    "print(\"\\n\")\n",
    "print(\"Number 1.2 - Weighted Sum N2:\", weighted_sum_N_1_2)\n",
    "print(\"Number 1.2 - Step Function N2:\", step_function_N_1_2)\n"
   ]
  },
  {
   "cell_type": "markdown",
   "id": "3aa2b826",
   "metadata": {},
   "source": [
    "Answer\n",
    "1. As both inputs result in a weighted sum greater than the step threshold of 1 so with either inputs the student passes."
   ]
  },
  {
   "cell_type": "code",
   "execution_count": 7,
   "id": "62b4ebc3",
   "metadata": {},
   "outputs": [
    {
     "name": "stdout",
     "output_type": "stream",
     "text": [
      "Number 2.1 - Weighted Sum N1: 0\n",
      "Number 2.2 - Step Function N2: 0\n",
      "\n",
      "\n",
      "Number 2.2 - Weighted Sum N2: 1\n",
      "Number 2.2 - Step Function N2: 0\n",
      "\n",
      "\n",
      "Number 2.3 - Weighted Sum N3: 1\n",
      "Number 2.3 - Step Function N3: 0\n",
      "\n",
      "\n",
      "Number 2.4 - Weighted Sum N4: 2\n",
      "Number 2.4 - Step Function N4: 1\n"
     ]
    }
   ],
   "source": [
    "#Number 2.)\n",
    "input_2_1 = [0, 0]\n",
    "input_2_2 = [0, 1]\n",
    "input_2_3 = [1, 0]\n",
    "input_2_4 = [1, 1]\n",
    "weights_2 = [1, 1]\n",
    "bias_2 = -1.5\n",
    "step_threshold_2 = 0\n",
    "\n",
    "weighted_sum_N_2_1, weighted_sum_N_2_2, weighted_sum_N_2_3, weighted_sum_N_2_4 = 0,0,0,0\n",
    "\n",
    "for i in range(len(input_2_1)):\n",
    "    weighted_sum_N_2_1 += input_2_1[i] * weights_2[i]\n",
    "    weighted_sum_N_2_2 += input_2_2[i] * weights_2[i]\n",
    "    weighted_sum_N_2_3 += input_2_3[i] * weights_2[i]\n",
    "    weighted_sum_N_2_4 += input_2_4[i] * weights_2[i]\n",
    "    \n",
    "step_function_N_2_1 = 1 if (weighted_sum_N_2_1 + bias_2) > step_threshold_2 else 0\n",
    "step_function_N_2_2 = 1 if (weighted_sum_N_2_2 + bias_2) > step_threshold_2 else 0\n",
    "step_function_N_2_3 = 1 if (weighted_sum_N_2_3 + bias_2) > step_threshold_2 else 0\n",
    "step_function_N_2_4 = 1 if (weighted_sum_N_2_4 + bias_2) > step_threshold_2 else 0\n",
    "\n",
    "print(\"Number 2.1 - Weighted Sum N1:\", weighted_sum_N_2_1)\n",
    "print(\"Number 2.2 - Step Function N2:\", step_function_N_2_1)\n",
    "print(\"\\n\") \n",
    "print(\"Number 2.2 - Weighted Sum N2:\", weighted_sum_N_2_2)\n",
    "print(\"Number 2.2 - Step Function N2:\", step_function_N_2_2)\n",
    "print(\"\\n\")\n",
    "print(\"Number 2.3 - Weighted Sum N3:\", weighted_sum_N_2_3)\n",
    "print(\"Number 2.3 - Step Function N3:\", step_function_N_2_3)\n",
    "print(\"\\n\")\n",
    "print(\"Number 2.4 - Weighted Sum N4:\", weighted_sum_N_2_4) \n",
    "print(\"Number 2.4 - Step Function N4:\", step_function_N_2_4)\n"
   ]
  },
  {
   "cell_type": "markdown",
   "id": "8a0a6f3e",
   "metadata": {},
   "source": [
    "Answer\n",
    "2. Wtih the step function returning the following values 0,0,0,1 for the inputs (0,0), (0,1), (1,0), (1,1) respectively, we can verify that the percepton acts as an AND Gate."
   ]
  },
  {
   "cell_type": "code",
   "execution_count": null,
   "id": "680dac87",
   "metadata": {},
   "outputs": [
    {
     "name": "stdout",
     "output_type": "stream",
     "text": [
      "Number 3 - Weighted Sum N_A: 1.7\n",
      "\n",
      "\n",
      "Number 3 - Weighted Sum N_B: 0.5\n",
      "\n",
      "\n",
      "Number 3 - Weighted Sum N_C: 0.15000000000000002\n"
     ]
    }
   ],
   "source": [
    "#Number 3.)\n",
    "#Inputs\n",
    "input_3 =  [0.5, -1, 2, 1, 0]\n",
    "\n",
    "#Perceptron A\n",
    "weights_3_A = [1.0, -0.5, 0.2, 0.1, 0.0]\n",
    "bias_3_A = 0.2\n",
    "\n",
    "#Perceptron B\n",
    "weights_3_B = [0.2, 0.2, 0.5, -0.4, 0.3]\n",
    "bias_3_B = 0.0\n",
    "\n",
    "#Perceptron C\n",
    "weights_3_C = [-0.3, -0.1, 0.4, 0.0, 0.2]\n",
    "bias_3_C = -0.6\n",
    "\n",
    "weighted_sum_N_3_A, weighted_sum_N_3_B, weighted_sum_N_3_C = 0,0,0\n",
    "\n",
    "for i in range(len(input_3)):\n",
    "    weighted_sum_N_3_A += input_3[i] * weights_3_A[i]\n",
    "    weighted_sum_N_3_B += input_3[i] * weights_3_B[i]\n",
    "    weighted_sum_N_3_C += input_3[i] * weights_3_C[i]\n",
    "    \n",
    "weighted_sum_N_3_A += bias_3_A\n",
    "weighted_sum_N_3_B += bias_3_B\n",
    "weighted_sum_N_3_C += bias_3_C\n",
    "\n",
    "print(\"Number 3 - Weighted Sum N_A:\", weighted_sum_N_3_A)\n",
    "print(\"\\n\")\n",
    "print(\"Number 3 - Weighted Sum N_B:\", weighted_sum_N_3_B)\n",
    "print(\"\\n\")\n",
    "print(\"Number 3 - Weighted Sum N_C:\", weighted_sum_N_3_C)\n",
    "\n",
    "\n"
   ]
  },
  {
   "cell_type": "markdown",
   "id": "f4e46d28",
   "metadata": {},
   "source": [
    "Answer\n",
    "3. As Perceptron A has the Highest Weighted Sum, therfore Perceptron Configuration A is the WINNER!"
   ]
  }
 ],
 "metadata": {
  "kernelspec": {
   "display_name": "example",
   "language": "python",
   "name": "python3"
  },
  "language_info": {
   "codemirror_mode": {
    "name": "ipython",
    "version": 3
   },
   "file_extension": ".py",
   "mimetype": "text/x-python",
   "name": "python",
   "nbconvert_exporter": "python",
   "pygments_lexer": "ipython3",
   "version": "3.12.4"
  }
 },
 "nbformat": 4,
 "nbformat_minor": 5
}
