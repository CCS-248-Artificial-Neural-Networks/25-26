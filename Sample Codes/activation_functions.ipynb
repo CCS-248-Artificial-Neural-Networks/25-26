{
 "cells": [
  {
   "cell_type": "markdown",
   "id": "26f00c42",
   "metadata": {},
   "source": [
    "This is an simple example of calculating the Sofmax activation function."
   ]
  },
  {
   "cell_type": "code",
   "execution_count": null,
   "id": "0d183a3d",
   "metadata": {},
   "outputs": [],
   "source": [
    "# Euler's constant\n",
    "E = 2.71828182846 # you can also use the math.e"
   ]
  },
  {
   "cell_type": "code",
   "execution_count": null,
   "id": "50b8b9e2",
   "metadata": {},
   "outputs": [],
   "source": [
    "# sample output layer\n",
    "layer_outputs = [4.8, 1.21, 2.385]"
   ]
  },
  {
   "attachments": {
    "image.png": {
     "image/png": "[encoded data removed]"
    }
   },
   "cell_type": "markdown",
   "id": "5aed423e",
   "metadata": {},
   "source": [
    "![image.png](attachment:image.png)"
   ]
  },
  {
   "cell_type": "code",
   "execution_count": null,
   "id": "6f509cfb",
   "metadata": {},
   "outputs": [],
   "source": [
    "# For each value in the vector\n",
    "# calculate the exponential value\n",
    "exp_value = []\n",
    "for output in layer_outputs:\n",
    "    exp_value.append(E ** output) # e^x or e raised to output\n",
    "\n",
    "print(\"Exponential values:\", exp_value)"
   ]
  },
  {
   "cell_type": "code",
   "execution_count": null,
   "id": "edc00f83",
   "metadata": {},
   "outputs": [],
   "source": [
    "# values are not normalized on the previous example\n",
    "# Normalize the values to easily handle values\n",
    "norm_base = sum(exp_value)\n",
    "norm_values = []\n",
    "for value in exp_value:\n",
    "    norm_values.append(value / norm_base)  # Divide each value by the sum of all values\n",
    "\n",
    "print(\"Normalized values:\", norm_values)\n",
    "\n",
    "print(\"Sum of normalized values:\", sum(norm_values))  # Should be 1.0"
   ]
  },
  {
   "cell_type": "markdown",
   "id": "7bacea43",
   "metadata": {},
   "source": [
    "Another implementation using Numpy"
   ]
  },
  {
   "cell_type": "code",
   "execution_count": null,
   "id": "d61051f8",
   "metadata": {},
   "outputs": [],
   "source": [
    "# Using numpy for the same operation\n",
    "import numpy as np"
   ]
  },
  {
   "cell_type": "code",
   "execution_count": null,
   "id": "4e4ae597",
   "metadata": {},
   "outputs": [],
   "source": [
    "# For each value in the layer_outputs, calculate the exponential value\n",
    "exp_values = np.exp(layer_outputs)\n",
    "print(\"Exponenated values: \")\n",
    "print(exp_values)\n"
   ]
  },
  {
   "cell_type": "code",
   "execution_count": null,
   "id": "71b93cbb",
   "metadata": {},
   "outputs": [],
   "source": [
    "# Time to normalize the values\n",
    "norm_values_2 = exp_values / np.sum(exp_values)\n",
    "print(\"Normalized exponentiated values:\")\n",
    "print(norm_values_2)\n",
    "print(\"Sum of normalized values:\", np.sum(norm_values_2))  # Should be 1.0"
   ]
  }
 ],
 "metadata": {
  "language_info": {
   "name": "python"
  }
 },
 "nbformat": 4,
 "nbformat_minor": 5
}
