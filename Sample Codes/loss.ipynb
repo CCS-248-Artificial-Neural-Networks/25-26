{
 "cells": [
  {
   "cell_type": "markdown",
   "id": "48b19380",
   "metadata": {},
   "source": [
    "This is a simple example of calculating the Categorical Cross Entropy Loss of the neuron's output, with respect to the target output."
   ]
  },
  {
   "cell_type": "code",
   "execution_count": null,
   "id": "04fe91ee",
   "metadata": {},
   "outputs": [],
   "source": [
    "import math\n",
    "# An example output from the output layer of the neural network\n",
    "softmax_output = [0.7, 0.1, 0.2]\n",
    "\n",
    "# Ground truth, Y\n",
    "target_output = [1, 0, 0]"
   ]
  },
  {
   "cell_type": "code",
   "execution_count": null,
   "id": "a0b7bccf",
   "metadata": {},
   "outputs": [],
   "source": [
    "# calculate the loss of each output\n",
    "loss = -(math.log(softmax_output[0]) * target_output[0] +\n",
    "         math.log(softmax_output[1]) * target_output[1] +\n",
    "         math.log(softmax_output[2]) * target_output[2])\n",
    "\n",
    "print(\"Loss of the softmax output:\", loss)\n",
    "\n",
    "# The same as\n",
    "loss2 = -math.log(softmax_output[0])\n",
    "print(loss2)"
   ]
  }
 ],
 "metadata": {
  "language_info": {
   "name": "python"
  }
 },
 "nbformat": 4,
 "nbformat_minor": 5
}
