{
 "cells": [
  {
   "cell_type": "markdown",
   "id": "6c177649",
   "metadata": {},
   "source": [
    "This is a simple implementation of a Perceptron in Python.\n",
    "\n",
    "This includes the fundamentals of Neural Networks, the neuron and its core parts: INPUTS, WEIGHTS, BIAS AND ACTIVATION FUNCTION."
   ]
  },
  {
   "cell_type": "code",
   "execution_count": null,
   "id": "38430f91",
   "metadata": {},
   "outputs": [],
   "source": [
    "# Perceptron configuration\n",
    "inputs = [1, 0, 1, 0, 1]\n",
    "weights = [0.7, 0.6, 0.5, 0.3, 0.4]\n",
    "bias = 0.5\n",
    "\n",
    "step_threshold = 0.5 # adjustable value"
   ]
  },
  {
   "cell_type": "code",
   "execution_count": null,
   "id": "96e29353",
   "metadata": {},
   "outputs": [],
   "source": [
    "# Calculate weighted sum\n",
    "weighted_sum = 0\n",
    "\n",
    "# For loop to calculate the weighted sum\n",
    "for i in range(len(inputs)):\n",
    "    weighted_sum += inputs[i] * weights[i]"
   ]
  },
  {
   "cell_type": "code",
   "execution_count": null,
   "id": "0a9e549b",
   "metadata": {},
   "outputs": [],
   "source": [
    "# Add the Bias (often time you can combined this weighted sum and bias in one step)\n",
    "weighted_sum += bias\n",
    "print('Perceptron weighted sum:', weighted_sum)"
   ]
  },
  {
   "cell_type": "code",
   "execution_count": null,
   "id": "b7c67919",
   "metadata": {},
   "outputs": [],
   "source": [
    "# Perform the activation function (step function)\n",
    "step_result = weighted_sum > step_threshold\n",
    "print(\"Perceptron output using Step Function: \"\n",
    "      , step_result)"
   ]
  }
 ],
 "metadata": {
  "language_info": {
   "name": "python"
  }
 },
 "nbformat": 4,
 "nbformat_minor": 5
}
